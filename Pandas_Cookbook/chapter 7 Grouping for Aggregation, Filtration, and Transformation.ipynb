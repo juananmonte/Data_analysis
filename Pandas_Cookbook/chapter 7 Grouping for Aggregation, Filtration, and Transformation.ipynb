{
 "cells": [
  {
   "cell_type": "markdown",
   "id": "received-gallery",
   "metadata": {},
   "source": [
    "# <span style='color:green'> Grouping for Aggregation,Filtration, and Transformation </span>"
   ]
  },
  {
   "cell_type": "markdown",
   "id": "vertical-maine",
   "metadata": {},
   "source": [
    "```referred to as split-apply-combine.```\n",
    "\n",
    "```All basic groupby operations have grouping columns, and each unique combination of values\n",
    "in these columns represents an independent grouping of the data.```"
   ]
  },
  {
   "cell_type": "markdown",
   "id": "suffering-meeting",
   "metadata": {},
   "source": [
    "```Structure of a groupby()```\n",
    "\n",
    "> ``` df.groupby(['list', 'of', 'grouping', 'columns'])```\n",
    "\n",
    "\n",
    "> ```df.groupby('single_column') # when grouping by a single column```"
   ]
  },
  {
   "cell_type": "code",
   "execution_count": 2,
   "id": "timely-collector",
   "metadata": {
    "ExecuteTime": {
     "end_time": "2021-07-19T11:00:05.082972Z",
     "start_time": "2021-07-19T11:00:03.429402Z"
    }
   },
   "outputs": [
    {
     "data": {
      "text/html": [
       "<div>\n",
       "<style scoped>\n",
       "    .dataframe tbody tr th:only-of-type {\n",
       "        vertical-align: middle;\n",
       "    }\n",
       "\n",
       "    .dataframe tbody tr th {\n",
       "        vertical-align: top;\n",
       "    }\n",
       "\n",
       "    .dataframe thead th {\n",
       "        text-align: right;\n",
       "    }\n",
       "</style>\n",
       "<table border=\"1\" class=\"dataframe\">\n",
       "  <thead>\n",
       "    <tr style=\"text-align: right;\">\n",
       "      <th></th>\n",
       "      <th>MONTH</th>\n",
       "      <th>DAY</th>\n",
       "      <th>WEEKDAY</th>\n",
       "      <th>AIRLINE</th>\n",
       "      <th>ORG_AIR</th>\n",
       "      <th>DEST_AIR</th>\n",
       "      <th>SCHED_DEP</th>\n",
       "      <th>DEP_DELAY</th>\n",
       "      <th>AIR_TIME</th>\n",
       "      <th>DIST</th>\n",
       "      <th>SCHED_ARR</th>\n",
       "      <th>ARR_DELAY</th>\n",
       "      <th>DIVERTED</th>\n",
       "      <th>CANCELLED</th>\n",
       "    </tr>\n",
       "  </thead>\n",
       "  <tbody>\n",
       "    <tr>\n",
       "      <th>0</th>\n",
       "      <td>1</td>\n",
       "      <td>1</td>\n",
       "      <td>4</td>\n",
       "      <td>WN</td>\n",
       "      <td>LAX</td>\n",
       "      <td>SLC</td>\n",
       "      <td>1625</td>\n",
       "      <td>58.0</td>\n",
       "      <td>94.0</td>\n",
       "      <td>590</td>\n",
       "      <td>1905</td>\n",
       "      <td>65.0</td>\n",
       "      <td>0</td>\n",
       "      <td>0</td>\n",
       "    </tr>\n",
       "    <tr>\n",
       "      <th>1</th>\n",
       "      <td>1</td>\n",
       "      <td>1</td>\n",
       "      <td>4</td>\n",
       "      <td>UA</td>\n",
       "      <td>DEN</td>\n",
       "      <td>IAD</td>\n",
       "      <td>823</td>\n",
       "      <td>7.0</td>\n",
       "      <td>154.0</td>\n",
       "      <td>1452</td>\n",
       "      <td>1333</td>\n",
       "      <td>-13.0</td>\n",
       "      <td>0</td>\n",
       "      <td>0</td>\n",
       "    </tr>\n",
       "    <tr>\n",
       "      <th>2</th>\n",
       "      <td>1</td>\n",
       "      <td>1</td>\n",
       "      <td>4</td>\n",
       "      <td>MQ</td>\n",
       "      <td>DFW</td>\n",
       "      <td>VPS</td>\n",
       "      <td>1305</td>\n",
       "      <td>36.0</td>\n",
       "      <td>85.0</td>\n",
       "      <td>641</td>\n",
       "      <td>1453</td>\n",
       "      <td>35.0</td>\n",
       "      <td>0</td>\n",
       "      <td>0</td>\n",
       "    </tr>\n",
       "    <tr>\n",
       "      <th>3</th>\n",
       "      <td>1</td>\n",
       "      <td>1</td>\n",
       "      <td>4</td>\n",
       "      <td>AA</td>\n",
       "      <td>DFW</td>\n",
       "      <td>DCA</td>\n",
       "      <td>1555</td>\n",
       "      <td>7.0</td>\n",
       "      <td>126.0</td>\n",
       "      <td>1192</td>\n",
       "      <td>1935</td>\n",
       "      <td>-7.0</td>\n",
       "      <td>0</td>\n",
       "      <td>0</td>\n",
       "    </tr>\n",
       "    <tr>\n",
       "      <th>4</th>\n",
       "      <td>1</td>\n",
       "      <td>1</td>\n",
       "      <td>4</td>\n",
       "      <td>WN</td>\n",
       "      <td>LAX</td>\n",
       "      <td>MCI</td>\n",
       "      <td>1720</td>\n",
       "      <td>48.0</td>\n",
       "      <td>166.0</td>\n",
       "      <td>1363</td>\n",
       "      <td>2225</td>\n",
       "      <td>39.0</td>\n",
       "      <td>0</td>\n",
       "      <td>0</td>\n",
       "    </tr>\n",
       "  </tbody>\n",
       "</table>\n",
       "</div>"
      ],
      "text/plain": [
       "   MONTH  DAY  WEEKDAY AIRLINE ORG_AIR DEST_AIR  SCHED_DEP  DEP_DELAY  \\\n",
       "0      1    1        4      WN     LAX      SLC       1625       58.0   \n",
       "1      1    1        4      UA     DEN      IAD        823        7.0   \n",
       "2      1    1        4      MQ     DFW      VPS       1305       36.0   \n",
       "3      1    1        4      AA     DFW      DCA       1555        7.0   \n",
       "4      1    1        4      WN     LAX      MCI       1720       48.0   \n",
       "\n",
       "   AIR_TIME  DIST  SCHED_ARR  ARR_DELAY  DIVERTED  CANCELLED  \n",
       "0      94.0   590       1905       65.0         0          0  \n",
       "1     154.0  1452       1333      -13.0         0          0  \n",
       "2      85.0   641       1453       35.0         0          0  \n",
       "3     126.0  1192       1935       -7.0         0          0  \n",
       "4     166.0  1363       2225       39.0         0          0  "
      ]
     },
     "execution_count": 2,
     "metadata": {},
     "output_type": "execute_result"
    }
   ],
   "source": [
    "url = \"https://raw.githubusercontent.com/PacktPublishing/Pandas-Cookbook/master/data/flights.csv\"\n",
    "flights = pd.read_csv(url)\n",
    "flights.head()"
   ]
  },
  {
   "cell_type": "markdown",
   "id": "promising-monte",
   "metadata": {},
   "source": [
    "> ```The most common use of the groupby method is to perform an aggregation.```\n",
    "\n",
    "An aggregation takes place when a sequence of many inputs get summarized or combined into a single value output.\n",
    "\n",
    "For example, summing up all the values of a column or finding its maximum are common aggregations\n",
    "applied on a single sequence of data. \n",
    "\n",
    "> ```An aggregation simply takes many values and converts them down to a single value.```"
   ]
  },
  {
   "cell_type": "code",
   "execution_count": 3,
   "id": "convinced-emperor",
   "metadata": {
    "ExecuteTime": {
     "end_time": "2021-07-19T11:00:05.145995Z",
     "start_time": "2021-07-19T11:00:05.118975Z"
    }
   },
   "outputs": [
    {
     "data": {
      "text/html": [
       "<div>\n",
       "<style scoped>\n",
       "    .dataframe tbody tr th:only-of-type {\n",
       "        vertical-align: middle;\n",
       "    }\n",
       "\n",
       "    .dataframe tbody tr th {\n",
       "        vertical-align: top;\n",
       "    }\n",
       "\n",
       "    .dataframe thead th {\n",
       "        text-align: right;\n",
       "    }\n",
       "</style>\n",
       "<table border=\"1\" class=\"dataframe\">\n",
       "  <thead>\n",
       "    <tr style=\"text-align: right;\">\n",
       "      <th></th>\n",
       "      <th>ARR_DELAY</th>\n",
       "    </tr>\n",
       "    <tr>\n",
       "      <th>AIRLINE</th>\n",
       "      <th></th>\n",
       "    </tr>\n",
       "  </thead>\n",
       "  <tbody>\n",
       "    <tr>\n",
       "      <th>AA</th>\n",
       "      <td>5.542661</td>\n",
       "    </tr>\n",
       "    <tr>\n",
       "      <th>AS</th>\n",
       "      <td>-0.833333</td>\n",
       "    </tr>\n",
       "    <tr>\n",
       "      <th>B6</th>\n",
       "      <td>8.692593</td>\n",
       "    </tr>\n",
       "    <tr>\n",
       "      <th>DL</th>\n",
       "      <td>0.339691</td>\n",
       "    </tr>\n",
       "    <tr>\n",
       "      <th>EV</th>\n",
       "      <td>7.034580</td>\n",
       "    </tr>\n",
       "  </tbody>\n",
       "</table>\n",
       "</div>"
      ],
      "text/plain": [
       "         ARR_DELAY\n",
       "AIRLINE           \n",
       "AA        5.542661\n",
       "AS       -0.833333\n",
       "B6        8.692593\n",
       "DL        0.339691\n",
       "EV        7.034580"
      ]
     },
     "execution_count": 3,
     "metadata": {},
     "output_type": "execute_result"
    }
   ],
   "source": [
    "flights.groupby('AIRLINE').agg({'ARR_DELAY':'mean'}).head() #agg([columna a operar: operacion])"
   ]
  },
  {
   "cell_type": "code",
   "execution_count": 4,
   "id": "fifty-check",
   "metadata": {
    "ExecuteTime": {
     "end_time": "2021-07-19T11:00:05.178000Z",
     "start_time": "2021-07-19T11:00:05.147973Z"
    }
   },
   "outputs": [
    {
     "data": {
      "text/plain": [
       "AIRLINE\n",
       "AA    5.542661\n",
       "AS   -0.833333\n",
       "B6    8.692593\n",
       "DL    0.339691\n",
       "EV    7.034580\n",
       "Name: ARR_DELAY, dtype: float64"
      ]
     },
     "execution_count": 4,
     "metadata": {},
     "output_type": "execute_result"
    }
   ],
   "source": [
    "#or like this. this puts the aggregate column (ARR_DELAY) in the index operator and pass the agg function as A STRING\n",
    "flights.groupby('AIRLINE')['ARR_DELAY'].agg('mean').head()\n",
    "#o tmabien podemos pasar cualquier numpy function \n",
    "flights.groupby('AIRLINE')['ARR_DELAY'].agg(np.mean).head()"
   ]
  },
  {
   "cell_type": "code",
   "execution_count": 5,
   "id": "starting-titanium",
   "metadata": {
    "ExecuteTime": {
     "end_time": "2021-07-19T11:00:05.255999Z",
     "start_time": "2021-07-19T11:00:05.226984Z"
    }
   },
   "outputs": [
    {
     "data": {
      "text/plain": [
       "AIRLINE\n",
       "AA    5.542661\n",
       "AS   -0.833333\n",
       "B6    8.692593\n",
       "DL    0.339691\n",
       "EV    7.034580\n",
       "Name: ARR_DELAY, dtype: float64"
      ]
     },
     "execution_count": 5,
     "metadata": {},
     "output_type": "execute_result"
    }
   ],
   "source": [
    "#o mucho mejor (bueno, mas corto)\n",
    "flights.groupby('AIRLINE')['ARR_DELAY'].mean().head()"
   ]
  },
  {
   "cell_type": "markdown",
   "id": "rocky-hearing",
   "metadata": {},
   "source": [
    "```The following is a list of several aggregating functions that may be passed as a\n",
    "string to agg or chained directly as a method to```\n",
    "\n",
    ">min max mean median sum count std var\n",
    "\n",
    ">size describe nunique idxmin idxmax"
   ]
  },
  {
   "cell_type": "markdown",
   "id": "ordered-validity",
   "metadata": {},
   "source": [
    "## Grouping and aggregating with multiple columns and functions"
   ]
  },
  {
   "cell_type": "markdown",
   "id": "korean-geography",
   "metadata": {},
   "source": [
    "```As usual with any kind of grouping operation, it helps to identify the three components: the\n",
    "grouping columns, aggregating columns, and aggregating functions.```"
   ]
  },
  {
   "cell_type": "code",
   "execution_count": 6,
   "id": "piano-courage",
   "metadata": {
    "ExecuteTime": {
     "end_time": "2021-07-19T11:00:05.302996Z",
     "start_time": "2021-07-19T11:00:05.274971Z"
    }
   },
   "outputs": [
    {
     "data": {
      "text/plain": [
       "AIRLINE  WEEKDAY\n",
       "AA       1          41\n",
       "         2           9\n",
       "         3          16\n",
       "         4          20\n",
       "         5          18\n",
       "Name: CANCELLED, dtype: int64"
      ]
     },
     "execution_count": 6,
     "metadata": {},
     "output_type": "execute_result"
    }
   ],
   "source": [
    "#Finding the number(the aggregate function) of cancelled flights (the aggregate column) \n",
    "#for every airline per weekday (the grouping columns)\n",
    "flights.groupby(['AIRLINE', 'WEEKDAY'])['CANCELLED'].agg('sum').head()"
   ]
  },
  {
   "cell_type": "code",
   "execution_count": 7,
   "id": "generous-lawyer",
   "metadata": {
    "ExecuteTime": {
     "end_time": "2021-07-19T11:00:05.398971Z",
     "start_time": "2021-07-19T11:00:05.339003Z"
    }
   },
   "outputs": [
    {
     "name": "stderr",
     "output_type": "stream",
     "text": [
      "<ipython-input-7-16c665a611c6>:2: FutureWarning: Indexing with multiple keys (implicitly converted to a tuple of keys) will be deprecated, use a list instead.\n",
      "  flights.groupby(['AIRLINE', 'WEEKDAY'])['CANCELLED', 'DIVERTED'].agg(['sum', 'mean']).head(7)\n"
     ]
    },
    {
     "data": {
      "text/html": [
       "<div>\n",
       "<style scoped>\n",
       "    .dataframe tbody tr th:only-of-type {\n",
       "        vertical-align: middle;\n",
       "    }\n",
       "\n",
       "    .dataframe tbody tr th {\n",
       "        vertical-align: top;\n",
       "    }\n",
       "\n",
       "    .dataframe thead tr th {\n",
       "        text-align: left;\n",
       "    }\n",
       "\n",
       "    .dataframe thead tr:last-of-type th {\n",
       "        text-align: right;\n",
       "    }\n",
       "</style>\n",
       "<table border=\"1\" class=\"dataframe\">\n",
       "  <thead>\n",
       "    <tr>\n",
       "      <th></th>\n",
       "      <th></th>\n",
       "      <th colspan=\"2\" halign=\"left\">CANCELLED</th>\n",
       "      <th colspan=\"2\" halign=\"left\">DIVERTED</th>\n",
       "    </tr>\n",
       "    <tr>\n",
       "      <th></th>\n",
       "      <th></th>\n",
       "      <th>sum</th>\n",
       "      <th>mean</th>\n",
       "      <th>sum</th>\n",
       "      <th>mean</th>\n",
       "    </tr>\n",
       "    <tr>\n",
       "      <th>AIRLINE</th>\n",
       "      <th>WEEKDAY</th>\n",
       "      <th></th>\n",
       "      <th></th>\n",
       "      <th></th>\n",
       "      <th></th>\n",
       "    </tr>\n",
       "  </thead>\n",
       "  <tbody>\n",
       "    <tr>\n",
       "      <th rowspan=\"7\" valign=\"top\">AA</th>\n",
       "      <th>1</th>\n",
       "      <td>41</td>\n",
       "      <td>0.032106</td>\n",
       "      <td>6</td>\n",
       "      <td>0.004699</td>\n",
       "    </tr>\n",
       "    <tr>\n",
       "      <th>2</th>\n",
       "      <td>9</td>\n",
       "      <td>0.007341</td>\n",
       "      <td>2</td>\n",
       "      <td>0.001631</td>\n",
       "    </tr>\n",
       "    <tr>\n",
       "      <th>3</th>\n",
       "      <td>16</td>\n",
       "      <td>0.011949</td>\n",
       "      <td>2</td>\n",
       "      <td>0.001494</td>\n",
       "    </tr>\n",
       "    <tr>\n",
       "      <th>4</th>\n",
       "      <td>20</td>\n",
       "      <td>0.015004</td>\n",
       "      <td>5</td>\n",
       "      <td>0.003751</td>\n",
       "    </tr>\n",
       "    <tr>\n",
       "      <th>5</th>\n",
       "      <td>18</td>\n",
       "      <td>0.014151</td>\n",
       "      <td>1</td>\n",
       "      <td>0.000786</td>\n",
       "    </tr>\n",
       "    <tr>\n",
       "      <th>6</th>\n",
       "      <td>21</td>\n",
       "      <td>0.018667</td>\n",
       "      <td>9</td>\n",
       "      <td>0.008000</td>\n",
       "    </tr>\n",
       "    <tr>\n",
       "      <th>7</th>\n",
       "      <td>29</td>\n",
       "      <td>0.021837</td>\n",
       "      <td>1</td>\n",
       "      <td>0.000753</td>\n",
       "    </tr>\n",
       "  </tbody>\n",
       "</table>\n",
       "</div>"
      ],
      "text/plain": [
       "                CANCELLED           DIVERTED          \n",
       "                      sum      mean      sum      mean\n",
       "AIRLINE WEEKDAY                                       \n",
       "AA      1              41  0.032106        6  0.004699\n",
       "        2               9  0.007341        2  0.001631\n",
       "        3              16  0.011949        2  0.001494\n",
       "        4              20  0.015004        5  0.003751\n",
       "        5              18  0.014151        1  0.000786\n",
       "        6              21  0.018667        9  0.008000\n",
       "        7              29  0.021837        1  0.000753"
      ]
     },
     "execution_count": 7,
     "metadata": {},
     "output_type": "execute_result"
    }
   ],
   "source": [
    "#Finding the number and percentage of cancelled and diverted flights for every airline per weekday\n",
    "flights.groupby(['AIRLINE', 'WEEKDAY'])['CANCELLED', 'DIVERTED'].agg(['sum', 'mean']).head(7)"
   ]
  },
  {
   "cell_type": "code",
   "execution_count": 8,
   "id": "latter-signal",
   "metadata": {
    "ExecuteTime": {
     "end_time": "2021-07-19T11:00:05.462969Z",
     "start_time": "2021-07-19T11:00:05.417986Z"
    }
   },
   "outputs": [
    {
     "data": {
      "text/html": [
       "<div>\n",
       "<style scoped>\n",
       "    .dataframe tbody tr th:only-of-type {\n",
       "        vertical-align: middle;\n",
       "    }\n",
       "\n",
       "    .dataframe tbody tr th {\n",
       "        vertical-align: top;\n",
       "    }\n",
       "\n",
       "    .dataframe thead tr th {\n",
       "        text-align: left;\n",
       "    }\n",
       "\n",
       "    .dataframe thead tr:last-of-type th {\n",
       "        text-align: right;\n",
       "    }\n",
       "</style>\n",
       "<table border=\"1\" class=\"dataframe\">\n",
       "  <thead>\n",
       "    <tr>\n",
       "      <th></th>\n",
       "      <th></th>\n",
       "      <th colspan=\"3\" halign=\"left\">CANCELLED</th>\n",
       "      <th colspan=\"2\" halign=\"left\">AIR_TIME</th>\n",
       "    </tr>\n",
       "    <tr>\n",
       "      <th></th>\n",
       "      <th></th>\n",
       "      <th>sum</th>\n",
       "      <th>mean</th>\n",
       "      <th>size</th>\n",
       "      <th>mean</th>\n",
       "      <th>var</th>\n",
       "    </tr>\n",
       "    <tr>\n",
       "      <th>ORG_AIR</th>\n",
       "      <th>DEST_AIR</th>\n",
       "      <th></th>\n",
       "      <th></th>\n",
       "      <th></th>\n",
       "      <th></th>\n",
       "      <th></th>\n",
       "    </tr>\n",
       "  </thead>\n",
       "  <tbody>\n",
       "    <tr>\n",
       "      <th rowspan=\"5\" valign=\"top\">ATL</th>\n",
       "      <th>ABE</th>\n",
       "      <td>0</td>\n",
       "      <td>0.0</td>\n",
       "      <td>31</td>\n",
       "      <td>96.387097</td>\n",
       "      <td>45.778495</td>\n",
       "    </tr>\n",
       "    <tr>\n",
       "      <th>ABQ</th>\n",
       "      <td>0</td>\n",
       "      <td>0.0</td>\n",
       "      <td>16</td>\n",
       "      <td>170.500000</td>\n",
       "      <td>87.866667</td>\n",
       "    </tr>\n",
       "    <tr>\n",
       "      <th>ABY</th>\n",
       "      <td>0</td>\n",
       "      <td>0.0</td>\n",
       "      <td>19</td>\n",
       "      <td>28.578947</td>\n",
       "      <td>6.590643</td>\n",
       "    </tr>\n",
       "    <tr>\n",
       "      <th>ACY</th>\n",
       "      <td>0</td>\n",
       "      <td>0.0</td>\n",
       "      <td>6</td>\n",
       "      <td>91.333333</td>\n",
       "      <td>11.466667</td>\n",
       "    </tr>\n",
       "    <tr>\n",
       "      <th>AEX</th>\n",
       "      <td>0</td>\n",
       "      <td>0.0</td>\n",
       "      <td>40</td>\n",
       "      <td>78.725000</td>\n",
       "      <td>47.332692</td>\n",
       "    </tr>\n",
       "  </tbody>\n",
       "</table>\n",
       "</div>"
      ],
      "text/plain": [
       "                 CANCELLED              AIR_TIME           \n",
       "                       sum mean size        mean        var\n",
       "ORG_AIR DEST_AIR                                           \n",
       "ATL     ABE              0  0.0   31   96.387097  45.778495\n",
       "        ABQ              0  0.0   16  170.500000  87.866667\n",
       "        ABY              0  0.0   19   28.578947   6.590643\n",
       "        ACY              0  0.0    6   91.333333  11.466667\n",
       "        AEX              0  0.0   40   78.725000  47.332692"
      ]
     },
     "execution_count": 8,
     "metadata": {},
     "output_type": "execute_result"
    }
   ],
   "source": [
    "#For each origin and destination, finding the total number, the number\n",
    "#and percentage of cancelled flights. Also the average and variance of the airtime\n",
    "agg_dict = {'CANCELLED':['sum', 'mean', 'size'], 'AIR_TIME': ['mean', 'var']} #define the agg functions in a list per agg colum\n",
    "flights.groupby(['ORG_AIR', 'DEST_AIR']).agg(agg_dict).head()"
   ]
  },
  {
   "cell_type": "markdown",
   "id": "communist-preserve",
   "metadata": {},
   "source": [
    "#### Basicamente, este es el esqueleto de lo anterior\n",
    "\n",
    "```df.groupby(['grouping', 'columns']).agg({'agg_cols1':['list', 'of', 'functions'], 'agg_cols2':['other', 'functions']})```"
   ]
  },
  {
   "cell_type": "markdown",
   "id": "usual-engineering",
   "metadata": {},
   "source": [
    "## Removing the MultiIndex after grouping"
   ]
  },
  {
   "cell_type": "code",
   "execution_count": 9,
   "id": "color-description",
   "metadata": {
    "ExecuteTime": {
     "end_time": "2021-07-19T11:00:06.375998Z",
     "start_time": "2021-07-19T11:00:06.336008Z"
    }
   },
   "outputs": [
    {
     "data": {
      "text/html": [
       "<div>\n",
       "<style scoped>\n",
       "    .dataframe tbody tr th:only-of-type {\n",
       "        vertical-align: middle;\n",
       "    }\n",
       "\n",
       "    .dataframe tbody tr th {\n",
       "        vertical-align: top;\n",
       "    }\n",
       "\n",
       "    .dataframe thead tr th {\n",
       "        text-align: left;\n",
       "    }\n",
       "\n",
       "    .dataframe thead tr:last-of-type th {\n",
       "        text-align: right;\n",
       "    }\n",
       "</style>\n",
       "<table border=\"1\" class=\"dataframe\">\n",
       "  <thead>\n",
       "    <tr>\n",
       "      <th></th>\n",
       "      <th></th>\n",
       "      <th colspan=\"2\" halign=\"left\">DIST</th>\n",
       "      <th colspan=\"2\" halign=\"left\">ARR_DELAY</th>\n",
       "    </tr>\n",
       "    <tr>\n",
       "      <th></th>\n",
       "      <th></th>\n",
       "      <th>sum</th>\n",
       "      <th>mean</th>\n",
       "      <th>min</th>\n",
       "      <th>max</th>\n",
       "    </tr>\n",
       "    <tr>\n",
       "      <th>AIRLINE</th>\n",
       "      <th>WEEKDAY</th>\n",
       "      <th></th>\n",
       "      <th></th>\n",
       "      <th></th>\n",
       "      <th></th>\n",
       "    </tr>\n",
       "  </thead>\n",
       "  <tbody>\n",
       "    <tr>\n",
       "      <th rowspan=\"5\" valign=\"top\">AA</th>\n",
       "      <th>1</th>\n",
       "      <td>1455386</td>\n",
       "      <td>1139.691464</td>\n",
       "      <td>-60.0</td>\n",
       "      <td>551.0</td>\n",
       "    </tr>\n",
       "    <tr>\n",
       "      <th>2</th>\n",
       "      <td>1358256</td>\n",
       "      <td>1107.876020</td>\n",
       "      <td>-52.0</td>\n",
       "      <td>725.0</td>\n",
       "    </tr>\n",
       "    <tr>\n",
       "      <th>3</th>\n",
       "      <td>1496665</td>\n",
       "      <td>1117.748320</td>\n",
       "      <td>-45.0</td>\n",
       "      <td>473.0</td>\n",
       "    </tr>\n",
       "    <tr>\n",
       "      <th>4</th>\n",
       "      <td>1452394</td>\n",
       "      <td>1089.567892</td>\n",
       "      <td>-46.0</td>\n",
       "      <td>349.0</td>\n",
       "    </tr>\n",
       "    <tr>\n",
       "      <th>5</th>\n",
       "      <td>1427749</td>\n",
       "      <td>1122.444182</td>\n",
       "      <td>-41.0</td>\n",
       "      <td>732.0</td>\n",
       "    </tr>\n",
       "  </tbody>\n",
       "</table>\n",
       "</div>"
      ],
      "text/plain": [
       "                    DIST              ARR_DELAY       \n",
       "                     sum         mean       min    max\n",
       "AIRLINE WEEKDAY                                       \n",
       "AA      1        1455386  1139.691464     -60.0  551.0\n",
       "        2        1358256  1107.876020     -52.0  725.0\n",
       "        3        1496665  1117.748320     -45.0  473.0\n",
       "        4        1452394  1089.567892     -46.0  349.0\n",
       "        5        1427749  1122.444182     -41.0  732.0"
      ]
     },
     "execution_count": 9,
     "metadata": {},
     "output_type": "execute_result"
    }
   ],
   "source": [
    "#DataFrames with MultiIndexes are more difficult to navigate and occasionally have confusing column names as well.\n",
    "dictio = {'DIST': ['sum', 'mean'], 'ARR_DELAY':['min', 'max']}\n",
    "\n",
    "airline = flights.groupby(['AIRLINE', 'WEEKDAY']).agg(dictio).head()\n",
    "airline"
   ]
  },
  {
   "cell_type": "code",
   "execution_count": 10,
   "id": "significant-sterling",
   "metadata": {
    "ExecuteTime": {
     "end_time": "2021-07-19T11:00:06.596271Z",
     "start_time": "2021-07-19T11:00:06.588270Z"
    }
   },
   "outputs": [
    {
     "data": {
      "text/plain": [
       "Index(['DIST', 'DIST', 'ARR_DELAY', 'ARR_DELAY'], dtype='object')"
      ]
     },
     "execution_count": 10,
     "metadata": {},
     "output_type": "execute_result"
    }
   ],
   "source": [
    "#como lidiamos con los multiindex? con --------columns. + get_level_values-------\n",
    "level0 = airline.columns.get_level_values(0) #0 es la columna mas arriba\n",
    "level0"
   ]
  },
  {
   "cell_type": "code",
   "execution_count": 11,
   "id": "drawn-defeat",
   "metadata": {
    "ExecuteTime": {
     "end_time": "2021-07-19T11:00:07.315544Z",
     "start_time": "2021-07-19T11:00:07.308541Z"
    }
   },
   "outputs": [
    {
     "data": {
      "text/plain": [
       "Index(['sum', 'mean', 'min', 'max'], dtype='object')"
      ]
     },
     "execution_count": 11,
     "metadata": {},
     "output_type": "execute_result"
    }
   ],
   "source": [
    "level1 = airline.columns.get_level_values(1)\n",
    "level1"
   ]
  },
  {
   "cell_type": "code",
   "execution_count": 12,
   "id": "combined-coupon",
   "metadata": {
    "ExecuteTime": {
     "end_time": "2021-07-19T11:00:07.941641Z",
     "start_time": "2021-07-19T11:00:07.894616Z"
    }
   },
   "outputs": [],
   "source": [
    "#Now, we unite them\n",
    "airline.columns = level0 + '_' + level1"
   ]
  },
  {
   "cell_type": "code",
   "execution_count": 13,
   "id": "legislative-pleasure",
   "metadata": {
    "ExecuteTime": {
     "end_time": "2021-07-19T11:00:09.141512Z",
     "start_time": "2021-07-19T11:00:09.126512Z"
    }
   },
   "outputs": [
    {
     "data": {
      "text/html": [
       "<div>\n",
       "<style scoped>\n",
       "    .dataframe tbody tr th:only-of-type {\n",
       "        vertical-align: middle;\n",
       "    }\n",
       "\n",
       "    .dataframe tbody tr th {\n",
       "        vertical-align: top;\n",
       "    }\n",
       "\n",
       "    .dataframe thead th {\n",
       "        text-align: right;\n",
       "    }\n",
       "</style>\n",
       "<table border=\"1\" class=\"dataframe\">\n",
       "  <thead>\n",
       "    <tr style=\"text-align: right;\">\n",
       "      <th></th>\n",
       "      <th></th>\n",
       "      <th>DIST_sum</th>\n",
       "      <th>DIST_mean</th>\n",
       "      <th>ARR_DELAY_min</th>\n",
       "      <th>ARR_DELAY_max</th>\n",
       "    </tr>\n",
       "    <tr>\n",
       "      <th>AIRLINE</th>\n",
       "      <th>WEEKDAY</th>\n",
       "      <th></th>\n",
       "      <th></th>\n",
       "      <th></th>\n",
       "      <th></th>\n",
       "    </tr>\n",
       "  </thead>\n",
       "  <tbody>\n",
       "    <tr>\n",
       "      <th rowspan=\"5\" valign=\"top\">AA</th>\n",
       "      <th>1</th>\n",
       "      <td>1455386</td>\n",
       "      <td>1139.691464</td>\n",
       "      <td>-60.0</td>\n",
       "      <td>551.0</td>\n",
       "    </tr>\n",
       "    <tr>\n",
       "      <th>2</th>\n",
       "      <td>1358256</td>\n",
       "      <td>1107.876020</td>\n",
       "      <td>-52.0</td>\n",
       "      <td>725.0</td>\n",
       "    </tr>\n",
       "    <tr>\n",
       "      <th>3</th>\n",
       "      <td>1496665</td>\n",
       "      <td>1117.748320</td>\n",
       "      <td>-45.0</td>\n",
       "      <td>473.0</td>\n",
       "    </tr>\n",
       "    <tr>\n",
       "      <th>4</th>\n",
       "      <td>1452394</td>\n",
       "      <td>1089.567892</td>\n",
       "      <td>-46.0</td>\n",
       "      <td>349.0</td>\n",
       "    </tr>\n",
       "    <tr>\n",
       "      <th>5</th>\n",
       "      <td>1427749</td>\n",
       "      <td>1122.444182</td>\n",
       "      <td>-41.0</td>\n",
       "      <td>732.0</td>\n",
       "    </tr>\n",
       "  </tbody>\n",
       "</table>\n",
       "</div>"
      ],
      "text/plain": [
       "                 DIST_sum    DIST_mean  ARR_DELAY_min  ARR_DELAY_max\n",
       "AIRLINE WEEKDAY                                                     \n",
       "AA      1         1455386  1139.691464          -60.0          551.0\n",
       "        2         1358256  1107.876020          -52.0          725.0\n",
       "        3         1496665  1117.748320          -45.0          473.0\n",
       "        4         1452394  1089.567892          -46.0          349.0\n",
       "        5         1427749  1122.444182          -41.0          732.0"
      ]
     },
     "execution_count": 13,
     "metadata": {},
     "output_type": "execute_result"
    }
   ],
   "source": [
    "airline #mas facil para procesar. PERO! todavia tenemos la columna de airline"
   ]
  },
  {
   "cell_type": "code",
   "execution_count": 14,
   "id": "single-factor",
   "metadata": {
    "ExecuteTime": {
     "end_time": "2021-07-19T11:00:09.378264Z",
     "start_time": "2021-07-19T11:00:09.364263Z"
    }
   },
   "outputs": [],
   "source": [
    "#reset index\n",
    "airline.reset_index(inplace=True)"
   ]
  },
  {
   "cell_type": "code",
   "execution_count": 15,
   "id": "changed-sunglasses",
   "metadata": {
    "ExecuteTime": {
     "end_time": "2021-07-19T11:00:09.579049Z",
     "start_time": "2021-07-19T11:00:09.554017Z"
    }
   },
   "outputs": [
    {
     "data": {
      "text/html": [
       "<div>\n",
       "<style scoped>\n",
       "    .dataframe tbody tr th:only-of-type {\n",
       "        vertical-align: middle;\n",
       "    }\n",
       "\n",
       "    .dataframe tbody tr th {\n",
       "        vertical-align: top;\n",
       "    }\n",
       "\n",
       "    .dataframe thead th {\n",
       "        text-align: right;\n",
       "    }\n",
       "</style>\n",
       "<table border=\"1\" class=\"dataframe\">\n",
       "  <thead>\n",
       "    <tr style=\"text-align: right;\">\n",
       "      <th></th>\n",
       "      <th>AIRLINE</th>\n",
       "      <th>WEEKDAY</th>\n",
       "      <th>DIST_sum</th>\n",
       "      <th>DIST_mean</th>\n",
       "      <th>ARR_DELAY_min</th>\n",
       "      <th>ARR_DELAY_max</th>\n",
       "    </tr>\n",
       "  </thead>\n",
       "  <tbody>\n",
       "    <tr>\n",
       "      <th>0</th>\n",
       "      <td>AA</td>\n",
       "      <td>1</td>\n",
       "      <td>1455386</td>\n",
       "      <td>1139.691464</td>\n",
       "      <td>-60.0</td>\n",
       "      <td>551.0</td>\n",
       "    </tr>\n",
       "    <tr>\n",
       "      <th>1</th>\n",
       "      <td>AA</td>\n",
       "      <td>2</td>\n",
       "      <td>1358256</td>\n",
       "      <td>1107.876020</td>\n",
       "      <td>-52.0</td>\n",
       "      <td>725.0</td>\n",
       "    </tr>\n",
       "    <tr>\n",
       "      <th>2</th>\n",
       "      <td>AA</td>\n",
       "      <td>3</td>\n",
       "      <td>1496665</td>\n",
       "      <td>1117.748320</td>\n",
       "      <td>-45.0</td>\n",
       "      <td>473.0</td>\n",
       "    </tr>\n",
       "    <tr>\n",
       "      <th>3</th>\n",
       "      <td>AA</td>\n",
       "      <td>4</td>\n",
       "      <td>1452394</td>\n",
       "      <td>1089.567892</td>\n",
       "      <td>-46.0</td>\n",
       "      <td>349.0</td>\n",
       "    </tr>\n",
       "    <tr>\n",
       "      <th>4</th>\n",
       "      <td>AA</td>\n",
       "      <td>5</td>\n",
       "      <td>1427749</td>\n",
       "      <td>1122.444182</td>\n",
       "      <td>-41.0</td>\n",
       "      <td>732.0</td>\n",
       "    </tr>\n",
       "  </tbody>\n",
       "</table>\n",
       "</div>"
      ],
      "text/plain": [
       "  AIRLINE  WEEKDAY  DIST_sum    DIST_mean  ARR_DELAY_min  ARR_DELAY_max\n",
       "0      AA        1   1455386  1139.691464          -60.0          551.0\n",
       "1      AA        2   1358256  1107.876020          -52.0          725.0\n",
       "2      AA        3   1496665  1117.748320          -45.0          473.0\n",
       "3      AA        4   1452394  1089.567892          -46.0          349.0\n",
       "4      AA        5   1427749  1122.444182          -41.0          732.0"
      ]
     },
     "execution_count": 15,
     "metadata": {},
     "output_type": "execute_result"
    }
   ],
   "source": [
    "airline #ahora ya se puede procesar chiler0"
   ]
  },
  {
   "cell_type": "markdown",
   "id": "lesser-payday",
   "metadata": {},
   "source": [
    "```By default, at the end of a groupby operation, pandas puts all of the grouping columns in the index.``` \n",
    "\n",
    "```The as_index parameter in the groupby method can be set to False to avoid this behavior.```"
   ]
  },
  {
   "cell_type": "code",
   "execution_count": 16,
   "id": "arabic-richards",
   "metadata": {
    "ExecuteTime": {
     "end_time": "2021-07-19T11:00:10.299984Z",
     "start_time": "2021-07-19T11:00:10.257965Z"
    }
   },
   "outputs": [],
   "source": [
    "dictio = {'DIST': ['sum', 'mean'], 'ARR_DELAY':['min', 'max']}\n",
    "\n",
    "airline1 = flights.groupby(['AIRLINE', 'WEEKDAY'], as_index=False).agg(dictio).head()"
   ]
  },
  {
   "cell_type": "code",
   "execution_count": 17,
   "id": "bronze-commerce",
   "metadata": {
    "ExecuteTime": {
     "end_time": "2021-07-19T11:00:11.452914Z",
     "start_time": "2021-07-19T11:00:11.424935Z"
    }
   },
   "outputs": [
    {
     "data": {
      "text/html": [
       "<div>\n",
       "<style scoped>\n",
       "    .dataframe tbody tr th:only-of-type {\n",
       "        vertical-align: middle;\n",
       "    }\n",
       "\n",
       "    .dataframe tbody tr th {\n",
       "        vertical-align: top;\n",
       "    }\n",
       "\n",
       "    .dataframe thead tr th {\n",
       "        text-align: left;\n",
       "    }\n",
       "</style>\n",
       "<table border=\"1\" class=\"dataframe\">\n",
       "  <thead>\n",
       "    <tr>\n",
       "      <th></th>\n",
       "      <th>AIRLINE</th>\n",
       "      <th>WEEKDAY</th>\n",
       "      <th colspan=\"2\" halign=\"left\">DIST</th>\n",
       "      <th colspan=\"2\" halign=\"left\">ARR_DELAY</th>\n",
       "    </tr>\n",
       "    <tr>\n",
       "      <th></th>\n",
       "      <th></th>\n",
       "      <th></th>\n",
       "      <th>sum</th>\n",
       "      <th>mean</th>\n",
       "      <th>min</th>\n",
       "      <th>max</th>\n",
       "    </tr>\n",
       "  </thead>\n",
       "  <tbody>\n",
       "    <tr>\n",
       "      <th>0</th>\n",
       "      <td>AA</td>\n",
       "      <td>1</td>\n",
       "      <td>1455386</td>\n",
       "      <td>1139.691464</td>\n",
       "      <td>-60.0</td>\n",
       "      <td>551.0</td>\n",
       "    </tr>\n",
       "    <tr>\n",
       "      <th>1</th>\n",
       "      <td>AA</td>\n",
       "      <td>2</td>\n",
       "      <td>1358256</td>\n",
       "      <td>1107.876020</td>\n",
       "      <td>-52.0</td>\n",
       "      <td>725.0</td>\n",
       "    </tr>\n",
       "    <tr>\n",
       "      <th>2</th>\n",
       "      <td>AA</td>\n",
       "      <td>3</td>\n",
       "      <td>1496665</td>\n",
       "      <td>1117.748320</td>\n",
       "      <td>-45.0</td>\n",
       "      <td>473.0</td>\n",
       "    </tr>\n",
       "    <tr>\n",
       "      <th>3</th>\n",
       "      <td>AA</td>\n",
       "      <td>4</td>\n",
       "      <td>1452394</td>\n",
       "      <td>1089.567892</td>\n",
       "      <td>-46.0</td>\n",
       "      <td>349.0</td>\n",
       "    </tr>\n",
       "    <tr>\n",
       "      <th>4</th>\n",
       "      <td>AA</td>\n",
       "      <td>5</td>\n",
       "      <td>1427749</td>\n",
       "      <td>1122.444182</td>\n",
       "      <td>-41.0</td>\n",
       "      <td>732.0</td>\n",
       "    </tr>\n",
       "  </tbody>\n",
       "</table>\n",
       "</div>"
      ],
      "text/plain": [
       "  AIRLINE WEEKDAY     DIST              ARR_DELAY       \n",
       "                       sum         mean       min    max\n",
       "0      AA       1  1455386  1139.691464     -60.0  551.0\n",
       "1      AA       2  1358256  1107.876020     -52.0  725.0\n",
       "2      AA       3  1496665  1117.748320     -45.0  473.0\n",
       "3      AA       4  1452394  1089.567892     -46.0  349.0\n",
       "4      AA       5  1427749  1122.444182     -41.0  732.0"
      ]
     },
     "execution_count": 17,
     "metadata": {},
     "output_type": "execute_result"
    }
   ],
   "source": [
    "airline1 #BUT we, still need to deal with the sum, mean and the aggregate funtions. the level1 and level 0 "
   ]
  },
  {
   "cell_type": "markdown",
   "id": "absolute-louis",
   "metadata": {},
   "source": [
    "## Customizing an aggregation function"
   ]
  },
  {
   "cell_type": "code",
   "execution_count": 6,
   "id": "composite-frame",
   "metadata": {
    "ExecuteTime": {
     "end_time": "2021-03-26T03:21:30.053666Z",
     "start_time": "2021-03-26T03:21:28.281972Z"
    }
   },
   "outputs": [],
   "source": [
    "url = \"https://raw.githubusercontent.com/PacktPublishing/Pandas-Cookbook/master/data/college.csv\"\n",
    "college = pd.read_csv(url)"
   ]
  },
  {
   "cell_type": "code",
   "execution_count": 7,
   "id": "large-crawford",
   "metadata": {
    "ExecuteTime": {
     "end_time": "2021-03-26T03:21:42.085142Z",
     "start_time": "2021-03-26T03:21:42.068091Z"
    }
   },
   "outputs": [],
   "source": [
    "#creating a normal function:\n",
    "#the maximum number of standard deviations away from the mean for any one institution.\n",
    "def max_deviation(s):\n",
    "    std_score = (s - s.mean())/s.std()\n",
    "    return std_score.abs().max()"
   ]
  },
  {
   "cell_type": "code",
   "execution_count": 8,
   "id": "handled-papua",
   "metadata": {
    "ExecuteTime": {
     "end_time": "2021-03-26T03:21:42.968698Z",
     "start_time": "2021-03-26T03:21:42.700704Z"
    }
   },
   "outputs": [
    {
     "data": {
      "text/plain": [
       "STABBR\n",
       "AK    2.6\n",
       "AL    5.8\n",
       "AR    6.3\n",
       "AS    NaN\n",
       "AZ    9.9\n",
       "Name: UGDS, dtype: float64"
      ]
     },
     "execution_count": 8,
     "metadata": {},
     "output_type": "execute_result"
    }
   ],
   "source": [
    "college.groupby('STABBR')['UGDS'].agg(max_deviation).round(1).head()"
   ]
  },
  {
   "cell_type": "code",
   "execution_count": 20,
   "id": "victorian-meditation",
   "metadata": {
    "ExecuteTime": {
     "end_time": "2021-03-08T05:18:14.928447Z",
     "start_time": "2021-03-08T05:18:14.440266Z"
    }
   },
   "outputs": [
    {
     "name": "stderr",
     "output_type": "stream",
     "text": [
      "C:\\Users\\MSI\\anaconda3\\envs\\tensorflow\\lib\\site-packages\\ipykernel_launcher.py:2: FutureWarning: Indexing with multiple keys (implicitly converted to a tuple of keys) will be deprecated, use a list instead.\n",
      "  \n"
     ]
    },
    {
     "data": {
      "text/html": [
       "<div>\n",
       "<style scoped>\n",
       "    .dataframe tbody tr th:only-of-type {\n",
       "        vertical-align: middle;\n",
       "    }\n",
       "\n",
       "    .dataframe tbody tr th {\n",
       "        vertical-align: top;\n",
       "    }\n",
       "\n",
       "    .dataframe thead th {\n",
       "        text-align: right;\n",
       "    }\n",
       "</style>\n",
       "<table border=\"1\" class=\"dataframe\">\n",
       "  <thead>\n",
       "    <tr style=\"text-align: right;\">\n",
       "      <th></th>\n",
       "      <th>STABBR</th>\n",
       "      <th>UGDS</th>\n",
       "      <th>SATVRMID</th>\n",
       "      <th>SATMTMID</th>\n",
       "    </tr>\n",
       "  </thead>\n",
       "  <tbody>\n",
       "    <tr>\n",
       "      <th>0</th>\n",
       "      <td>AK</td>\n",
       "      <td>2.6</td>\n",
       "      <td>NaN</td>\n",
       "      <td>NaN</td>\n",
       "    </tr>\n",
       "    <tr>\n",
       "      <th>1</th>\n",
       "      <td>AL</td>\n",
       "      <td>5.8</td>\n",
       "      <td>1.6</td>\n",
       "      <td>1.8</td>\n",
       "    </tr>\n",
       "    <tr>\n",
       "      <th>2</th>\n",
       "      <td>AR</td>\n",
       "      <td>6.3</td>\n",
       "      <td>2.2</td>\n",
       "      <td>2.3</td>\n",
       "    </tr>\n",
       "    <tr>\n",
       "      <th>3</th>\n",
       "      <td>AS</td>\n",
       "      <td>NaN</td>\n",
       "      <td>NaN</td>\n",
       "      <td>NaN</td>\n",
       "    </tr>\n",
       "    <tr>\n",
       "      <th>4</th>\n",
       "      <td>AZ</td>\n",
       "      <td>9.9</td>\n",
       "      <td>1.9</td>\n",
       "      <td>1.4</td>\n",
       "    </tr>\n",
       "  </tbody>\n",
       "</table>\n",
       "</div>"
      ],
      "text/plain": [
       "  STABBR  UGDS  SATVRMID  SATMTMID\n",
       "0     AK   2.6       NaN       NaN\n",
       "1     AL   5.8       1.6       1.8\n",
       "2     AR   6.3       2.2       2.3\n",
       "3     AS   NaN       NaN       NaN\n",
       "4     AZ   9.9       1.9       1.4"
      ]
     },
     "execution_count": 20,
     "metadata": {},
     "output_type": "execute_result"
    }
   ],
   "source": [
    "#is possible to apply our customized function to multiple aggregating columns.\n",
    "college.groupby('STABBR', as_index= False)['UGDS', 'SATVRMID', 'SATMTMID'].agg(max_deviation).round(1).head()"
   ]
  },
  {
   "cell_type": "code",
   "execution_count": 21,
   "id": "compatible-thunder",
   "metadata": {
    "ExecuteTime": {
     "end_time": "2021-03-08T05:18:15.873264Z",
     "start_time": "2021-03-08T05:18:14.935449Z"
    }
   },
   "outputs": [
    {
     "name": "stderr",
     "output_type": "stream",
     "text": [
      "C:\\Users\\MSI\\anaconda3\\envs\\tensorflow\\lib\\site-packages\\ipykernel_launcher.py:2: FutureWarning: Indexing with multiple keys (implicitly converted to a tuple of keys) will be deprecated, use a list instead.\n",
      "  \n"
     ]
    },
    {
     "data": {
      "text/html": [
       "<div>\n",
       "<style scoped>\n",
       "    .dataframe tbody tr th:only-of-type {\n",
       "        vertical-align: middle;\n",
       "    }\n",
       "\n",
       "    .dataframe tbody tr th {\n",
       "        vertical-align: top;\n",
       "    }\n",
       "\n",
       "    .dataframe thead tr th {\n",
       "        text-align: left;\n",
       "    }\n",
       "\n",
       "    .dataframe thead tr:last-of-type th {\n",
       "        text-align: right;\n",
       "    }\n",
       "</style>\n",
       "<table border=\"1\" class=\"dataframe\">\n",
       "  <thead>\n",
       "    <tr>\n",
       "      <th></th>\n",
       "      <th></th>\n",
       "      <th colspan=\"3\" halign=\"left\">UGDS</th>\n",
       "      <th colspan=\"3\" halign=\"left\">SATVRMID</th>\n",
       "      <th colspan=\"3\" halign=\"left\">SATMTMID</th>\n",
       "    </tr>\n",
       "    <tr>\n",
       "      <th></th>\n",
       "      <th></th>\n",
       "      <th>max_deviation</th>\n",
       "      <th>mean</th>\n",
       "      <th>std</th>\n",
       "      <th>max_deviation</th>\n",
       "      <th>mean</th>\n",
       "      <th>std</th>\n",
       "      <th>max_deviation</th>\n",
       "      <th>mean</th>\n",
       "      <th>std</th>\n",
       "    </tr>\n",
       "    <tr>\n",
       "      <th>STABBR</th>\n",
       "      <th>RELAFFIL</th>\n",
       "      <th></th>\n",
       "      <th></th>\n",
       "      <th></th>\n",
       "      <th></th>\n",
       "      <th></th>\n",
       "      <th></th>\n",
       "      <th></th>\n",
       "      <th></th>\n",
       "      <th></th>\n",
       "    </tr>\n",
       "  </thead>\n",
       "  <tbody>\n",
       "    <tr>\n",
       "      <th rowspan=\"2\" valign=\"top\">AK</th>\n",
       "      <th>0</th>\n",
       "      <td>2.1</td>\n",
       "      <td>3508.9</td>\n",
       "      <td>4539.5</td>\n",
       "      <td>NaN</td>\n",
       "      <td>NaN</td>\n",
       "      <td>NaN</td>\n",
       "      <td>NaN</td>\n",
       "      <td>NaN</td>\n",
       "      <td>NaN</td>\n",
       "    </tr>\n",
       "    <tr>\n",
       "      <th>1</th>\n",
       "      <td>1.1</td>\n",
       "      <td>123.3</td>\n",
       "      <td>132.9</td>\n",
       "      <td>NaN</td>\n",
       "      <td>555.0</td>\n",
       "      <td>NaN</td>\n",
       "      <td>NaN</td>\n",
       "      <td>503.0</td>\n",
       "      <td>NaN</td>\n",
       "    </tr>\n",
       "    <tr>\n",
       "      <th rowspan=\"2\" valign=\"top\">AL</th>\n",
       "      <th>0</th>\n",
       "      <td>5.2</td>\n",
       "      <td>3248.8</td>\n",
       "      <td>5102.4</td>\n",
       "      <td>1.6</td>\n",
       "      <td>514.9</td>\n",
       "      <td>56.5</td>\n",
       "      <td>1.7</td>\n",
       "      <td>515.8</td>\n",
       "      <td>56.7</td>\n",
       "    </tr>\n",
       "    <tr>\n",
       "      <th>1</th>\n",
       "      <td>2.4</td>\n",
       "      <td>979.7</td>\n",
       "      <td>870.8</td>\n",
       "      <td>1.5</td>\n",
       "      <td>498.0</td>\n",
       "      <td>53.0</td>\n",
       "      <td>1.4</td>\n",
       "      <td>485.6</td>\n",
       "      <td>61.4</td>\n",
       "    </tr>\n",
       "    <tr>\n",
       "      <th>AR</th>\n",
       "      <th>0</th>\n",
       "      <td>5.8</td>\n",
       "      <td>1793.7</td>\n",
       "      <td>3401.6</td>\n",
       "      <td>1.9</td>\n",
       "      <td>481.1</td>\n",
       "      <td>37.9</td>\n",
       "      <td>2.0</td>\n",
       "      <td>503.6</td>\n",
       "      <td>39.0</td>\n",
       "    </tr>\n",
       "  </tbody>\n",
       "</table>\n",
       "</div>"
      ],
      "text/plain": [
       "                         UGDS                      SATVRMID               \\\n",
       "                max_deviation    mean     std max_deviation   mean   std   \n",
       "STABBR RELAFFIL                                                            \n",
       "AK     0                  2.1  3508.9  4539.5           NaN    NaN   NaN   \n",
       "       1                  1.1   123.3   132.9           NaN  555.0   NaN   \n",
       "AL     0                  5.2  3248.8  5102.4           1.6  514.9  56.5   \n",
       "       1                  2.4   979.7   870.8           1.5  498.0  53.0   \n",
       "AR     0                  5.8  1793.7  3401.6           1.9  481.1  37.9   \n",
       "\n",
       "                     SATMTMID               \n",
       "                max_deviation   mean   std  \n",
       "STABBR RELAFFIL                             \n",
       "AK     0                  NaN    NaN   NaN  \n",
       "       1                  NaN  503.0   NaN  \n",
       "AL     0                  1.7  515.8  56.7  \n",
       "       1                  1.4  485.6  61.4  \n",
       "AR     0                  2.0  503.6  39.0  "
      ]
     },
     "execution_count": 21,
     "metadata": {},
     "output_type": "execute_result"
    }
   ],
   "source": [
    "#We can pass many other functions with our made function\n",
    "college.groupby(['STABBR', 'RELAFFIL'])['UGDS', 'SATVRMID', 'SATMTMID'].agg([max_deviation, 'mean', 'std']).round(1).head()"
   ]
  },
  {
   "cell_type": "markdown",
   "id": "municipal-composition",
   "metadata": {},
   "source": [
    "```Notice that pandas uses the name of the function as the name for the returned column. You\n",
    "can change the column name directly with the rename method or you can modify the\n",
    "special function attribute __name__:```"
   ]
  },
  {
   "cell_type": "code",
   "execution_count": 22,
   "id": "precise-exclusion",
   "metadata": {
    "ExecuteTime": {
     "end_time": "2021-03-08T05:18:15.902300Z",
     "start_time": "2021-03-08T05:18:15.880325Z"
    }
   },
   "outputs": [
    {
     "data": {
      "text/plain": [
       "'max_deviation'"
      ]
     },
     "execution_count": 22,
     "metadata": {},
     "output_type": "execute_result"
    }
   ],
   "source": [
    "max_deviation.__name__"
   ]
  },
  {
   "cell_type": "code",
   "execution_count": 23,
   "id": "armed-peninsula",
   "metadata": {
    "ExecuteTime": {
     "end_time": "2021-03-08T05:18:16.766678Z",
     "start_time": "2021-03-08T05:18:15.905769Z"
    }
   },
   "outputs": [
    {
     "name": "stderr",
     "output_type": "stream",
     "text": [
      "C:\\Users\\MSI\\anaconda3\\envs\\tensorflow\\lib\\site-packages\\ipykernel_launcher.py:2: FutureWarning: Indexing with multiple keys (implicitly converted to a tuple of keys) will be deprecated, use a list instead.\n",
      "  \n"
     ]
    },
    {
     "data": {
      "text/html": [
       "<div>\n",
       "<style scoped>\n",
       "    .dataframe tbody tr th:only-of-type {\n",
       "        vertical-align: middle;\n",
       "    }\n",
       "\n",
       "    .dataframe tbody tr th {\n",
       "        vertical-align: top;\n",
       "    }\n",
       "\n",
       "    .dataframe thead tr th {\n",
       "        text-align: left;\n",
       "    }\n",
       "\n",
       "    .dataframe thead tr:last-of-type th {\n",
       "        text-align: right;\n",
       "    }\n",
       "</style>\n",
       "<table border=\"1\" class=\"dataframe\">\n",
       "  <thead>\n",
       "    <tr>\n",
       "      <th></th>\n",
       "      <th></th>\n",
       "      <th colspan=\"3\" halign=\"left\">UGDS</th>\n",
       "      <th colspan=\"3\" halign=\"left\">SATVRMID</th>\n",
       "      <th colspan=\"3\" halign=\"left\">SATMTMID</th>\n",
       "    </tr>\n",
       "    <tr>\n",
       "      <th></th>\n",
       "      <th></th>\n",
       "      <th>Max Deviation</th>\n",
       "      <th>mean</th>\n",
       "      <th>std</th>\n",
       "      <th>Max Deviation</th>\n",
       "      <th>mean</th>\n",
       "      <th>std</th>\n",
       "      <th>Max Deviation</th>\n",
       "      <th>mean</th>\n",
       "      <th>std</th>\n",
       "    </tr>\n",
       "    <tr>\n",
       "      <th>STABBR</th>\n",
       "      <th>RELAFFIL</th>\n",
       "      <th></th>\n",
       "      <th></th>\n",
       "      <th></th>\n",
       "      <th></th>\n",
       "      <th></th>\n",
       "      <th></th>\n",
       "      <th></th>\n",
       "      <th></th>\n",
       "      <th></th>\n",
       "    </tr>\n",
       "  </thead>\n",
       "  <tbody>\n",
       "    <tr>\n",
       "      <th rowspan=\"2\" valign=\"top\">AK</th>\n",
       "      <th>0</th>\n",
       "      <td>2.1</td>\n",
       "      <td>3508.9</td>\n",
       "      <td>4539.5</td>\n",
       "      <td>NaN</td>\n",
       "      <td>NaN</td>\n",
       "      <td>NaN</td>\n",
       "      <td>NaN</td>\n",
       "      <td>NaN</td>\n",
       "      <td>NaN</td>\n",
       "    </tr>\n",
       "    <tr>\n",
       "      <th>1</th>\n",
       "      <td>1.1</td>\n",
       "      <td>123.3</td>\n",
       "      <td>132.9</td>\n",
       "      <td>NaN</td>\n",
       "      <td>555.0</td>\n",
       "      <td>NaN</td>\n",
       "      <td>NaN</td>\n",
       "      <td>503.0</td>\n",
       "      <td>NaN</td>\n",
       "    </tr>\n",
       "    <tr>\n",
       "      <th rowspan=\"2\" valign=\"top\">AL</th>\n",
       "      <th>0</th>\n",
       "      <td>5.2</td>\n",
       "      <td>3248.8</td>\n",
       "      <td>5102.4</td>\n",
       "      <td>1.6</td>\n",
       "      <td>514.9</td>\n",
       "      <td>56.5</td>\n",
       "      <td>1.7</td>\n",
       "      <td>515.8</td>\n",
       "      <td>56.7</td>\n",
       "    </tr>\n",
       "    <tr>\n",
       "      <th>1</th>\n",
       "      <td>2.4</td>\n",
       "      <td>979.7</td>\n",
       "      <td>870.8</td>\n",
       "      <td>1.5</td>\n",
       "      <td>498.0</td>\n",
       "      <td>53.0</td>\n",
       "      <td>1.4</td>\n",
       "      <td>485.6</td>\n",
       "      <td>61.4</td>\n",
       "    </tr>\n",
       "    <tr>\n",
       "      <th>AR</th>\n",
       "      <th>0</th>\n",
       "      <td>5.8</td>\n",
       "      <td>1793.7</td>\n",
       "      <td>3401.6</td>\n",
       "      <td>1.9</td>\n",
       "      <td>481.1</td>\n",
       "      <td>37.9</td>\n",
       "      <td>2.0</td>\n",
       "      <td>503.6</td>\n",
       "      <td>39.0</td>\n",
       "    </tr>\n",
       "  </tbody>\n",
       "</table>\n",
       "</div>"
      ],
      "text/plain": [
       "                         UGDS                      SATVRMID               \\\n",
       "                Max Deviation    mean     std Max Deviation   mean   std   \n",
       "STABBR RELAFFIL                                                            \n",
       "AK     0                  2.1  3508.9  4539.5           NaN    NaN   NaN   \n",
       "       1                  1.1   123.3   132.9           NaN  555.0   NaN   \n",
       "AL     0                  5.2  3248.8  5102.4           1.6  514.9  56.5   \n",
       "       1                  2.4   979.7   870.8           1.5  498.0  53.0   \n",
       "AR     0                  5.8  1793.7  3401.6           1.9  481.1  37.9   \n",
       "\n",
       "                     SATMTMID               \n",
       "                Max Deviation   mean   std  \n",
       "STABBR RELAFFIL                             \n",
       "AK     0                  NaN    NaN   NaN  \n",
       "       1                  NaN  503.0   NaN  \n",
       "AL     0                  1.7  515.8  56.7  \n",
       "       1                  1.4  485.6  61.4  \n",
       "AR     0                  2.0  503.6  39.0  "
      ]
     },
     "execution_count": 23,
     "metadata": {},
     "output_type": "execute_result"
    }
   ],
   "source": [
    "max_deviation.__name__ = 'Max Deviation'\n",
    "college.groupby(['STABBR', 'RELAFFIL'])['UGDS', 'SATVRMID', 'SATMTMID'].agg([max_deviation, 'mean', 'std']).round(1).head()"
   ]
  },
  {
   "cell_type": "markdown",
   "id": "confirmed-ceiling",
   "metadata": {},
   "source": [
    "## Customizing aggregating functions with *args and **kwargs"
   ]
  },
  {
   "cell_type": "code",
   "execution_count": 10,
   "id": "alone-france",
   "metadata": {
    "ExecuteTime": {
     "end_time": "2021-03-26T04:24:28.875401Z",
     "start_time": "2021-03-26T04:24:28.789406Z"
    }
   },
   "outputs": [
    {
     "data": {
      "text/html": [
       "<div>\n",
       "<style scoped>\n",
       "    .dataframe tbody tr th:only-of-type {\n",
       "        vertical-align: middle;\n",
       "    }\n",
       "\n",
       "    .dataframe tbody tr th {\n",
       "        vertical-align: top;\n",
       "    }\n",
       "\n",
       "    .dataframe thead th {\n",
       "        text-align: right;\n",
       "    }\n",
       "</style>\n",
       "<table border=\"1\" class=\"dataframe\">\n",
       "  <thead>\n",
       "    <tr style=\"text-align: right;\">\n",
       "      <th></th>\n",
       "      <th>INSTNM</th>\n",
       "      <th>CITY</th>\n",
       "      <th>STABBR</th>\n",
       "      <th>HBCU</th>\n",
       "      <th>MENONLY</th>\n",
       "      <th>WOMENONLY</th>\n",
       "      <th>RELAFFIL</th>\n",
       "      <th>SATVRMID</th>\n",
       "      <th>SATMTMID</th>\n",
       "      <th>DISTANCEONLY</th>\n",
       "      <th>...</th>\n",
       "      <th>UGDS_2MOR</th>\n",
       "      <th>UGDS_NRA</th>\n",
       "      <th>UGDS_UNKN</th>\n",
       "      <th>PPTUG_EF</th>\n",
       "      <th>CURROPER</th>\n",
       "      <th>PCTPELL</th>\n",
       "      <th>PCTFLOAN</th>\n",
       "      <th>UG25ABV</th>\n",
       "      <th>MD_EARN_WNE_P10</th>\n",
       "      <th>GRAD_DEBT_MDN_SUPP</th>\n",
       "    </tr>\n",
       "  </thead>\n",
       "  <tbody>\n",
       "    <tr>\n",
       "      <th>0</th>\n",
       "      <td>Alabama A &amp; M University</td>\n",
       "      <td>Normal</td>\n",
       "      <td>AL</td>\n",
       "      <td>1.0</td>\n",
       "      <td>0.0</td>\n",
       "      <td>0.0</td>\n",
       "      <td>0</td>\n",
       "      <td>424.0</td>\n",
       "      <td>420.0</td>\n",
       "      <td>0.0</td>\n",
       "      <td>...</td>\n",
       "      <td>0.0000</td>\n",
       "      <td>0.0059</td>\n",
       "      <td>0.0138</td>\n",
       "      <td>0.0656</td>\n",
       "      <td>1</td>\n",
       "      <td>0.7356</td>\n",
       "      <td>0.8284</td>\n",
       "      <td>0.1049</td>\n",
       "      <td>30300</td>\n",
       "      <td>33888</td>\n",
       "    </tr>\n",
       "    <tr>\n",
       "      <th>1</th>\n",
       "      <td>University of Alabama at Birmingham</td>\n",
       "      <td>Birmingham</td>\n",
       "      <td>AL</td>\n",
       "      <td>0.0</td>\n",
       "      <td>0.0</td>\n",
       "      <td>0.0</td>\n",
       "      <td>0</td>\n",
       "      <td>570.0</td>\n",
       "      <td>565.0</td>\n",
       "      <td>0.0</td>\n",
       "      <td>...</td>\n",
       "      <td>0.0368</td>\n",
       "      <td>0.0179</td>\n",
       "      <td>0.0100</td>\n",
       "      <td>0.2607</td>\n",
       "      <td>1</td>\n",
       "      <td>0.3460</td>\n",
       "      <td>0.5214</td>\n",
       "      <td>0.2422</td>\n",
       "      <td>39700</td>\n",
       "      <td>21941.5</td>\n",
       "    </tr>\n",
       "    <tr>\n",
       "      <th>2</th>\n",
       "      <td>Amridge University</td>\n",
       "      <td>Montgomery</td>\n",
       "      <td>AL</td>\n",
       "      <td>0.0</td>\n",
       "      <td>0.0</td>\n",
       "      <td>0.0</td>\n",
       "      <td>1</td>\n",
       "      <td>NaN</td>\n",
       "      <td>NaN</td>\n",
       "      <td>1.0</td>\n",
       "      <td>...</td>\n",
       "      <td>0.0000</td>\n",
       "      <td>0.0000</td>\n",
       "      <td>0.2715</td>\n",
       "      <td>0.4536</td>\n",
       "      <td>1</td>\n",
       "      <td>0.6801</td>\n",
       "      <td>0.7795</td>\n",
       "      <td>0.8540</td>\n",
       "      <td>40100</td>\n",
       "      <td>23370</td>\n",
       "    </tr>\n",
       "    <tr>\n",
       "      <th>3</th>\n",
       "      <td>University of Alabama in Huntsville</td>\n",
       "      <td>Huntsville</td>\n",
       "      <td>AL</td>\n",
       "      <td>0.0</td>\n",
       "      <td>0.0</td>\n",
       "      <td>0.0</td>\n",
       "      <td>0</td>\n",
       "      <td>595.0</td>\n",
       "      <td>590.0</td>\n",
       "      <td>0.0</td>\n",
       "      <td>...</td>\n",
       "      <td>0.0172</td>\n",
       "      <td>0.0332</td>\n",
       "      <td>0.0350</td>\n",
       "      <td>0.2146</td>\n",
       "      <td>1</td>\n",
       "      <td>0.3072</td>\n",
       "      <td>0.4596</td>\n",
       "      <td>0.2640</td>\n",
       "      <td>45500</td>\n",
       "      <td>24097</td>\n",
       "    </tr>\n",
       "    <tr>\n",
       "      <th>4</th>\n",
       "      <td>Alabama State University</td>\n",
       "      <td>Montgomery</td>\n",
       "      <td>AL</td>\n",
       "      <td>1.0</td>\n",
       "      <td>0.0</td>\n",
       "      <td>0.0</td>\n",
       "      <td>0</td>\n",
       "      <td>425.0</td>\n",
       "      <td>430.0</td>\n",
       "      <td>0.0</td>\n",
       "      <td>...</td>\n",
       "      <td>0.0098</td>\n",
       "      <td>0.0243</td>\n",
       "      <td>0.0137</td>\n",
       "      <td>0.0892</td>\n",
       "      <td>1</td>\n",
       "      <td>0.7347</td>\n",
       "      <td>0.7554</td>\n",
       "      <td>0.1270</td>\n",
       "      <td>26600</td>\n",
       "      <td>33118.5</td>\n",
       "    </tr>\n",
       "  </tbody>\n",
       "</table>\n",
       "<p>5 rows × 27 columns</p>\n",
       "</div>"
      ],
      "text/plain": [
       "                                INSTNM        CITY STABBR  HBCU  MENONLY  \\\n",
       "0             Alabama A & M University      Normal     AL   1.0      0.0   \n",
       "1  University of Alabama at Birmingham  Birmingham     AL   0.0      0.0   \n",
       "2                   Amridge University  Montgomery     AL   0.0      0.0   \n",
       "3  University of Alabama in Huntsville  Huntsville     AL   0.0      0.0   \n",
       "4             Alabama State University  Montgomery     AL   1.0      0.0   \n",
       "\n",
       "   WOMENONLY  RELAFFIL  SATVRMID  SATMTMID  DISTANCEONLY  ...  UGDS_2MOR  \\\n",
       "0        0.0         0     424.0     420.0           0.0  ...     0.0000   \n",
       "1        0.0         0     570.0     565.0           0.0  ...     0.0368   \n",
       "2        0.0         1       NaN       NaN           1.0  ...     0.0000   \n",
       "3        0.0         0     595.0     590.0           0.0  ...     0.0172   \n",
       "4        0.0         0     425.0     430.0           0.0  ...     0.0098   \n",
       "\n",
       "   UGDS_NRA  UGDS_UNKN  PPTUG_EF  CURROPER  PCTPELL  PCTFLOAN  UG25ABV  \\\n",
       "0    0.0059     0.0138    0.0656         1   0.7356    0.8284   0.1049   \n",
       "1    0.0179     0.0100    0.2607         1   0.3460    0.5214   0.2422   \n",
       "2    0.0000     0.2715    0.4536         1   0.6801    0.7795   0.8540   \n",
       "3    0.0332     0.0350    0.2146         1   0.3072    0.4596   0.2640   \n",
       "4    0.0243     0.0137    0.0892         1   0.7347    0.7554   0.1270   \n",
       "\n",
       "   MD_EARN_WNE_P10  GRAD_DEBT_MDN_SUPP  \n",
       "0            30300               33888  \n",
       "1            39700             21941.5  \n",
       "2            40100               23370  \n",
       "3            45500               24097  \n",
       "4            26600             33118.5  \n",
       "\n",
       "[5 rows x 27 columns]"
      ]
     },
     "execution_count": 10,
     "metadata": {},
     "output_type": "execute_result"
    }
   ],
   "source": [
    "college.head()"
   ]
  },
  {
   "cell_type": "code",
   "execution_count": 11,
   "id": "cellular-slide",
   "metadata": {
    "ExecuteTime": {
     "end_time": "2021-03-26T04:25:43.379364Z",
     "start_time": "2021-03-26T04:25:43.265366Z"
    }
   },
   "outputs": [
    {
     "data": {
      "text/html": [
       "<div>\n",
       "<style scoped>\n",
       "    .dataframe tbody tr th:only-of-type {\n",
       "        vertical-align: middle;\n",
       "    }\n",
       "\n",
       "    .dataframe tbody tr th {\n",
       "        vertical-align: top;\n",
       "    }\n",
       "\n",
       "    .dataframe thead th {\n",
       "        text-align: right;\n",
       "    }\n",
       "</style>\n",
       "<table border=\"1\" class=\"dataframe\">\n",
       "  <thead>\n",
       "    <tr style=\"text-align: right;\">\n",
       "      <th></th>\n",
       "      <th>INSTNM</th>\n",
       "      <th>CITY</th>\n",
       "      <th>STABBR</th>\n",
       "      <th>HBCU</th>\n",
       "      <th>MENONLY</th>\n",
       "      <th>WOMENONLY</th>\n",
       "      <th>RELAFFIL</th>\n",
       "      <th>SATVRMID</th>\n",
       "      <th>SATMTMID</th>\n",
       "      <th>DISTANCEONLY</th>\n",
       "      <th>...</th>\n",
       "      <th>UGDS_2MOR</th>\n",
       "      <th>UGDS_NRA</th>\n",
       "      <th>UGDS_UNKN</th>\n",
       "      <th>PPTUG_EF</th>\n",
       "      <th>CURROPER</th>\n",
       "      <th>PCTPELL</th>\n",
       "      <th>PCTFLOAN</th>\n",
       "      <th>UG25ABV</th>\n",
       "      <th>MD_EARN_WNE_P10</th>\n",
       "      <th>GRAD_DEBT_MDN_SUPP</th>\n",
       "    </tr>\n",
       "  </thead>\n",
       "  <tbody>\n",
       "    <tr>\n",
       "      <th>0</th>\n",
       "      <td>Alabama A &amp; M University</td>\n",
       "      <td>Normal</td>\n",
       "      <td>AL</td>\n",
       "      <td>1.0</td>\n",
       "      <td>0.0</td>\n",
       "      <td>0.0</td>\n",
       "      <td>0</td>\n",
       "      <td>424.0</td>\n",
       "      <td>420.0</td>\n",
       "      <td>0.0</td>\n",
       "      <td>...</td>\n",
       "      <td>0.0000</td>\n",
       "      <td>0.0059</td>\n",
       "      <td>0.0138</td>\n",
       "      <td>0.0656</td>\n",
       "      <td>1</td>\n",
       "      <td>0.7356</td>\n",
       "      <td>0.8284</td>\n",
       "      <td>0.1049</td>\n",
       "      <td>30300</td>\n",
       "      <td>33888</td>\n",
       "    </tr>\n",
       "    <tr>\n",
       "      <th>1</th>\n",
       "      <td>University of Alabama at Birmingham</td>\n",
       "      <td>Birmingham</td>\n",
       "      <td>AL</td>\n",
       "      <td>0.0</td>\n",
       "      <td>0.0</td>\n",
       "      <td>0.0</td>\n",
       "      <td>0</td>\n",
       "      <td>570.0</td>\n",
       "      <td>565.0</td>\n",
       "      <td>0.0</td>\n",
       "      <td>...</td>\n",
       "      <td>0.0368</td>\n",
       "      <td>0.0179</td>\n",
       "      <td>0.0100</td>\n",
       "      <td>0.2607</td>\n",
       "      <td>1</td>\n",
       "      <td>0.3460</td>\n",
       "      <td>0.5214</td>\n",
       "      <td>0.2422</td>\n",
       "      <td>39700</td>\n",
       "      <td>21941.5</td>\n",
       "    </tr>\n",
       "    <tr>\n",
       "      <th>2</th>\n",
       "      <td>Amridge University</td>\n",
       "      <td>Montgomery</td>\n",
       "      <td>AL</td>\n",
       "      <td>0.0</td>\n",
       "      <td>0.0</td>\n",
       "      <td>0.0</td>\n",
       "      <td>1</td>\n",
       "      <td>NaN</td>\n",
       "      <td>NaN</td>\n",
       "      <td>1.0</td>\n",
       "      <td>...</td>\n",
       "      <td>0.0000</td>\n",
       "      <td>0.0000</td>\n",
       "      <td>0.2715</td>\n",
       "      <td>0.4536</td>\n",
       "      <td>1</td>\n",
       "      <td>0.6801</td>\n",
       "      <td>0.7795</td>\n",
       "      <td>0.8540</td>\n",
       "      <td>40100</td>\n",
       "      <td>23370</td>\n",
       "    </tr>\n",
       "    <tr>\n",
       "      <th>3</th>\n",
       "      <td>University of Alabama in Huntsville</td>\n",
       "      <td>Huntsville</td>\n",
       "      <td>AL</td>\n",
       "      <td>0.0</td>\n",
       "      <td>0.0</td>\n",
       "      <td>0.0</td>\n",
       "      <td>0</td>\n",
       "      <td>595.0</td>\n",
       "      <td>590.0</td>\n",
       "      <td>0.0</td>\n",
       "      <td>...</td>\n",
       "      <td>0.0172</td>\n",
       "      <td>0.0332</td>\n",
       "      <td>0.0350</td>\n",
       "      <td>0.2146</td>\n",
       "      <td>1</td>\n",
       "      <td>0.3072</td>\n",
       "      <td>0.4596</td>\n",
       "      <td>0.2640</td>\n",
       "      <td>45500</td>\n",
       "      <td>24097</td>\n",
       "    </tr>\n",
       "    <tr>\n",
       "      <th>4</th>\n",
       "      <td>Alabama State University</td>\n",
       "      <td>Montgomery</td>\n",
       "      <td>AL</td>\n",
       "      <td>1.0</td>\n",
       "      <td>0.0</td>\n",
       "      <td>0.0</td>\n",
       "      <td>0</td>\n",
       "      <td>425.0</td>\n",
       "      <td>430.0</td>\n",
       "      <td>0.0</td>\n",
       "      <td>...</td>\n",
       "      <td>0.0098</td>\n",
       "      <td>0.0243</td>\n",
       "      <td>0.0137</td>\n",
       "      <td>0.0892</td>\n",
       "      <td>1</td>\n",
       "      <td>0.7347</td>\n",
       "      <td>0.7554</td>\n",
       "      <td>0.1270</td>\n",
       "      <td>26600</td>\n",
       "      <td>33118.5</td>\n",
       "    </tr>\n",
       "    <tr>\n",
       "      <th>...</th>\n",
       "      <td>...</td>\n",
       "      <td>...</td>\n",
       "      <td>...</td>\n",
       "      <td>...</td>\n",
       "      <td>...</td>\n",
       "      <td>...</td>\n",
       "      <td>...</td>\n",
       "      <td>...</td>\n",
       "      <td>...</td>\n",
       "      <td>...</td>\n",
       "      <td>...</td>\n",
       "      <td>...</td>\n",
       "      <td>...</td>\n",
       "      <td>...</td>\n",
       "      <td>...</td>\n",
       "      <td>...</td>\n",
       "      <td>...</td>\n",
       "      <td>...</td>\n",
       "      <td>...</td>\n",
       "      <td>...</td>\n",
       "      <td>...</td>\n",
       "    </tr>\n",
       "    <tr>\n",
       "      <th>7366</th>\n",
       "      <td>Montpelier Center - Closed July 2013</td>\n",
       "      <td>Montpelier</td>\n",
       "      <td>VT</td>\n",
       "      <td>NaN</td>\n",
       "      <td>NaN</td>\n",
       "      <td>NaN</td>\n",
       "      <td>1</td>\n",
       "      <td>NaN</td>\n",
       "      <td>NaN</td>\n",
       "      <td>NaN</td>\n",
       "      <td>...</td>\n",
       "      <td>NaN</td>\n",
       "      <td>NaN</td>\n",
       "      <td>NaN</td>\n",
       "      <td>NaN</td>\n",
       "      <td>0</td>\n",
       "      <td>NaN</td>\n",
       "      <td>NaN</td>\n",
       "      <td>NaN</td>\n",
       "      <td>39600</td>\n",
       "      <td>18750</td>\n",
       "    </tr>\n",
       "    <tr>\n",
       "      <th>7367</th>\n",
       "      <td>New England Center</td>\n",
       "      <td>Brattleboro</td>\n",
       "      <td>VT</td>\n",
       "      <td>NaN</td>\n",
       "      <td>NaN</td>\n",
       "      <td>NaN</td>\n",
       "      <td>1</td>\n",
       "      <td>NaN</td>\n",
       "      <td>NaN</td>\n",
       "      <td>NaN</td>\n",
       "      <td>...</td>\n",
       "      <td>NaN</td>\n",
       "      <td>NaN</td>\n",
       "      <td>NaN</td>\n",
       "      <td>NaN</td>\n",
       "      <td>1</td>\n",
       "      <td>NaN</td>\n",
       "      <td>NaN</td>\n",
       "      <td>NaN</td>\n",
       "      <td>39600</td>\n",
       "      <td>18750</td>\n",
       "    </tr>\n",
       "    <tr>\n",
       "      <th>7404</th>\n",
       "      <td>University of the Virgin Islands-Albert A. Sheen</td>\n",
       "      <td>St. Croix</td>\n",
       "      <td>VI</td>\n",
       "      <td>NaN</td>\n",
       "      <td>NaN</td>\n",
       "      <td>NaN</td>\n",
       "      <td>1</td>\n",
       "      <td>NaN</td>\n",
       "      <td>NaN</td>\n",
       "      <td>NaN</td>\n",
       "      <td>...</td>\n",
       "      <td>NaN</td>\n",
       "      <td>NaN</td>\n",
       "      <td>NaN</td>\n",
       "      <td>NaN</td>\n",
       "      <td>1</td>\n",
       "      <td>NaN</td>\n",
       "      <td>NaN</td>\n",
       "      <td>NaN</td>\n",
       "      <td>31800</td>\n",
       "      <td>15150</td>\n",
       "    </tr>\n",
       "    <tr>\n",
       "      <th>7419</th>\n",
       "      <td>Computer Career Center-Las Cruces</td>\n",
       "      <td>Las Cruces</td>\n",
       "      <td>NM</td>\n",
       "      <td>NaN</td>\n",
       "      <td>NaN</td>\n",
       "      <td>NaN</td>\n",
       "      <td>1</td>\n",
       "      <td>NaN</td>\n",
       "      <td>NaN</td>\n",
       "      <td>NaN</td>\n",
       "      <td>...</td>\n",
       "      <td>NaN</td>\n",
       "      <td>NaN</td>\n",
       "      <td>NaN</td>\n",
       "      <td>NaN</td>\n",
       "      <td>1</td>\n",
       "      <td>NaN</td>\n",
       "      <td>NaN</td>\n",
       "      <td>NaN</td>\n",
       "      <td>21300</td>\n",
       "      <td>14250</td>\n",
       "    </tr>\n",
       "    <tr>\n",
       "      <th>7424</th>\n",
       "      <td>Rob Roy Academy - Woonsocket</td>\n",
       "      <td>Woonsocket</td>\n",
       "      <td>RI</td>\n",
       "      <td>NaN</td>\n",
       "      <td>NaN</td>\n",
       "      <td>NaN</td>\n",
       "      <td>1</td>\n",
       "      <td>NaN</td>\n",
       "      <td>NaN</td>\n",
       "      <td>NaN</td>\n",
       "      <td>...</td>\n",
       "      <td>NaN</td>\n",
       "      <td>NaN</td>\n",
       "      <td>NaN</td>\n",
       "      <td>NaN</td>\n",
       "      <td>1</td>\n",
       "      <td>NaN</td>\n",
       "      <td>NaN</td>\n",
       "      <td>NaN</td>\n",
       "      <td>17400</td>\n",
       "      <td>7741</td>\n",
       "    </tr>\n",
       "  </tbody>\n",
       "</table>\n",
       "<p>510 rows × 27 columns</p>\n",
       "</div>"
      ],
      "text/plain": [
       "                                                INSTNM         CITY STABBR  \\\n",
       "0                             Alabama A & M University       Normal     AL   \n",
       "1                  University of Alabama at Birmingham   Birmingham     AL   \n",
       "2                                   Amridge University   Montgomery     AL   \n",
       "3                  University of Alabama in Huntsville   Huntsville     AL   \n",
       "4                             Alabama State University   Montgomery     AL   \n",
       "...                                                ...          ...    ...   \n",
       "7366              Montpelier Center - Closed July 2013   Montpelier     VT   \n",
       "7367                                New England Center  Brattleboro     VT   \n",
       "7404  University of the Virgin Islands-Albert A. Sheen    St. Croix     VI   \n",
       "7419                 Computer Career Center-Las Cruces   Las Cruces     NM   \n",
       "7424                      Rob Roy Academy - Woonsocket   Woonsocket     RI   \n",
       "\n",
       "      HBCU  MENONLY  WOMENONLY  RELAFFIL  SATVRMID  SATMTMID  DISTANCEONLY  \\\n",
       "0      1.0      0.0        0.0         0     424.0     420.0           0.0   \n",
       "1      0.0      0.0        0.0         0     570.0     565.0           0.0   \n",
       "2      0.0      0.0        0.0         1       NaN       NaN           1.0   \n",
       "3      0.0      0.0        0.0         0     595.0     590.0           0.0   \n",
       "4      1.0      0.0        0.0         0     425.0     430.0           0.0   \n",
       "...    ...      ...        ...       ...       ...       ...           ...   \n",
       "7366   NaN      NaN        NaN         1       NaN       NaN           NaN   \n",
       "7367   NaN      NaN        NaN         1       NaN       NaN           NaN   \n",
       "7404   NaN      NaN        NaN         1       NaN       NaN           NaN   \n",
       "7419   NaN      NaN        NaN         1       NaN       NaN           NaN   \n",
       "7424   NaN      NaN        NaN         1       NaN       NaN           NaN   \n",
       "\n",
       "      ...  UGDS_2MOR  UGDS_NRA  UGDS_UNKN  PPTUG_EF  CURROPER  PCTPELL  \\\n",
       "0     ...     0.0000    0.0059     0.0138    0.0656         1   0.7356   \n",
       "1     ...     0.0368    0.0179     0.0100    0.2607         1   0.3460   \n",
       "2     ...     0.0000    0.0000     0.2715    0.4536         1   0.6801   \n",
       "3     ...     0.0172    0.0332     0.0350    0.2146         1   0.3072   \n",
       "4     ...     0.0098    0.0243     0.0137    0.0892         1   0.7347   \n",
       "...   ...        ...       ...        ...       ...       ...      ...   \n",
       "7366  ...        NaN       NaN        NaN       NaN         0      NaN   \n",
       "7367  ...        NaN       NaN        NaN       NaN         1      NaN   \n",
       "7404  ...        NaN       NaN        NaN       NaN         1      NaN   \n",
       "7419  ...        NaN       NaN        NaN       NaN         1      NaN   \n",
       "7424  ...        NaN       NaN        NaN       NaN         1      NaN   \n",
       "\n",
       "      PCTFLOAN  UG25ABV  MD_EARN_WNE_P10  GRAD_DEBT_MDN_SUPP  \n",
       "0       0.8284   0.1049            30300               33888  \n",
       "1       0.5214   0.2422            39700             21941.5  \n",
       "2       0.7795   0.8540            40100               23370  \n",
       "3       0.4596   0.2640            45500               24097  \n",
       "4       0.7554   0.1270            26600             33118.5  \n",
       "...        ...      ...              ...                 ...  \n",
       "7366       NaN      NaN            39600               18750  \n",
       "7367       NaN      NaN            39600               18750  \n",
       "7404       NaN      NaN            31800               15150  \n",
       "7419       NaN      NaN            21300               14250  \n",
       "7424       NaN      NaN            17400                7741  \n",
       "\n",
       "[510 rows x 27 columns]"
      ]
     },
     "execution_count": 11,
     "metadata": {},
     "output_type": "execute_result"
    }
   ],
   "source": [
    "grouped = college.groupby(['STABBR', 'RELAFFIL'])\n",
    "grouped.head()"
   ]
  },
  {
   "cell_type": "code",
   "execution_count": 12,
   "id": "inclusive-infrared",
   "metadata": {
    "ExecuteTime": {
     "end_time": "2021-03-26T04:26:03.267317Z",
     "start_time": "2021-03-26T04:26:03.246855Z"
    }
   },
   "outputs": [
    {
     "data": {
      "text/plain": [
       "<Signature (func=None, *args, engine=None, engine_kwargs=None, **kwargs)>"
      ]
     },
     "execution_count": 12,
     "metadata": {},
     "output_type": "execute_result"
    }
   ],
   "source": [
    "import inspect\n",
    "inspect.signature(grouped.agg)"
   ]
  },
  {
   "cell_type": "markdown",
   "id": "attempted-fishing",
   "metadata": {},
   "source": [
    "The argument *args allow you to pass an arbitrary number of non-keyword arguments to\n",
    "your customized aggregation function. \n",
    "\n",
    "Similarly, **kwargs allows you to pass an arbitrary\n",
    "number of keyword arguments."
   ]
  },
  {
   "cell_type": "code",
   "execution_count": 13,
   "id": "civic-carnival",
   "metadata": {
    "ExecuteTime": {
     "end_time": "2021-03-26T04:30:35.091821Z",
     "start_time": "2021-03-26T04:30:35.079819Z"
    }
   },
   "outputs": [],
   "source": [
    "def pct_between_1_3k(s):\n",
    "    return s.between(1000, 3000).mean()"
   ]
  },
  {
   "cell_type": "code",
   "execution_count": 15,
   "id": "solved-sacrifice",
   "metadata": {
    "ExecuteTime": {
     "end_time": "2021-03-26T04:31:47.261893Z",
     "start_time": "2021-03-26T04:31:47.064852Z"
    }
   },
   "outputs": [
    {
     "data": {
      "text/plain": [
       "STABBR  RELAFFIL\n",
       "AK      0           0.142857\n",
       "        1           0.000000\n",
       "AL      0           0.236111\n",
       "        1           0.333333\n",
       "AR      0           0.279412\n",
       "Name: UGDS, dtype: float64"
      ]
     },
     "execution_count": 15,
     "metadata": {},
     "output_type": "execute_result"
    }
   ],
   "source": [
    "college.groupby(['STABBR', 'RELAFFIL'])['UGDS'].agg(pct_between_1_3k).head()"
   ]
  },
  {
   "cell_type": "code",
   "execution_count": 16,
   "id": "theoretical-acquisition",
   "metadata": {
    "ExecuteTime": {
     "end_time": "2021-03-26T04:34:37.221750Z",
     "start_time": "2021-03-26T04:34:37.206615Z"
    }
   },
   "outputs": [],
   "source": [
    "#This function works fine but it doesn't give the user any flexibility to choose the lower and upper bound.\n",
    "#create a function that let's the user define the bounds\n",
    "\n",
    "def pct_between(s, low, high):\n",
    "    return s.between(low, high).mean()"
   ]
  },
  {
   "cell_type": "code",
   "execution_count": 19,
   "id": "instrumental-aberdeen",
   "metadata": {
    "ExecuteTime": {
     "end_time": "2021-03-26T04:36:37.631111Z",
     "start_time": "2021-03-26T04:36:37.411959Z"
    }
   },
   "outputs": [
    {
     "data": {
      "text/plain": [
       "STABBR  RELAFFIL\n",
       "AK      0           0.428571\n",
       "        1           0.000000\n",
       "AL      0           0.458333\n",
       "        1           0.375000\n",
       "AR      0           0.397059\n",
       "Name: UGDS, dtype: float64"
      ]
     },
     "execution_count": 19,
     "metadata": {},
     "output_type": "execute_result"
    }
   ],
   "source": [
    "college.groupby(['STABBR', 'RELAFFIL'])['UGDS'].agg(pct_between,1000, 10000).head()\n",
    "\n",
    "#tambien se puede colocar un poco mas explicito\n",
    "#college.groupby(['STABBR', 'RELAFFIL'])['UGDS'].agg(pct_between, high=10000, low=1000).head(9)"
   ]
  },
  {
   "cell_type": "markdown",
   "id": "electoral-listing",
   "metadata": {},
   "source": [
    "```Unfortunately, pandas does not have a direct way to use these additional arguments when using multiple aggregation functions together.```"
   ]
  },
  {
   "cell_type": "markdown",
   "id": "phantom-seventh",
   "metadata": {},
   "source": [
    "college.groupby(['STABBR', 'RELAFFIL'])['UGDS'].agg(['mean', pct_between], low=100, high=1000)\n",
    "\n",
    "TypeError: pct_between() missing 2 required positional arguments: 'low' and 'high'\n",
    "\n",
    "\n",
    "```para eso, hay que colocar la funcion de wrapper```\n",
    "\n",
    "def make_agg_func(func, name, *args, **kwargs):\n",
    "def wrapper(x):\n",
    "return func(x, *args, **kwargs)\n",
    "wrapper.__name__ = name\n",
    "return wrapper\n",
    "\n",
    "\n",
    "```Y luego pasamos la funcion de antes sobre una varaible```\n",
    "> my_agg1 = make_agg_func(pct_between, 'pct_1_3k', low=1000, high=3000)\n",
    "\n",
    "> The make_agg_func function acts as a factory to create customized aggregation functions.\n"
   ]
  },
  {
   "cell_type": "markdown",
   "id": "convenient-jersey",
   "metadata": {},
   "source": [
    "## Examining the group project"
   ]
  },
  {
   "cell_type": "code",
   "execution_count": 20,
   "id": "radical-champagne",
   "metadata": {
    "ExecuteTime": {
     "end_time": "2021-03-26T04:48:46.975735Z",
     "start_time": "2021-03-26T04:48:46.961743Z"
    }
   },
   "outputs": [
    {
     "data": {
      "text/plain": [
       "112"
      ]
     },
     "execution_count": 20,
     "metadata": {},
     "output_type": "execute_result"
    }
   ],
   "source": [
    "#the number of groups \n",
    "grouped.ngroups"
   ]
  },
  {
   "cell_type": "code",
   "execution_count": 21,
   "id": "fatal-discharge",
   "metadata": {
    "ExecuteTime": {
     "end_time": "2021-03-26T04:51:12.610097Z",
     "start_time": "2021-03-26T04:51:12.582934Z"
    }
   },
   "outputs": [
    {
     "data": {
      "text/plain": [
       "[('AK', 0),\n",
       " ('AK', 1),\n",
       " ('AL', 0),\n",
       " ('AL', 1),\n",
       " ('AR', 0),\n",
       " ('AR', 1),\n",
       " ('AS', 0),\n",
       " ('AZ', 0),\n",
       " ('AZ', 1),\n",
       " ('CA', 0),\n",
       " ('CA', 1),\n",
       " ('CO', 0),\n",
       " ('CO', 1),\n",
       " ('CT', 0),\n",
       " ('CT', 1),\n",
       " ('DC', 0),\n",
       " ('DC', 1),\n",
       " ('DE', 0),\n",
       " ('DE', 1),\n",
       " ('FL', 0),\n",
       " ('FL', 1),\n",
       " ('FM', 0),\n",
       " ('GA', 0),\n",
       " ('GA', 1),\n",
       " ('GU', 0),\n",
       " ('GU', 1),\n",
       " ('HI', 0),\n",
       " ('HI', 1),\n",
       " ('IA', 0),\n",
       " ('IA', 1),\n",
       " ('ID', 0),\n",
       " ('ID', 1),\n",
       " ('IL', 0),\n",
       " ('IL', 1),\n",
       " ('IN', 0),\n",
       " ('IN', 1),\n",
       " ('KS', 0),\n",
       " ('KS', 1),\n",
       " ('KY', 0),\n",
       " ('KY', 1),\n",
       " ('LA', 0),\n",
       " ('LA', 1),\n",
       " ('MA', 0),\n",
       " ('MA', 1),\n",
       " ('MD', 0),\n",
       " ('MD', 1),\n",
       " ('ME', 0),\n",
       " ('ME', 1),\n",
       " ('MH', 0),\n",
       " ('MI', 0),\n",
       " ('MI', 1),\n",
       " ('MN', 0),\n",
       " ('MN', 1),\n",
       " ('MO', 0),\n",
       " ('MO', 1),\n",
       " ('MP', 0),\n",
       " ('MS', 0),\n",
       " ('MS', 1),\n",
       " ('MT', 0),\n",
       " ('MT', 1),\n",
       " ('NC', 0),\n",
       " ('NC', 1),\n",
       " ('ND', 0),\n",
       " ('ND', 1),\n",
       " ('NE', 0),\n",
       " ('NE', 1),\n",
       " ('NH', 0),\n",
       " ('NH', 1),\n",
       " ('NJ', 0),\n",
       " ('NJ', 1),\n",
       " ('NM', 0),\n",
       " ('NM', 1),\n",
       " ('NV', 0),\n",
       " ('NV', 1),\n",
       " ('NY', 0),\n",
       " ('NY', 1),\n",
       " ('OH', 0),\n",
       " ('OH', 1),\n",
       " ('OK', 0),\n",
       " ('OK', 1),\n",
       " ('OR', 0),\n",
       " ('OR', 1),\n",
       " ('PA', 0),\n",
       " ('PA', 1),\n",
       " ('PR', 0),\n",
       " ('PR', 1),\n",
       " ('PW', 0),\n",
       " ('RI', 0),\n",
       " ('RI', 1),\n",
       " ('SC', 0),\n",
       " ('SC', 1),\n",
       " ('SD', 0),\n",
       " ('SD', 1),\n",
       " ('TN', 0),\n",
       " ('TN', 1),\n",
       " ('TX', 0),\n",
       " ('TX', 1),\n",
       " ('UT', 0),\n",
       " ('UT', 1),\n",
       " ('VA', 0),\n",
       " ('VA', 1),\n",
       " ('VI', 0),\n",
       " ('VI', 1),\n",
       " ('VT', 0),\n",
       " ('VT', 1),\n",
       " ('WA', 0),\n",
       " ('WA', 1),\n",
       " ('WI', 0),\n",
       " ('WI', 1),\n",
       " ('WV', 0),\n",
       " ('WV', 1),\n",
       " ('WY', 0)]"
      ]
     },
     "execution_count": 21,
     "metadata": {},
     "output_type": "execute_result"
    }
   ],
   "source": [
    "#To find the uniquely identifying labels for each group, look in the groups attribute\n",
    "groups = list(grouped.groups.keys())\n",
    "groups"
   ]
  },
  {
   "cell_type": "code",
   "execution_count": 23,
   "id": "gentle-shareware",
   "metadata": {
    "ExecuteTime": {
     "end_time": "2021-03-26T04:52:16.033028Z",
     "start_time": "2021-03-26T04:52:15.957066Z"
    }
   },
   "outputs": [
    {
     "data": {
      "text/html": [
       "<div>\n",
       "<style scoped>\n",
       "    .dataframe tbody tr th:only-of-type {\n",
       "        vertical-align: middle;\n",
       "    }\n",
       "\n",
       "    .dataframe tbody tr th {\n",
       "        vertical-align: top;\n",
       "    }\n",
       "\n",
       "    .dataframe thead th {\n",
       "        text-align: right;\n",
       "    }\n",
       "</style>\n",
       "<table border=\"1\" class=\"dataframe\">\n",
       "  <thead>\n",
       "    <tr style=\"text-align: right;\">\n",
       "      <th></th>\n",
       "      <th>INSTNM</th>\n",
       "      <th>CITY</th>\n",
       "      <th>STABBR</th>\n",
       "      <th>HBCU</th>\n",
       "      <th>MENONLY</th>\n",
       "      <th>WOMENONLY</th>\n",
       "      <th>RELAFFIL</th>\n",
       "      <th>SATVRMID</th>\n",
       "      <th>SATMTMID</th>\n",
       "      <th>DISTANCEONLY</th>\n",
       "      <th>...</th>\n",
       "      <th>UGDS_2MOR</th>\n",
       "      <th>UGDS_NRA</th>\n",
       "      <th>UGDS_UNKN</th>\n",
       "      <th>PPTUG_EF</th>\n",
       "      <th>CURROPER</th>\n",
       "      <th>PCTPELL</th>\n",
       "      <th>PCTFLOAN</th>\n",
       "      <th>UG25ABV</th>\n",
       "      <th>MD_EARN_WNE_P10</th>\n",
       "      <th>GRAD_DEBT_MDN_SUPP</th>\n",
       "    </tr>\n",
       "  </thead>\n",
       "  <tbody>\n",
       "    <tr>\n",
       "      <th>712</th>\n",
       "      <td>The Baptist College of Florida</td>\n",
       "      <td>Graceville</td>\n",
       "      <td>FL</td>\n",
       "      <td>0.0</td>\n",
       "      <td>0.0</td>\n",
       "      <td>0.0</td>\n",
       "      <td>1</td>\n",
       "      <td>545.0</td>\n",
       "      <td>465.0</td>\n",
       "      <td>0.0</td>\n",
       "      <td>...</td>\n",
       "      <td>0.0308</td>\n",
       "      <td>0.0000</td>\n",
       "      <td>0.0507</td>\n",
       "      <td>0.2291</td>\n",
       "      <td>1</td>\n",
       "      <td>0.5878</td>\n",
       "      <td>0.5602</td>\n",
       "      <td>0.3531</td>\n",
       "      <td>30800</td>\n",
       "      <td>20052</td>\n",
       "    </tr>\n",
       "    <tr>\n",
       "      <th>713</th>\n",
       "      <td>Barry University</td>\n",
       "      <td>Miami</td>\n",
       "      <td>FL</td>\n",
       "      <td>0.0</td>\n",
       "      <td>0.0</td>\n",
       "      <td>0.0</td>\n",
       "      <td>1</td>\n",
       "      <td>470.0</td>\n",
       "      <td>462.0</td>\n",
       "      <td>0.0</td>\n",
       "      <td>...</td>\n",
       "      <td>0.0164</td>\n",
       "      <td>0.0741</td>\n",
       "      <td>0.0841</td>\n",
       "      <td>0.1518</td>\n",
       "      <td>1</td>\n",
       "      <td>0.5045</td>\n",
       "      <td>0.6733</td>\n",
       "      <td>0.4361</td>\n",
       "      <td>44100</td>\n",
       "      <td>28250</td>\n",
       "    </tr>\n",
       "    <tr>\n",
       "      <th>714</th>\n",
       "      <td>Gooding Institute of Nurse Anesthesia</td>\n",
       "      <td>Panama City</td>\n",
       "      <td>FL</td>\n",
       "      <td>0.0</td>\n",
       "      <td>0.0</td>\n",
       "      <td>0.0</td>\n",
       "      <td>1</td>\n",
       "      <td>NaN</td>\n",
       "      <td>NaN</td>\n",
       "      <td>0.0</td>\n",
       "      <td>...</td>\n",
       "      <td>NaN</td>\n",
       "      <td>NaN</td>\n",
       "      <td>NaN</td>\n",
       "      <td>NaN</td>\n",
       "      <td>0</td>\n",
       "      <td>NaN</td>\n",
       "      <td>NaN</td>\n",
       "      <td>NaN</td>\n",
       "      <td>NaN</td>\n",
       "      <td>PrivacySuppressed</td>\n",
       "    </tr>\n",
       "    <tr>\n",
       "      <th>715</th>\n",
       "      <td>Bethune-Cookman University</td>\n",
       "      <td>Daytona Beach</td>\n",
       "      <td>FL</td>\n",
       "      <td>1.0</td>\n",
       "      <td>0.0</td>\n",
       "      <td>0.0</td>\n",
       "      <td>1</td>\n",
       "      <td>405.0</td>\n",
       "      <td>395.0</td>\n",
       "      <td>0.0</td>\n",
       "      <td>...</td>\n",
       "      <td>0.0198</td>\n",
       "      <td>0.0205</td>\n",
       "      <td>0.0190</td>\n",
       "      <td>0.0523</td>\n",
       "      <td>1</td>\n",
       "      <td>0.7758</td>\n",
       "      <td>0.8867</td>\n",
       "      <td>0.0647</td>\n",
       "      <td>29400</td>\n",
       "      <td>36250</td>\n",
       "    </tr>\n",
       "    <tr>\n",
       "      <th>724</th>\n",
       "      <td>Johnson University Florida</td>\n",
       "      <td>Kissimmee</td>\n",
       "      <td>FL</td>\n",
       "      <td>0.0</td>\n",
       "      <td>0.0</td>\n",
       "      <td>0.0</td>\n",
       "      <td>1</td>\n",
       "      <td>480.0</td>\n",
       "      <td>470.0</td>\n",
       "      <td>0.0</td>\n",
       "      <td>...</td>\n",
       "      <td>0.0045</td>\n",
       "      <td>0.0045</td>\n",
       "      <td>0.0136</td>\n",
       "      <td>0.1636</td>\n",
       "      <td>1</td>\n",
       "      <td>0.6689</td>\n",
       "      <td>0.7384</td>\n",
       "      <td>0.2185</td>\n",
       "      <td>26300</td>\n",
       "      <td>20199</td>\n",
       "    </tr>\n",
       "  </tbody>\n",
       "</table>\n",
       "<p>5 rows × 27 columns</p>\n",
       "</div>"
      ],
      "text/plain": [
       "                                    INSTNM           CITY STABBR  HBCU  \\\n",
       "712         The Baptist College of Florida     Graceville     FL   0.0   \n",
       "713                       Barry University          Miami     FL   0.0   \n",
       "714  Gooding Institute of Nurse Anesthesia    Panama City     FL   0.0   \n",
       "715             Bethune-Cookman University  Daytona Beach     FL   1.0   \n",
       "724             Johnson University Florida      Kissimmee     FL   0.0   \n",
       "\n",
       "     MENONLY  WOMENONLY  RELAFFIL  SATVRMID  SATMTMID  DISTANCEONLY  ...  \\\n",
       "712      0.0        0.0         1     545.0     465.0           0.0  ...   \n",
       "713      0.0        0.0         1     470.0     462.0           0.0  ...   \n",
       "714      0.0        0.0         1       NaN       NaN           0.0  ...   \n",
       "715      0.0        0.0         1     405.0     395.0           0.0  ...   \n",
       "724      0.0        0.0         1     480.0     470.0           0.0  ...   \n",
       "\n",
       "     UGDS_2MOR  UGDS_NRA  UGDS_UNKN  PPTUG_EF  CURROPER  PCTPELL  PCTFLOAN  \\\n",
       "712     0.0308    0.0000     0.0507    0.2291         1   0.5878    0.5602   \n",
       "713     0.0164    0.0741     0.0841    0.1518         1   0.5045    0.6733   \n",
       "714        NaN       NaN        NaN       NaN         0      NaN       NaN   \n",
       "715     0.0198    0.0205     0.0190    0.0523         1   0.7758    0.8867   \n",
       "724     0.0045    0.0045     0.0136    0.1636         1   0.6689    0.7384   \n",
       "\n",
       "     UG25ABV  MD_EARN_WNE_P10  GRAD_DEBT_MDN_SUPP  \n",
       "712   0.3531            30800               20052  \n",
       "713   0.4361            44100               28250  \n",
       "714      NaN              NaN   PrivacySuppressed  \n",
       "715   0.0647            29400               36250  \n",
       "724   0.2185            26300               20199  \n",
       "\n",
       "[5 rows x 27 columns]"
      ]
     },
     "execution_count": 23,
     "metadata": {},
     "output_type": "execute_result"
    }
   ],
   "source": [
    "# Retrieve a single group with the get_group method by passing it a tuple of an exact group label\n",
    "grouped.get_group(('FL',1)).head()"
   ]
  },
  {
   "cell_type": "markdown",
   "id": "promotional-norway",
   "metadata": {},
   "source": [
    "## Filtering for states with a minority majority"
   ]
  },
  {
   "cell_type": "code",
   "execution_count": 24,
   "id": "civilian-mexico",
   "metadata": {
    "ExecuteTime": {
     "end_time": "2021-03-26T04:53:01.902925Z",
     "start_time": "2021-03-26T04:53:01.885317Z"
    }
   },
   "outputs": [],
   "source": [
    "college.set_index('INSTNM', inplace= True)"
   ]
  },
  {
   "cell_type": "code",
   "execution_count": 25,
   "id": "impaired-appearance",
   "metadata": {
    "ExecuteTime": {
     "end_time": "2021-03-26T04:53:05.819574Z",
     "start_time": "2021-03-26T04:53:05.795564Z"
    }
   },
   "outputs": [
    {
     "data": {
      "text/plain": [
       "59"
      ]
     },
     "execution_count": 25,
     "metadata": {},
     "output_type": "execute_result"
    }
   ],
   "source": [
    "grouped = college.groupby('STABBR')\n",
    "grouped.ngroups\n",
    "#college['STABBR'].nunique() #for verifying the same number"
   ]
  },
  {
   "cell_type": "markdown",
   "id": "secondary-installation",
   "metadata": {},
   "source": [
    "```The grouped variable has a filter method, which accepts a custom function\n",
    "that determines whether a group is kept or not.```"
   ]
  },
  {
   "cell_type": "code",
   "execution_count": 26,
   "id": "criminal-lyric",
   "metadata": {
    "ExecuteTime": {
     "end_time": "2021-03-26T04:55:31.734382Z",
     "start_time": "2021-03-26T04:55:31.718869Z"
    }
   },
   "outputs": [],
   "source": [
    "def check_minority(df, threshold):\n",
    "    minority_pct = 1 - df['UGDS_WHITE']\n",
    "    total_minority = (df['UGDS'] * minority_pct).sum()\n",
    "    total_ugds = df['UGDS'].sum()\n",
    "    total_minority_pct = total_minority / total_ugds\n",
    "    return total_minority_pct > threshold"
   ]
  },
  {
   "cell_type": "code",
   "execution_count": 27,
   "id": "western-moscow",
   "metadata": {
    "ExecuteTime": {
     "end_time": "2021-03-26T04:55:34.198394Z",
     "start_time": "2021-03-26T04:55:33.995392Z"
    }
   },
   "outputs": [
    {
     "data": {
      "text/html": [
       "<div>\n",
       "<style scoped>\n",
       "    .dataframe tbody tr th:only-of-type {\n",
       "        vertical-align: middle;\n",
       "    }\n",
       "\n",
       "    .dataframe tbody tr th {\n",
       "        vertical-align: top;\n",
       "    }\n",
       "\n",
       "    .dataframe thead th {\n",
       "        text-align: right;\n",
       "    }\n",
       "</style>\n",
       "<table border=\"1\" class=\"dataframe\">\n",
       "  <thead>\n",
       "    <tr style=\"text-align: right;\">\n",
       "      <th></th>\n",
       "      <th>CITY</th>\n",
       "      <th>STABBR</th>\n",
       "      <th>HBCU</th>\n",
       "      <th>MENONLY</th>\n",
       "      <th>WOMENONLY</th>\n",
       "      <th>RELAFFIL</th>\n",
       "      <th>SATVRMID</th>\n",
       "      <th>SATMTMID</th>\n",
       "      <th>DISTANCEONLY</th>\n",
       "      <th>UGDS</th>\n",
       "      <th>...</th>\n",
       "      <th>UGDS_2MOR</th>\n",
       "      <th>UGDS_NRA</th>\n",
       "      <th>UGDS_UNKN</th>\n",
       "      <th>PPTUG_EF</th>\n",
       "      <th>CURROPER</th>\n",
       "      <th>PCTPELL</th>\n",
       "      <th>PCTFLOAN</th>\n",
       "      <th>UG25ABV</th>\n",
       "      <th>MD_EARN_WNE_P10</th>\n",
       "      <th>GRAD_DEBT_MDN_SUPP</th>\n",
       "    </tr>\n",
       "    <tr>\n",
       "      <th>INSTNM</th>\n",
       "      <th></th>\n",
       "      <th></th>\n",
       "      <th></th>\n",
       "      <th></th>\n",
       "      <th></th>\n",
       "      <th></th>\n",
       "      <th></th>\n",
       "      <th></th>\n",
       "      <th></th>\n",
       "      <th></th>\n",
       "      <th></th>\n",
       "      <th></th>\n",
       "      <th></th>\n",
       "      <th></th>\n",
       "      <th></th>\n",
       "      <th></th>\n",
       "      <th></th>\n",
       "      <th></th>\n",
       "      <th></th>\n",
       "      <th></th>\n",
       "      <th></th>\n",
       "    </tr>\n",
       "  </thead>\n",
       "  <tbody>\n",
       "    <tr>\n",
       "      <th>Everest College-Phoenix</th>\n",
       "      <td>Phoenix</td>\n",
       "      <td>AZ</td>\n",
       "      <td>0.0</td>\n",
       "      <td>0.0</td>\n",
       "      <td>0.0</td>\n",
       "      <td>1</td>\n",
       "      <td>NaN</td>\n",
       "      <td>NaN</td>\n",
       "      <td>0.0</td>\n",
       "      <td>4102.0</td>\n",
       "      <td>...</td>\n",
       "      <td>0.0373</td>\n",
       "      <td>0.0</td>\n",
       "      <td>0.1026</td>\n",
       "      <td>0.4749</td>\n",
       "      <td>0</td>\n",
       "      <td>0.8291</td>\n",
       "      <td>0.7151</td>\n",
       "      <td>0.6700</td>\n",
       "      <td>28600</td>\n",
       "      <td>9500</td>\n",
       "    </tr>\n",
       "    <tr>\n",
       "      <th>Collins College</th>\n",
       "      <td>Phoenix</td>\n",
       "      <td>AZ</td>\n",
       "      <td>0.0</td>\n",
       "      <td>0.0</td>\n",
       "      <td>0.0</td>\n",
       "      <td>0</td>\n",
       "      <td>NaN</td>\n",
       "      <td>NaN</td>\n",
       "      <td>0.0</td>\n",
       "      <td>83.0</td>\n",
       "      <td>...</td>\n",
       "      <td>0.0241</td>\n",
       "      <td>0.0</td>\n",
       "      <td>0.3855</td>\n",
       "      <td>0.3373</td>\n",
       "      <td>0</td>\n",
       "      <td>0.7205</td>\n",
       "      <td>0.8228</td>\n",
       "      <td>0.4764</td>\n",
       "      <td>25700</td>\n",
       "      <td>47000</td>\n",
       "    </tr>\n",
       "    <tr>\n",
       "      <th>Empire Beauty School-Paradise Valley</th>\n",
       "      <td>Phoenix</td>\n",
       "      <td>AZ</td>\n",
       "      <td>0.0</td>\n",
       "      <td>0.0</td>\n",
       "      <td>0.0</td>\n",
       "      <td>1</td>\n",
       "      <td>NaN</td>\n",
       "      <td>NaN</td>\n",
       "      <td>0.0</td>\n",
       "      <td>25.0</td>\n",
       "      <td>...</td>\n",
       "      <td>0.0400</td>\n",
       "      <td>0.0</td>\n",
       "      <td>0.0000</td>\n",
       "      <td>0.1600</td>\n",
       "      <td>0</td>\n",
       "      <td>0.6349</td>\n",
       "      <td>0.5873</td>\n",
       "      <td>0.4651</td>\n",
       "      <td>17800</td>\n",
       "      <td>9588</td>\n",
       "    </tr>\n",
       "    <tr>\n",
       "      <th>Empire Beauty School-Tucson</th>\n",
       "      <td>Tucson</td>\n",
       "      <td>AZ</td>\n",
       "      <td>0.0</td>\n",
       "      <td>0.0</td>\n",
       "      <td>0.0</td>\n",
       "      <td>0</td>\n",
       "      <td>NaN</td>\n",
       "      <td>NaN</td>\n",
       "      <td>0.0</td>\n",
       "      <td>126.0</td>\n",
       "      <td>...</td>\n",
       "      <td>0.0000</td>\n",
       "      <td>0.0</td>\n",
       "      <td>0.0079</td>\n",
       "      <td>0.2222</td>\n",
       "      <td>1</td>\n",
       "      <td>0.7962</td>\n",
       "      <td>0.6615</td>\n",
       "      <td>0.4229</td>\n",
       "      <td>18200</td>\n",
       "      <td>9833</td>\n",
       "    </tr>\n",
       "    <tr>\n",
       "      <th>Thunderbird School of Global Management</th>\n",
       "      <td>Glendale</td>\n",
       "      <td>AZ</td>\n",
       "      <td>0.0</td>\n",
       "      <td>0.0</td>\n",
       "      <td>0.0</td>\n",
       "      <td>0</td>\n",
       "      <td>NaN</td>\n",
       "      <td>NaN</td>\n",
       "      <td>0.0</td>\n",
       "      <td>1.0</td>\n",
       "      <td>...</td>\n",
       "      <td>0.0000</td>\n",
       "      <td>0.0</td>\n",
       "      <td>0.0000</td>\n",
       "      <td>1.0000</td>\n",
       "      <td>0</td>\n",
       "      <td>0.0000</td>\n",
       "      <td>0.0000</td>\n",
       "      <td>0.0000</td>\n",
       "      <td>118900</td>\n",
       "      <td>PrivacySuppressed</td>\n",
       "    </tr>\n",
       "  </tbody>\n",
       "</table>\n",
       "<p>5 rows × 26 columns</p>\n",
       "</div>"
      ],
      "text/plain": [
       "                                             CITY STABBR  HBCU  MENONLY  \\\n",
       "INSTNM                                                                    \n",
       "Everest College-Phoenix                   Phoenix     AZ   0.0      0.0   \n",
       "Collins College                           Phoenix     AZ   0.0      0.0   \n",
       "Empire Beauty School-Paradise Valley      Phoenix     AZ   0.0      0.0   \n",
       "Empire Beauty School-Tucson                Tucson     AZ   0.0      0.0   \n",
       "Thunderbird School of Global Management  Glendale     AZ   0.0      0.0   \n",
       "\n",
       "                                         WOMENONLY  RELAFFIL  SATVRMID  \\\n",
       "INSTNM                                                                   \n",
       "Everest College-Phoenix                        0.0         1       NaN   \n",
       "Collins College                                0.0         0       NaN   \n",
       "Empire Beauty School-Paradise Valley           0.0         1       NaN   \n",
       "Empire Beauty School-Tucson                    0.0         0       NaN   \n",
       "Thunderbird School of Global Management        0.0         0       NaN   \n",
       "\n",
       "                                         SATMTMID  DISTANCEONLY    UGDS  ...  \\\n",
       "INSTNM                                                                   ...   \n",
       "Everest College-Phoenix                       NaN           0.0  4102.0  ...   \n",
       "Collins College                               NaN           0.0    83.0  ...   \n",
       "Empire Beauty School-Paradise Valley          NaN           0.0    25.0  ...   \n",
       "Empire Beauty School-Tucson                   NaN           0.0   126.0  ...   \n",
       "Thunderbird School of Global Management       NaN           0.0     1.0  ...   \n",
       "\n",
       "                                         UGDS_2MOR  UGDS_NRA  UGDS_UNKN  \\\n",
       "INSTNM                                                                    \n",
       "Everest College-Phoenix                     0.0373       0.0     0.1026   \n",
       "Collins College                             0.0241       0.0     0.3855   \n",
       "Empire Beauty School-Paradise Valley        0.0400       0.0     0.0000   \n",
       "Empire Beauty School-Tucson                 0.0000       0.0     0.0079   \n",
       "Thunderbird School of Global Management     0.0000       0.0     0.0000   \n",
       "\n",
       "                                         PPTUG_EF  CURROPER  PCTPELL  \\\n",
       "INSTNM                                                                 \n",
       "Everest College-Phoenix                    0.4749         0   0.8291   \n",
       "Collins College                            0.3373         0   0.7205   \n",
       "Empire Beauty School-Paradise Valley       0.1600         0   0.6349   \n",
       "Empire Beauty School-Tucson                0.2222         1   0.7962   \n",
       "Thunderbird School of Global Management    1.0000         0   0.0000   \n",
       "\n",
       "                                         PCTFLOAN  UG25ABV  MD_EARN_WNE_P10  \\\n",
       "INSTNM                                                                        \n",
       "Everest College-Phoenix                    0.7151   0.6700            28600   \n",
       "Collins College                            0.8228   0.4764            25700   \n",
       "Empire Beauty School-Paradise Valley       0.5873   0.4651            17800   \n",
       "Empire Beauty School-Tucson                0.6615   0.4229            18200   \n",
       "Thunderbird School of Global Management    0.0000   0.0000           118900   \n",
       "\n",
       "                                         GRAD_DEBT_MDN_SUPP  \n",
       "INSTNM                                                       \n",
       "Everest College-Phoenix                                9500  \n",
       "Collins College                                       47000  \n",
       "Empire Beauty School-Paradise Valley                   9588  \n",
       "Empire Beauty School-Tucson                            9833  \n",
       "Thunderbird School of Global Management   PrivacySuppressed  \n",
       "\n",
       "[5 rows x 26 columns]"
      ]
     },
     "execution_count": 27,
     "metadata": {},
     "output_type": "execute_result"
    }
   ],
   "source": [
    "#threshold of 50% to find all states that have a minority majority\n",
    "college_filtered = grouped.filter(check_minority, threshold =.5)\n",
    "college_filtered.head()"
   ]
  },
  {
   "cell_type": "markdown",
   "id": "extra-chrome",
   "metadata": {},
   "source": [
    "## Transforming through a weight loss bet"
   ]
  },
  {
   "cell_type": "code",
   "execution_count": 28,
   "id": "tight-teens",
   "metadata": {
    "ExecuteTime": {
     "end_time": "2021-03-26T04:56:16.421998Z",
     "start_time": "2021-03-26T04:56:15.548903Z"
    }
   },
   "outputs": [
    {
     "data": {
      "text/html": [
       "<div>\n",
       "<style scoped>\n",
       "    .dataframe tbody tr th:only-of-type {\n",
       "        vertical-align: middle;\n",
       "    }\n",
       "\n",
       "    .dataframe tbody tr th {\n",
       "        vertical-align: top;\n",
       "    }\n",
       "\n",
       "    .dataframe thead th {\n",
       "        text-align: right;\n",
       "    }\n",
       "</style>\n",
       "<table border=\"1\" class=\"dataframe\">\n",
       "  <thead>\n",
       "    <tr style=\"text-align: right;\">\n",
       "      <th></th>\n",
       "      <th>Name</th>\n",
       "      <th>Month</th>\n",
       "      <th>Week</th>\n",
       "      <th>Weight</th>\n",
       "    </tr>\n",
       "  </thead>\n",
       "  <tbody>\n",
       "    <tr>\n",
       "      <th>0</th>\n",
       "      <td>Bob</td>\n",
       "      <td>Jan</td>\n",
       "      <td>Week 1</td>\n",
       "      <td>291</td>\n",
       "    </tr>\n",
       "    <tr>\n",
       "      <th>1</th>\n",
       "      <td>Amy</td>\n",
       "      <td>Jan</td>\n",
       "      <td>Week 1</td>\n",
       "      <td>197</td>\n",
       "    </tr>\n",
       "    <tr>\n",
       "      <th>2</th>\n",
       "      <td>Bob</td>\n",
       "      <td>Jan</td>\n",
       "      <td>Week 2</td>\n",
       "      <td>288</td>\n",
       "    </tr>\n",
       "    <tr>\n",
       "      <th>3</th>\n",
       "      <td>Amy</td>\n",
       "      <td>Jan</td>\n",
       "      <td>Week 2</td>\n",
       "      <td>189</td>\n",
       "    </tr>\n",
       "    <tr>\n",
       "      <th>4</th>\n",
       "      <td>Bob</td>\n",
       "      <td>Jan</td>\n",
       "      <td>Week 3</td>\n",
       "      <td>283</td>\n",
       "    </tr>\n",
       "  </tbody>\n",
       "</table>\n",
       "</div>"
      ],
      "text/plain": [
       "  Name Month    Week  Weight\n",
       "0  Bob   Jan  Week 1     291\n",
       "1  Amy   Jan  Week 1     197\n",
       "2  Bob   Jan  Week 2     288\n",
       "3  Amy   Jan  Week 2     189\n",
       "4  Bob   Jan  Week 3     283"
      ]
     },
     "execution_count": 28,
     "metadata": {},
     "output_type": "execute_result"
    }
   ],
   "source": [
    "url = \"https://raw.githubusercontent.com/PacktPublishing/Pandas-Cookbook/master/data/weight_loss.csv\"\n",
    "weight_loss = pd.read_csv(url)\n",
    "weight_loss.head()"
   ]
  },
  {
   "cell_type": "code",
   "execution_count": 29,
   "id": "certain-tissue",
   "metadata": {
    "ExecuteTime": {
     "end_time": "2021-03-26T04:56:27.769143Z",
     "start_time": "2021-03-26T04:56:27.741148Z"
    }
   },
   "outputs": [
    {
     "data": {
      "text/html": [
       "<div>\n",
       "<style scoped>\n",
       "    .dataframe tbody tr th:only-of-type {\n",
       "        vertical-align: middle;\n",
       "    }\n",
       "\n",
       "    .dataframe tbody tr th {\n",
       "        vertical-align: top;\n",
       "    }\n",
       "\n",
       "    .dataframe thead th {\n",
       "        text-align: right;\n",
       "    }\n",
       "</style>\n",
       "<table border=\"1\" class=\"dataframe\">\n",
       "  <thead>\n",
       "    <tr style=\"text-align: right;\">\n",
       "      <th></th>\n",
       "      <th>Name</th>\n",
       "      <th>Month</th>\n",
       "      <th>Week</th>\n",
       "      <th>Weight</th>\n",
       "    </tr>\n",
       "  </thead>\n",
       "  <tbody>\n",
       "    <tr>\n",
       "      <th>0</th>\n",
       "      <td>Bob</td>\n",
       "      <td>Jan</td>\n",
       "      <td>Week 1</td>\n",
       "      <td>291</td>\n",
       "    </tr>\n",
       "    <tr>\n",
       "      <th>1</th>\n",
       "      <td>Amy</td>\n",
       "      <td>Jan</td>\n",
       "      <td>Week 1</td>\n",
       "      <td>197</td>\n",
       "    </tr>\n",
       "    <tr>\n",
       "      <th>2</th>\n",
       "      <td>Bob</td>\n",
       "      <td>Jan</td>\n",
       "      <td>Week 2</td>\n",
       "      <td>288</td>\n",
       "    </tr>\n",
       "    <tr>\n",
       "      <th>3</th>\n",
       "      <td>Amy</td>\n",
       "      <td>Jan</td>\n",
       "      <td>Week 2</td>\n",
       "      <td>189</td>\n",
       "    </tr>\n",
       "    <tr>\n",
       "      <th>4</th>\n",
       "      <td>Bob</td>\n",
       "      <td>Jan</td>\n",
       "      <td>Week 3</td>\n",
       "      <td>283</td>\n",
       "    </tr>\n",
       "    <tr>\n",
       "      <th>5</th>\n",
       "      <td>Amy</td>\n",
       "      <td>Jan</td>\n",
       "      <td>Week 3</td>\n",
       "      <td>189</td>\n",
       "    </tr>\n",
       "    <tr>\n",
       "      <th>6</th>\n",
       "      <td>Bob</td>\n",
       "      <td>Jan</td>\n",
       "      <td>Week 4</td>\n",
       "      <td>283</td>\n",
       "    </tr>\n",
       "    <tr>\n",
       "      <th>7</th>\n",
       "      <td>Amy</td>\n",
       "      <td>Jan</td>\n",
       "      <td>Week 4</td>\n",
       "      <td>190</td>\n",
       "    </tr>\n",
       "  </tbody>\n",
       "</table>\n",
       "</div>"
      ],
      "text/plain": [
       "  Name Month    Week  Weight\n",
       "0  Bob   Jan  Week 1     291\n",
       "1  Amy   Jan  Week 1     197\n",
       "2  Bob   Jan  Week 2     288\n",
       "3  Amy   Jan  Week 2     189\n",
       "4  Bob   Jan  Week 3     283\n",
       "5  Amy   Jan  Week 3     189\n",
       "6  Bob   Jan  Week 4     283\n",
       "7  Amy   Jan  Week 4     190"
      ]
     },
     "execution_count": 29,
     "metadata": {},
     "output_type": "execute_result"
    }
   ],
   "source": [
    "weight_loss[weight_loss['Month'] == 'Jan']\n",
    "#or weight_loss.query('Month'=='Jan')"
   ]
  },
  {
   "cell_type": "code",
   "execution_count": 30,
   "id": "offensive-alert",
   "metadata": {
    "ExecuteTime": {
     "end_time": "2021-03-26T04:56:48.739237Z",
     "start_time": "2021-03-26T04:56:48.722234Z"
    }
   },
   "outputs": [],
   "source": [
    "# To determine the winner for each month, we only need to compare weight loss from the first week \n",
    "# to the last week of each month.\n",
    "def find_perc_loss(s):\n",
    "    return (s - s.iloc[0]) / s.iloc[0]"
   ]
  },
  {
   "cell_type": "code",
   "execution_count": 31,
   "id": "qualified-window",
   "metadata": {
    "ExecuteTime": {
     "end_time": "2021-03-08T05:18:18.210928Z",
     "start_time": "2021-03-08T05:18:18.173798Z"
    }
   },
   "outputs": [
    {
     "data": {
      "text/plain": [
       "0    0.000000\n",
       "2   -0.010309\n",
       "4   -0.027491\n",
       "6   -0.027491\n",
       "Name: Weight, dtype: float64"
      ]
     },
     "execution_count": 31,
     "metadata": {},
     "output_type": "execute_result"
    }
   ],
   "source": [
    "bob_jan = weight_loss.query('Name==\"Bob\" and Month==\"Jan\"')\n",
    "find_perc_loss(bob_jan['Weight'])"
   ]
  },
  {
   "cell_type": "code",
   "execution_count": 32,
   "id": "discrete-aspect",
   "metadata": {
    "ExecuteTime": {
     "end_time": "2021-03-08T05:18:18.269620Z",
     "start_time": "2021-03-08T05:18:18.214939Z"
    }
   },
   "outputs": [
    {
     "data": {
      "text/plain": [
       "0    0.000000\n",
       "1    0.000000\n",
       "2   -0.010309\n",
       "3   -0.040609\n",
       "4   -0.027491\n",
       "Name: Weight, dtype: float64"
      ]
     },
     "execution_count": 32,
     "metadata": {},
     "output_type": "execute_result"
    }
   ],
   "source": [
    "#We can apply this function to every single combination of person and week to get the\n",
    "#weight loss per week in relation to the first week of the month\n",
    "\n",
    "pcnt_loss = weight_loss.groupby(['Name', 'Month'])['Weight'].transform(find_perc_loss)\n",
    "pcnt_loss.head()"
   ]
  },
  {
   "cell_type": "code",
   "execution_count": 33,
   "id": "restricted-patrol",
   "metadata": {
    "ExecuteTime": {
     "end_time": "2021-03-08T05:18:18.310324Z",
     "start_time": "2021-03-08T05:18:18.273907Z"
    }
   },
   "outputs": [
    {
     "data": {
      "text/html": [
       "<div>\n",
       "<style scoped>\n",
       "    .dataframe tbody tr th:only-of-type {\n",
       "        vertical-align: middle;\n",
       "    }\n",
       "\n",
       "    .dataframe tbody tr th {\n",
       "        vertical-align: top;\n",
       "    }\n",
       "\n",
       "    .dataframe thead th {\n",
       "        text-align: right;\n",
       "    }\n",
       "</style>\n",
       "<table border=\"1\" class=\"dataframe\">\n",
       "  <thead>\n",
       "    <tr style=\"text-align: right;\">\n",
       "      <th></th>\n",
       "      <th>Name</th>\n",
       "      <th>Month</th>\n",
       "      <th>Week</th>\n",
       "      <th>Weight</th>\n",
       "      <th>Perc weight loss</th>\n",
       "    </tr>\n",
       "  </thead>\n",
       "  <tbody>\n",
       "    <tr>\n",
       "      <th>0</th>\n",
       "      <td>Bob</td>\n",
       "      <td>Jan</td>\n",
       "      <td>Week 1</td>\n",
       "      <td>291</td>\n",
       "      <td>0.000</td>\n",
       "    </tr>\n",
       "    <tr>\n",
       "      <th>2</th>\n",
       "      <td>Bob</td>\n",
       "      <td>Jan</td>\n",
       "      <td>Week 2</td>\n",
       "      <td>288</td>\n",
       "      <td>-0.010</td>\n",
       "    </tr>\n",
       "    <tr>\n",
       "      <th>4</th>\n",
       "      <td>Bob</td>\n",
       "      <td>Jan</td>\n",
       "      <td>Week 3</td>\n",
       "      <td>283</td>\n",
       "      <td>-0.027</td>\n",
       "    </tr>\n",
       "    <tr>\n",
       "      <th>6</th>\n",
       "      <td>Bob</td>\n",
       "      <td>Jan</td>\n",
       "      <td>Week 4</td>\n",
       "      <td>283</td>\n",
       "      <td>-0.027</td>\n",
       "    </tr>\n",
       "    <tr>\n",
       "      <th>8</th>\n",
       "      <td>Bob</td>\n",
       "      <td>Feb</td>\n",
       "      <td>Week 1</td>\n",
       "      <td>283</td>\n",
       "      <td>0.000</td>\n",
       "    </tr>\n",
       "    <tr>\n",
       "      <th>10</th>\n",
       "      <td>Bob</td>\n",
       "      <td>Feb</td>\n",
       "      <td>Week 2</td>\n",
       "      <td>275</td>\n",
       "      <td>-0.028</td>\n",
       "    </tr>\n",
       "    <tr>\n",
       "      <th>12</th>\n",
       "      <td>Bob</td>\n",
       "      <td>Feb</td>\n",
       "      <td>Week 3</td>\n",
       "      <td>268</td>\n",
       "      <td>-0.053</td>\n",
       "    </tr>\n",
       "    <tr>\n",
       "      <th>14</th>\n",
       "      <td>Bob</td>\n",
       "      <td>Feb</td>\n",
       "      <td>Week 4</td>\n",
       "      <td>268</td>\n",
       "      <td>-0.053</td>\n",
       "    </tr>\n",
       "  </tbody>\n",
       "</table>\n",
       "</div>"
      ],
      "text/plain": [
       "   Name Month    Week  Weight  Perc weight loss\n",
       "0   Bob   Jan  Week 1     291             0.000\n",
       "2   Bob   Jan  Week 2     288            -0.010\n",
       "4   Bob   Jan  Week 3     283            -0.027\n",
       "6   Bob   Jan  Week 4     283            -0.027\n",
       "8   Bob   Feb  Week 1     283             0.000\n",
       "10  Bob   Feb  Week 2     275            -0.028\n",
       "12  Bob   Feb  Week 3     268            -0.053\n",
       "14  Bob   Feb  Week 4     268            -0.053"
      ]
     },
     "execution_count": 33,
     "metadata": {},
     "output_type": "execute_result"
    }
   ],
   "source": [
    "#add it to the column\n",
    "weight_loss['Perc weight loss'] = pcnt_loss.round(3)\n",
    "weight_loss.query('Name == \"Bob\" and Month in [\"Jan\", \"Feb\"]')"
   ]
  },
  {
   "cell_type": "code",
   "execution_count": 34,
   "id": "reverse-blair",
   "metadata": {
    "ExecuteTime": {
     "end_time": "2021-03-08T05:18:18.352783Z",
     "start_time": "2021-03-08T05:18:18.318093Z"
    }
   },
   "outputs": [
    {
     "data": {
      "text/html": [
       "<div>\n",
       "<style scoped>\n",
       "    .dataframe tbody tr th:only-of-type {\n",
       "        vertical-align: middle;\n",
       "    }\n",
       "\n",
       "    .dataframe tbody tr th {\n",
       "        vertical-align: top;\n",
       "    }\n",
       "\n",
       "    .dataframe thead th {\n",
       "        text-align: right;\n",
       "    }\n",
       "</style>\n",
       "<table border=\"1\" class=\"dataframe\">\n",
       "  <thead>\n",
       "    <tr style=\"text-align: right;\">\n",
       "      <th></th>\n",
       "      <th>Name</th>\n",
       "      <th>Month</th>\n",
       "      <th>Week</th>\n",
       "      <th>Weight</th>\n",
       "      <th>Perc weight loss</th>\n",
       "    </tr>\n",
       "  </thead>\n",
       "  <tbody>\n",
       "    <tr>\n",
       "      <th>6</th>\n",
       "      <td>Bob</td>\n",
       "      <td>Jan</td>\n",
       "      <td>Week 4</td>\n",
       "      <td>283</td>\n",
       "      <td>-0.027</td>\n",
       "    </tr>\n",
       "    <tr>\n",
       "      <th>7</th>\n",
       "      <td>Amy</td>\n",
       "      <td>Jan</td>\n",
       "      <td>Week 4</td>\n",
       "      <td>190</td>\n",
       "      <td>-0.036</td>\n",
       "    </tr>\n",
       "    <tr>\n",
       "      <th>14</th>\n",
       "      <td>Bob</td>\n",
       "      <td>Feb</td>\n",
       "      <td>Week 4</td>\n",
       "      <td>268</td>\n",
       "      <td>-0.053</td>\n",
       "    </tr>\n",
       "    <tr>\n",
       "      <th>15</th>\n",
       "      <td>Amy</td>\n",
       "      <td>Feb</td>\n",
       "      <td>Week 4</td>\n",
       "      <td>173</td>\n",
       "      <td>-0.089</td>\n",
       "    </tr>\n",
       "    <tr>\n",
       "      <th>22</th>\n",
       "      <td>Bob</td>\n",
       "      <td>Mar</td>\n",
       "      <td>Week 4</td>\n",
       "      <td>261</td>\n",
       "      <td>-0.026</td>\n",
       "    </tr>\n",
       "    <tr>\n",
       "      <th>23</th>\n",
       "      <td>Amy</td>\n",
       "      <td>Mar</td>\n",
       "      <td>Week 4</td>\n",
       "      <td>170</td>\n",
       "      <td>-0.017</td>\n",
       "    </tr>\n",
       "    <tr>\n",
       "      <th>30</th>\n",
       "      <td>Bob</td>\n",
       "      <td>Apr</td>\n",
       "      <td>Week 4</td>\n",
       "      <td>250</td>\n",
       "      <td>-0.042</td>\n",
       "    </tr>\n",
       "    <tr>\n",
       "      <th>31</th>\n",
       "      <td>Amy</td>\n",
       "      <td>Apr</td>\n",
       "      <td>Week 4</td>\n",
       "      <td>161</td>\n",
       "      <td>-0.053</td>\n",
       "    </tr>\n",
       "  </tbody>\n",
       "</table>\n",
       "</div>"
      ],
      "text/plain": [
       "   Name Month    Week  Weight  Perc weight loss\n",
       "6   Bob   Jan  Week 4     283            -0.027\n",
       "7   Amy   Jan  Week 4     190            -0.036\n",
       "14  Bob   Feb  Week 4     268            -0.053\n",
       "15  Amy   Feb  Week 4     173            -0.089\n",
       "22  Bob   Mar  Week 4     261            -0.026\n",
       "23  Amy   Mar  Week 4     170            -0.017\n",
       "30  Bob   Apr  Week 4     250            -0.042\n",
       "31  Amy   Apr  Week 4     161            -0.053"
      ]
     },
     "execution_count": 34,
     "metadata": {},
     "output_type": "execute_result"
    }
   ],
   "source": [
    "#But the % of weight loss resets every beginning of month. We need an accumulative result for just the Week 4\n",
    "week4 = weight_loss.query('Week == \"Week 4\"')\n",
    "week4"
   ]
  },
  {
   "cell_type": "code",
   "execution_count": 35,
   "id": "parallel-atlanta",
   "metadata": {
    "ExecuteTime": {
     "end_time": "2021-03-08T05:18:18.391954Z",
     "start_time": "2021-03-08T05:18:18.359638Z"
    }
   },
   "outputs": [
    {
     "data": {
      "text/html": [
       "<div>\n",
       "<style scoped>\n",
       "    .dataframe tbody tr th:only-of-type {\n",
       "        vertical-align: middle;\n",
       "    }\n",
       "\n",
       "    .dataframe tbody tr th {\n",
       "        vertical-align: top;\n",
       "    }\n",
       "\n",
       "    .dataframe thead th {\n",
       "        text-align: right;\n",
       "    }\n",
       "</style>\n",
       "<table border=\"1\" class=\"dataframe\">\n",
       "  <thead>\n",
       "    <tr style=\"text-align: right;\">\n",
       "      <th>Name</th>\n",
       "      <th>Amy</th>\n",
       "      <th>Bob</th>\n",
       "    </tr>\n",
       "    <tr>\n",
       "      <th>Month</th>\n",
       "      <th></th>\n",
       "      <th></th>\n",
       "    </tr>\n",
       "  </thead>\n",
       "  <tbody>\n",
       "    <tr>\n",
       "      <th>Apr</th>\n",
       "      <td>-0.053</td>\n",
       "      <td>-0.042</td>\n",
       "    </tr>\n",
       "    <tr>\n",
       "      <th>Feb</th>\n",
       "      <td>-0.089</td>\n",
       "      <td>-0.053</td>\n",
       "    </tr>\n",
       "    <tr>\n",
       "      <th>Jan</th>\n",
       "      <td>-0.036</td>\n",
       "      <td>-0.027</td>\n",
       "    </tr>\n",
       "    <tr>\n",
       "      <th>Mar</th>\n",
       "      <td>-0.017</td>\n",
       "      <td>-0.026</td>\n",
       "    </tr>\n",
       "  </tbody>\n",
       "</table>\n",
       "</div>"
      ],
      "text/plain": [
       "Name     Amy    Bob\n",
       "Month              \n",
       "Apr   -0.053 -0.042\n",
       "Feb   -0.089 -0.053\n",
       "Jan   -0.036 -0.027\n",
       "Mar   -0.017 -0.026"
      ]
     },
     "execution_count": 35,
     "metadata": {},
     "output_type": "execute_result"
    }
   ],
   "source": [
    "#But who won? We can make a pivot table\n",
    "winner = week4.pivot(index = 'Month', columns= 'Name', values='Perc weight loss')\n",
    "winner"
   ]
  },
  {
   "cell_type": "code",
   "execution_count": 36,
   "id": "behavioral-justice",
   "metadata": {
    "ExecuteTime": {
     "end_time": "2021-03-08T05:18:20.912353Z",
     "start_time": "2021-03-08T05:18:18.397912Z"
    }
   },
   "outputs": [
    {
     "data": {
      "text/html": [
       "<style  type=\"text/css\" >\n",
       "#T_b2c1cb2c_7fcd_11eb_805c_4ccc6addfe54row0_col0,#T_b2c1cb2c_7fcd_11eb_805c_4ccc6addfe54row1_col0,#T_b2c1cb2c_7fcd_11eb_805c_4ccc6addfe54row2_col0,#T_b2c1cb2c_7fcd_11eb_805c_4ccc6addfe54row3_col1{\n",
       "            background-color:  green;\n",
       "        }</style><table id=\"T_b2c1cb2c_7fcd_11eb_805c_4ccc6addfe54\" ><thead>    <tr>        <th class=\"index_name level0\" >Name</th>        <th class=\"col_heading level0 col0\" >Amy</th>        <th class=\"col_heading level0 col1\" >Bob</th>        <th class=\"col_heading level0 col2\" >Winner</th>    </tr>    <tr>        <th class=\"index_name level0\" >Month</th>        <th class=\"blank\" ></th>        <th class=\"blank\" ></th>        <th class=\"blank\" ></th>    </tr></thead><tbody>\n",
       "                <tr>\n",
       "                        <th id=\"T_b2c1cb2c_7fcd_11eb_805c_4ccc6addfe54level0_row0\" class=\"row_heading level0 row0\" >Apr</th>\n",
       "                        <td id=\"T_b2c1cb2c_7fcd_11eb_805c_4ccc6addfe54row0_col0\" class=\"data row0 col0\" >-0.053000</td>\n",
       "                        <td id=\"T_b2c1cb2c_7fcd_11eb_805c_4ccc6addfe54row0_col1\" class=\"data row0 col1\" >-0.042000</td>\n",
       "                        <td id=\"T_b2c1cb2c_7fcd_11eb_805c_4ccc6addfe54row0_col2\" class=\"data row0 col2\" >Amy</td>\n",
       "            </tr>\n",
       "            <tr>\n",
       "                        <th id=\"T_b2c1cb2c_7fcd_11eb_805c_4ccc6addfe54level0_row1\" class=\"row_heading level0 row1\" >Feb</th>\n",
       "                        <td id=\"T_b2c1cb2c_7fcd_11eb_805c_4ccc6addfe54row1_col0\" class=\"data row1 col0\" >-0.089000</td>\n",
       "                        <td id=\"T_b2c1cb2c_7fcd_11eb_805c_4ccc6addfe54row1_col1\" class=\"data row1 col1\" >-0.053000</td>\n",
       "                        <td id=\"T_b2c1cb2c_7fcd_11eb_805c_4ccc6addfe54row1_col2\" class=\"data row1 col2\" >Amy</td>\n",
       "            </tr>\n",
       "            <tr>\n",
       "                        <th id=\"T_b2c1cb2c_7fcd_11eb_805c_4ccc6addfe54level0_row2\" class=\"row_heading level0 row2\" >Jan</th>\n",
       "                        <td id=\"T_b2c1cb2c_7fcd_11eb_805c_4ccc6addfe54row2_col0\" class=\"data row2 col0\" >-0.036000</td>\n",
       "                        <td id=\"T_b2c1cb2c_7fcd_11eb_805c_4ccc6addfe54row2_col1\" class=\"data row2 col1\" >-0.027000</td>\n",
       "                        <td id=\"T_b2c1cb2c_7fcd_11eb_805c_4ccc6addfe54row2_col2\" class=\"data row2 col2\" >Amy</td>\n",
       "            </tr>\n",
       "            <tr>\n",
       "                        <th id=\"T_b2c1cb2c_7fcd_11eb_805c_4ccc6addfe54level0_row3\" class=\"row_heading level0 row3\" >Mar</th>\n",
       "                        <td id=\"T_b2c1cb2c_7fcd_11eb_805c_4ccc6addfe54row3_col0\" class=\"data row3 col0\" >-0.017000</td>\n",
       "                        <td id=\"T_b2c1cb2c_7fcd_11eb_805c_4ccc6addfe54row3_col1\" class=\"data row3 col1\" >-0.026000</td>\n",
       "                        <td id=\"T_b2c1cb2c_7fcd_11eb_805c_4ccc6addfe54row3_col2\" class=\"data row3 col2\" >Bob</td>\n",
       "            </tr>\n",
       "    </tbody></table>"
      ],
      "text/plain": [
       "<pandas.io.formats.style.Styler at 0x2e1c09e8948>"
      ]
     },
     "execution_count": 36,
     "metadata": {},
     "output_type": "execute_result"
    }
   ],
   "source": [
    "#Make it easier to see who won\n",
    "winner['Winner'] = np.where(winner['Amy'] < winner['Bob'], 'Amy', 'Bob') #condition and the columns\n",
    "winner.style.highlight_min(axis=1, color= 'green')"
   ]
  },
  {
   "cell_type": "markdown",
   "id": "baking-northwest",
   "metadata": {},
   "source": [
    "## Calculating weighted mean SAT scores per state with apply"
   ]
  },
  {
   "cell_type": "markdown",
   "id": "handy-weekly",
   "metadata": {},
   "source": [
    "The groupby object has four methods that accept a function (or functions) to perform a\n",
    "calculation on each group. These four methods are agg, filter, transform, and apply."
   ]
  },
  {
   "cell_type": "markdown",
   "id": "extreme-potter",
   "metadata": {},
   "source": [
    "\n",
    "> ```Apply: operates on one column and only shows as one column```\n",
    "\n",
    ">```Aggregate: operates in every column of the dataframe and shows the results in every column```"
   ]
  },
  {
   "cell_type": "code",
   "execution_count": 31,
   "id": "continent-needle",
   "metadata": {
    "ExecuteTime": {
     "end_time": "2021-03-26T05:05:33.710003Z",
     "start_time": "2021-03-26T05:05:33.691072Z"
    }
   },
   "outputs": [],
   "source": [
    "#For this, we need to drop all the NAN\n",
    "subset = ['UGDS', 'SATMTMID', 'SATVRMID']\n",
    "college2 = college.dropna(subset = subset)"
   ]
  },
  {
   "cell_type": "code",
   "execution_count": 32,
   "id": "auburn-soviet",
   "metadata": {
    "ExecuteTime": {
     "end_time": "2021-03-26T05:05:57.733792Z",
     "start_time": "2021-03-26T05:05:57.723881Z"
    }
   },
   "outputs": [],
   "source": [
    "def weighted_math_average(df):\n",
    "    weighted_math = df['UGDS'] * df['SATMTMID']\n",
    "    return int(weighted_math.sum() / df['UGDS'].sum())"
   ]
  },
  {
   "cell_type": "code",
   "execution_count": 33,
   "id": "agricultural-catering",
   "metadata": {
    "ExecuteTime": {
     "end_time": "2021-03-26T05:06:11.771229Z",
     "start_time": "2021-03-26T05:06:11.676440Z"
    }
   },
   "outputs": [
    {
     "data": {
      "text/plain": [
       "STABBR\n",
       "AK    503\n",
       "AL    536\n",
       "AR    529\n",
       "AZ    569\n",
       "CA    564\n",
       "dtype: int64"
      ]
     },
     "execution_count": 33,
     "metadata": {},
     "output_type": "execute_result"
    }
   ],
   "source": [
    "college2.groupby('STABBR').apply(weighted_math_average).head() #"
   ]
  },
  {
   "cell_type": "code",
   "execution_count": 40,
   "id": "swiss-animal",
   "metadata": {
    "ExecuteTime": {
     "end_time": "2021-03-08T05:18:21.065192Z",
     "start_time": "2021-03-08T05:18:21.056754Z"
    }
   },
   "outputs": [],
   "source": [
    "#if we had used agg it gives error\n",
    "#college2.groupby('STABBR').agg(weighted_math_average).head()\n",
    "#college2.groupby('STABBR')['SATMTMID'].agg(weighted_math_average)"
   ]
  },
  {
   "cell_type": "markdown",
   "id": "formed-period",
   "metadata": {},
   "source": [
    "```A nice feature of apply is that you can create multiple new columns by returning\n",
    "a Series.```"
   ]
  },
  {
   "cell_type": "markdown",
   "id": "universal-booth",
   "metadata": {},
   "source": [
    "## Grouping by continuous variables"
   ]
  },
  {
   "cell_type": "markdown",
   "id": "ongoing-hierarchy",
   "metadata": {},
   "source": [
    "```However, if we can transform columns with continuous\n",
    "values into a discrete column by placing each value into a bin, rounding them, or using\n",
    "some other mapping, then grouping with them makes sense.```\n",
    "\n",
    "> To accomplish this, we use the pandas ***cut*** function to discretize the distance of each flight flown."
   ]
  },
  {
   "cell_type": "code",
   "execution_count": 42,
   "id": "horizontal-accounting",
   "metadata": {
    "ExecuteTime": {
     "end_time": "2021-03-08T05:24:51.934644Z",
     "start_time": "2021-03-08T05:24:51.885715Z"
    }
   },
   "outputs": [
    {
     "data": {
      "text/html": [
       "<div>\n",
       "<style scoped>\n",
       "    .dataframe tbody tr th:only-of-type {\n",
       "        vertical-align: middle;\n",
       "    }\n",
       "\n",
       "    .dataframe tbody tr th {\n",
       "        vertical-align: top;\n",
       "    }\n",
       "\n",
       "    .dataframe thead th {\n",
       "        text-align: right;\n",
       "    }\n",
       "</style>\n",
       "<table border=\"1\" class=\"dataframe\">\n",
       "  <thead>\n",
       "    <tr style=\"text-align: right;\">\n",
       "      <th></th>\n",
       "      <th>MONTH</th>\n",
       "      <th>DAY</th>\n",
       "      <th>WEEKDAY</th>\n",
       "      <th>AIRLINE</th>\n",
       "      <th>ORG_AIR</th>\n",
       "      <th>DEST_AIR</th>\n",
       "      <th>SCHED_DEP</th>\n",
       "      <th>DEP_DELAY</th>\n",
       "      <th>AIR_TIME</th>\n",
       "      <th>DIST</th>\n",
       "      <th>SCHED_ARR</th>\n",
       "      <th>ARR_DELAY</th>\n",
       "      <th>DIVERTED</th>\n",
       "      <th>CANCELLED</th>\n",
       "    </tr>\n",
       "  </thead>\n",
       "  <tbody>\n",
       "    <tr>\n",
       "      <th>0</th>\n",
       "      <td>1</td>\n",
       "      <td>1</td>\n",
       "      <td>4</td>\n",
       "      <td>WN</td>\n",
       "      <td>LAX</td>\n",
       "      <td>SLC</td>\n",
       "      <td>1625</td>\n",
       "      <td>58.0</td>\n",
       "      <td>94.0</td>\n",
       "      <td>590</td>\n",
       "      <td>1905</td>\n",
       "      <td>65.0</td>\n",
       "      <td>0</td>\n",
       "      <td>0</td>\n",
       "    </tr>\n",
       "    <tr>\n",
       "      <th>1</th>\n",
       "      <td>1</td>\n",
       "      <td>1</td>\n",
       "      <td>4</td>\n",
       "      <td>UA</td>\n",
       "      <td>DEN</td>\n",
       "      <td>IAD</td>\n",
       "      <td>823</td>\n",
       "      <td>7.0</td>\n",
       "      <td>154.0</td>\n",
       "      <td>1452</td>\n",
       "      <td>1333</td>\n",
       "      <td>-13.0</td>\n",
       "      <td>0</td>\n",
       "      <td>0</td>\n",
       "    </tr>\n",
       "    <tr>\n",
       "      <th>2</th>\n",
       "      <td>1</td>\n",
       "      <td>1</td>\n",
       "      <td>4</td>\n",
       "      <td>MQ</td>\n",
       "      <td>DFW</td>\n",
       "      <td>VPS</td>\n",
       "      <td>1305</td>\n",
       "      <td>36.0</td>\n",
       "      <td>85.0</td>\n",
       "      <td>641</td>\n",
       "      <td>1453</td>\n",
       "      <td>35.0</td>\n",
       "      <td>0</td>\n",
       "      <td>0</td>\n",
       "    </tr>\n",
       "    <tr>\n",
       "      <th>3</th>\n",
       "      <td>1</td>\n",
       "      <td>1</td>\n",
       "      <td>4</td>\n",
       "      <td>AA</td>\n",
       "      <td>DFW</td>\n",
       "      <td>DCA</td>\n",
       "      <td>1555</td>\n",
       "      <td>7.0</td>\n",
       "      <td>126.0</td>\n",
       "      <td>1192</td>\n",
       "      <td>1935</td>\n",
       "      <td>-7.0</td>\n",
       "      <td>0</td>\n",
       "      <td>0</td>\n",
       "    </tr>\n",
       "    <tr>\n",
       "      <th>4</th>\n",
       "      <td>1</td>\n",
       "      <td>1</td>\n",
       "      <td>4</td>\n",
       "      <td>WN</td>\n",
       "      <td>LAX</td>\n",
       "      <td>MCI</td>\n",
       "      <td>1720</td>\n",
       "      <td>48.0</td>\n",
       "      <td>166.0</td>\n",
       "      <td>1363</td>\n",
       "      <td>2225</td>\n",
       "      <td>39.0</td>\n",
       "      <td>0</td>\n",
       "      <td>0</td>\n",
       "    </tr>\n",
       "  </tbody>\n",
       "</table>\n",
       "</div>"
      ],
      "text/plain": [
       "   MONTH  DAY  WEEKDAY AIRLINE ORG_AIR DEST_AIR  SCHED_DEP  DEP_DELAY  \\\n",
       "0      1    1        4      WN     LAX      SLC       1625       58.0   \n",
       "1      1    1        4      UA     DEN      IAD        823        7.0   \n",
       "2      1    1        4      MQ     DFW      VPS       1305       36.0   \n",
       "3      1    1        4      AA     DFW      DCA       1555        7.0   \n",
       "4      1    1        4      WN     LAX      MCI       1720       48.0   \n",
       "\n",
       "   AIR_TIME  DIST  SCHED_ARR  ARR_DELAY  DIVERTED  CANCELLED  \n",
       "0      94.0   590       1905       65.0         0          0  \n",
       "1     154.0  1452       1333      -13.0         0          0  \n",
       "2      85.0   641       1453       35.0         0          0  \n",
       "3     126.0  1192       1935       -7.0         0          0  \n",
       "4     166.0  1363       2225       39.0         0          0  "
      ]
     },
     "execution_count": 42,
     "metadata": {},
     "output_type": "execute_result"
    }
   ],
   "source": [
    "flights.head()"
   ]
  },
  {
   "cell_type": "code",
   "execution_count": 43,
   "id": "stuffed-bouquet",
   "metadata": {
    "ExecuteTime": {
     "end_time": "2021-03-08T05:28:12.628057Z",
     "start_time": "2021-03-08T05:28:12.586489Z"
    }
   },
   "outputs": [
    {
     "data": {
      "text/plain": [
       "0     (500.0, 1000.0]\n",
       "1    (1000.0, 2000.0]\n",
       "2     (500.0, 1000.0]\n",
       "3    (1000.0, 2000.0]\n",
       "4    (1000.0, 2000.0]\n",
       "Name: DIST, dtype: category\n",
       "Categories (5, interval[float64]): [(-inf, 200.0] < (200.0, 500.0] < (500.0, 1000.0] < (1000.0, 2000.0] < (2000.0, inf]]"
      ]
     },
     "execution_count": 43,
     "metadata": {},
     "output_type": "execute_result"
    }
   ],
   "source": [
    "#define the bins for distance\n",
    "bins = [-np.inf, 200, 500, 1000, 2000, np.inf]\n",
    "cuts = pd.cut(flights['DIST'], bins = bins) #\"cuts\" the data into those bins (or also called: groups)\n",
    "cuts.head()"
   ]
  },
  {
   "cell_type": "code",
   "execution_count": 44,
   "id": "polish-genealogy",
   "metadata": {
    "ExecuteTime": {
     "end_time": "2021-03-08T05:37:21.501663Z",
     "start_time": "2021-03-08T05:37:21.433712Z"
    }
   },
   "outputs": [
    {
     "data": {
      "text/plain": [
       "DIST            AIRLINE\n",
       "(-inf, 200.0]   OO         0.326\n",
       "                EV         0.289\n",
       "                MQ         0.211\n",
       "                DL         0.086\n",
       "                AA         0.052\n",
       "                UA         0.027\n",
       "                WN         0.009\n",
       "(200.0, 500.0]  WN         0.194\n",
       "                DL         0.189\n",
       "                OO         0.159\n",
       "                EV         0.156\n",
       "                MQ         0.100\n",
       "                AA         0.071\n",
       "                UA         0.062\n",
       "                VX         0.028\n",
       "Name: AIRLINE, dtype: float64"
      ]
     },
     "execution_count": 44,
     "metadata": {},
     "output_type": "execute_result"
    }
   ],
   "source": [
    "#The cuts Series can now be used to form groups.\n",
    "flights.groupby(cuts)['AIRLINE'].value_counts(normalize=True).round(3).head(15)"
   ]
  },
  {
   "cell_type": "markdown",
   "id": "general-salem",
   "metadata": {},
   "source": [
    "```Some interesting insights can be drawn from this result. Looking at the full result, SkyWest\n",
    "is the leading airline for under 200 miles but has no flights over 2,000 miles.```\n",
    "\n",
    "```In contrast, American Airlines has the fifth highest total for flights under 200 miles but has by far the\n",
    "most flights between 1,000 and 2,000 miles.```"
   ]
  },
  {
   "cell_type": "code",
   "execution_count": 46,
   "id": "understood-freight",
   "metadata": {
    "ExecuteTime": {
     "end_time": "2021-03-08T05:42:15.814047Z",
     "start_time": "2021-03-08T05:42:15.714987Z"
    }
   },
   "outputs": [
    {
     "data": {
      "text/plain": [
       "DIST                \n",
       "(-inf, 200.0]   0.25    26.0\n",
       "                0.50    30.0\n",
       "                0.75    34.0\n",
       "(200.0, 500.0]  0.25    46.0\n",
       "                0.50    55.0\n",
       "Name: AIR_TIME, dtype: float64"
      ]
     },
     "execution_count": 46,
     "metadata": {},
     "output_type": "execute_result"
    }
   ],
   "source": [
    "#We can use the cuts for grouping anything\n",
    "#For instance, we can find the 25th, 50th, and 75th percentile airtime for each distance grouping. (in minutes)\n",
    "flights.groupby(cuts)['AIR_TIME'].quantile(q = [.25, .5,.75]).round(2).head() #add .div(60) for hours"
   ]
  },
  {
   "cell_type": "markdown",
   "id": "brave-fountain",
   "metadata": {
    "ExecuteTime": {
     "end_time": "2021-03-08T05:44:29.425397Z",
     "start_time": "2021-03-08T05:44:29.408933Z"
    }
   },
   "source": [
    "> We can use this information to create informative string labels when using the cut function.\n",
    "\n",
    "> These labels replace the interval notation. \n",
    "\n",
    "> We can also chain the unstack method which transposes the inner index level to column names:"
   ]
  },
  {
   "cell_type": "code",
   "execution_count": 51,
   "id": "dense-spotlight",
   "metadata": {
    "ExecuteTime": {
     "end_time": "2021-03-08T05:49:09.698575Z",
     "start_time": "2021-03-08T05:49:09.559044Z"
    }
   },
   "outputs": [
    {
     "data": {
      "text/html": [
       "<style  type=\"text/css\" >\n",
       "#T_00b6d0c8_7fd2_11eb_83e7_4ccc6addfe54row0_col9,#T_00b6d0c8_7fd2_11eb_83e7_4ccc6addfe54row1_col13,#T_00b6d0c8_7fd2_11eb_83e7_4ccc6addfe54row2_col3,#T_00b6d0c8_7fd2_11eb_83e7_4ccc6addfe54row3_col0,#T_00b6d0c8_7fd2_11eb_83e7_4ccc6addfe54row4_col10{\n",
       "            background-color:  green;\n",
       "        }</style><table id=\"T_00b6d0c8_7fd2_11eb_83e7_4ccc6addfe54\" ><thead>    <tr>        <th class=\"index_name level0\" >AIRLINE</th>        <th class=\"col_heading level0 col0\" >AA</th>        <th class=\"col_heading level0 col1\" >AS</th>        <th class=\"col_heading level0 col2\" >B6</th>        <th class=\"col_heading level0 col3\" >DL</th>        <th class=\"col_heading level0 col4\" >EV</th>        <th class=\"col_heading level0 col5\" >F9</th>        <th class=\"col_heading level0 col6\" >HA</th>        <th class=\"col_heading level0 col7\" >MQ</th>        <th class=\"col_heading level0 col8\" >NK</th>        <th class=\"col_heading level0 col9\" >OO</th>        <th class=\"col_heading level0 col10\" >UA</th>        <th class=\"col_heading level0 col11\" >US</th>        <th class=\"col_heading level0 col12\" >VX</th>        <th class=\"col_heading level0 col13\" >WN</th>    </tr>    <tr>        <th class=\"index_name level0\" >DIST</th>        <th class=\"blank\" ></th>        <th class=\"blank\" ></th>        <th class=\"blank\" ></th>        <th class=\"blank\" ></th>        <th class=\"blank\" ></th>        <th class=\"blank\" ></th>        <th class=\"blank\" ></th>        <th class=\"blank\" ></th>        <th class=\"blank\" ></th>        <th class=\"blank\" ></th>        <th class=\"blank\" ></th>        <th class=\"blank\" ></th>        <th class=\"blank\" ></th>        <th class=\"blank\" ></th>    </tr></thead><tbody>\n",
       "                <tr>\n",
       "                        <th id=\"T_00b6d0c8_7fd2_11eb_83e7_4ccc6addfe54level0_row0\" class=\"row_heading level0 row0\" >Under an Hour</th>\n",
       "                        <td id=\"T_00b6d0c8_7fd2_11eb_83e7_4ccc6addfe54row0_col0\" class=\"data row0 col0\" >0.052000</td>\n",
       "                        <td id=\"T_00b6d0c8_7fd2_11eb_83e7_4ccc6addfe54row0_col1\" class=\"data row0 col1\" >nan</td>\n",
       "                        <td id=\"T_00b6d0c8_7fd2_11eb_83e7_4ccc6addfe54row0_col2\" class=\"data row0 col2\" >nan</td>\n",
       "                        <td id=\"T_00b6d0c8_7fd2_11eb_83e7_4ccc6addfe54row0_col3\" class=\"data row0 col3\" >0.086000</td>\n",
       "                        <td id=\"T_00b6d0c8_7fd2_11eb_83e7_4ccc6addfe54row0_col4\" class=\"data row0 col4\" >0.289000</td>\n",
       "                        <td id=\"T_00b6d0c8_7fd2_11eb_83e7_4ccc6addfe54row0_col5\" class=\"data row0 col5\" >nan</td>\n",
       "                        <td id=\"T_00b6d0c8_7fd2_11eb_83e7_4ccc6addfe54row0_col6\" class=\"data row0 col6\" >nan</td>\n",
       "                        <td id=\"T_00b6d0c8_7fd2_11eb_83e7_4ccc6addfe54row0_col7\" class=\"data row0 col7\" >0.211000</td>\n",
       "                        <td id=\"T_00b6d0c8_7fd2_11eb_83e7_4ccc6addfe54row0_col8\" class=\"data row0 col8\" >nan</td>\n",
       "                        <td id=\"T_00b6d0c8_7fd2_11eb_83e7_4ccc6addfe54row0_col9\" class=\"data row0 col9\" >0.326000</td>\n",
       "                        <td id=\"T_00b6d0c8_7fd2_11eb_83e7_4ccc6addfe54row0_col10\" class=\"data row0 col10\" >0.027000</td>\n",
       "                        <td id=\"T_00b6d0c8_7fd2_11eb_83e7_4ccc6addfe54row0_col11\" class=\"data row0 col11\" >nan</td>\n",
       "                        <td id=\"T_00b6d0c8_7fd2_11eb_83e7_4ccc6addfe54row0_col12\" class=\"data row0 col12\" >nan</td>\n",
       "                        <td id=\"T_00b6d0c8_7fd2_11eb_83e7_4ccc6addfe54row0_col13\" class=\"data row0 col13\" >0.009000</td>\n",
       "            </tr>\n",
       "            <tr>\n",
       "                        <th id=\"T_00b6d0c8_7fd2_11eb_83e7_4ccc6addfe54level0_row1\" class=\"row_heading level0 row1\" >1 Hour</th>\n",
       "                        <td id=\"T_00b6d0c8_7fd2_11eb_83e7_4ccc6addfe54row1_col0\" class=\"data row1 col0\" >0.071000</td>\n",
       "                        <td id=\"T_00b6d0c8_7fd2_11eb_83e7_4ccc6addfe54row1_col1\" class=\"data row1 col1\" >0.001000</td>\n",
       "                        <td id=\"T_00b6d0c8_7fd2_11eb_83e7_4ccc6addfe54row1_col2\" class=\"data row1 col2\" >0.007000</td>\n",
       "                        <td id=\"T_00b6d0c8_7fd2_11eb_83e7_4ccc6addfe54row1_col3\" class=\"data row1 col3\" >0.189000</td>\n",
       "                        <td id=\"T_00b6d0c8_7fd2_11eb_83e7_4ccc6addfe54row1_col4\" class=\"data row1 col4\" >0.156000</td>\n",
       "                        <td id=\"T_00b6d0c8_7fd2_11eb_83e7_4ccc6addfe54row1_col5\" class=\"data row1 col5\" >0.005000</td>\n",
       "                        <td id=\"T_00b6d0c8_7fd2_11eb_83e7_4ccc6addfe54row1_col6\" class=\"data row1 col6\" >nan</td>\n",
       "                        <td id=\"T_00b6d0c8_7fd2_11eb_83e7_4ccc6addfe54row1_col7\" class=\"data row1 col7\" >0.100000</td>\n",
       "                        <td id=\"T_00b6d0c8_7fd2_11eb_83e7_4ccc6addfe54row1_col8\" class=\"data row1 col8\" >0.012000</td>\n",
       "                        <td id=\"T_00b6d0c8_7fd2_11eb_83e7_4ccc6addfe54row1_col9\" class=\"data row1 col9\" >0.159000</td>\n",
       "                        <td id=\"T_00b6d0c8_7fd2_11eb_83e7_4ccc6addfe54row1_col10\" class=\"data row1 col10\" >0.062000</td>\n",
       "                        <td id=\"T_00b6d0c8_7fd2_11eb_83e7_4ccc6addfe54row1_col11\" class=\"data row1 col11\" >0.016000</td>\n",
       "                        <td id=\"T_00b6d0c8_7fd2_11eb_83e7_4ccc6addfe54row1_col12\" class=\"data row1 col12\" >0.028000</td>\n",
       "                        <td id=\"T_00b6d0c8_7fd2_11eb_83e7_4ccc6addfe54row1_col13\" class=\"data row1 col13\" >0.194000</td>\n",
       "            </tr>\n",
       "            <tr>\n",
       "                        <th id=\"T_00b6d0c8_7fd2_11eb_83e7_4ccc6addfe54level0_row2\" class=\"row_heading level0 row2\" >1-2 Hours</th>\n",
       "                        <td id=\"T_00b6d0c8_7fd2_11eb_83e7_4ccc6addfe54row2_col0\" class=\"data row2 col0\" >0.144000</td>\n",
       "                        <td id=\"T_00b6d0c8_7fd2_11eb_83e7_4ccc6addfe54row2_col1\" class=\"data row2 col1\" >0.023000</td>\n",
       "                        <td id=\"T_00b6d0c8_7fd2_11eb_83e7_4ccc6addfe54row2_col2\" class=\"data row2 col2\" >0.003000</td>\n",
       "                        <td id=\"T_00b6d0c8_7fd2_11eb_83e7_4ccc6addfe54row2_col3\" class=\"data row2 col3\" >0.206000</td>\n",
       "                        <td id=\"T_00b6d0c8_7fd2_11eb_83e7_4ccc6addfe54row2_col4\" class=\"data row2 col4\" >0.101000</td>\n",
       "                        <td id=\"T_00b6d0c8_7fd2_11eb_83e7_4ccc6addfe54row2_col5\" class=\"data row2 col5\" >0.038000</td>\n",
       "                        <td id=\"T_00b6d0c8_7fd2_11eb_83e7_4ccc6addfe54row2_col6\" class=\"data row2 col6\" >nan</td>\n",
       "                        <td id=\"T_00b6d0c8_7fd2_11eb_83e7_4ccc6addfe54row2_col7\" class=\"data row2 col7\" >0.051000</td>\n",
       "                        <td id=\"T_00b6d0c8_7fd2_11eb_83e7_4ccc6addfe54row2_col8\" class=\"data row2 col8\" >0.030000</td>\n",
       "                        <td id=\"T_00b6d0c8_7fd2_11eb_83e7_4ccc6addfe54row2_col9\" class=\"data row2 col9\" >0.106000</td>\n",
       "                        <td id=\"T_00b6d0c8_7fd2_11eb_83e7_4ccc6addfe54row2_col10\" class=\"data row2 col10\" >0.131000</td>\n",
       "                        <td id=\"T_00b6d0c8_7fd2_11eb_83e7_4ccc6addfe54row2_col11\" class=\"data row2 col11\" >0.025000</td>\n",
       "                        <td id=\"T_00b6d0c8_7fd2_11eb_83e7_4ccc6addfe54row2_col12\" class=\"data row2 col12\" >0.004000</td>\n",
       "                        <td id=\"T_00b6d0c8_7fd2_11eb_83e7_4ccc6addfe54row2_col13\" class=\"data row2 col13\" >0.138000</td>\n",
       "            </tr>\n",
       "            <tr>\n",
       "                        <th id=\"T_00b6d0c8_7fd2_11eb_83e7_4ccc6addfe54level0_row3\" class=\"row_heading level0 row3\" >2-4 Hours</th>\n",
       "                        <td id=\"T_00b6d0c8_7fd2_11eb_83e7_4ccc6addfe54row3_col0\" class=\"data row3 col0\" >0.264000</td>\n",
       "                        <td id=\"T_00b6d0c8_7fd2_11eb_83e7_4ccc6addfe54row3_col1\" class=\"data row3 col1\" >0.016000</td>\n",
       "                        <td id=\"T_00b6d0c8_7fd2_11eb_83e7_4ccc6addfe54row3_col2\" class=\"data row3 col2\" >0.003000</td>\n",
       "                        <td id=\"T_00b6d0c8_7fd2_11eb_83e7_4ccc6addfe54row3_col3\" class=\"data row3 col3\" >0.165000</td>\n",
       "                        <td id=\"T_00b6d0c8_7fd2_11eb_83e7_4ccc6addfe54row3_col4\" class=\"data row3 col4\" >0.016000</td>\n",
       "                        <td id=\"T_00b6d0c8_7fd2_11eb_83e7_4ccc6addfe54row3_col5\" class=\"data row3 col5\" >0.031000</td>\n",
       "                        <td id=\"T_00b6d0c8_7fd2_11eb_83e7_4ccc6addfe54row3_col6\" class=\"data row3 col6\" >nan</td>\n",
       "                        <td id=\"T_00b6d0c8_7fd2_11eb_83e7_4ccc6addfe54row3_col7\" class=\"data row3 col7\" >0.003000</td>\n",
       "                        <td id=\"T_00b6d0c8_7fd2_11eb_83e7_4ccc6addfe54row3_col8\" class=\"data row3 col8\" >0.045000</td>\n",
       "                        <td id=\"T_00b6d0c8_7fd2_11eb_83e7_4ccc6addfe54row3_col9\" class=\"data row3 col9\" >0.046000</td>\n",
       "                        <td id=\"T_00b6d0c8_7fd2_11eb_83e7_4ccc6addfe54row3_col10\" class=\"data row3 col10\" >0.199000</td>\n",
       "                        <td id=\"T_00b6d0c8_7fd2_11eb_83e7_4ccc6addfe54row3_col11\" class=\"data row3 col11\" >0.040000</td>\n",
       "                        <td id=\"T_00b6d0c8_7fd2_11eb_83e7_4ccc6addfe54row3_col12\" class=\"data row3 col12\" >0.012000</td>\n",
       "                        <td id=\"T_00b6d0c8_7fd2_11eb_83e7_4ccc6addfe54row3_col13\" class=\"data row3 col13\" >0.160000</td>\n",
       "            </tr>\n",
       "            <tr>\n",
       "                        <th id=\"T_00b6d0c8_7fd2_11eb_83e7_4ccc6addfe54level0_row4\" class=\"row_heading level0 row4\" >4+ Hours</th>\n",
       "                        <td id=\"T_00b6d0c8_7fd2_11eb_83e7_4ccc6addfe54row4_col0\" class=\"data row4 col0\" >0.212000</td>\n",
       "                        <td id=\"T_00b6d0c8_7fd2_11eb_83e7_4ccc6addfe54row4_col1\" class=\"data row4 col1\" >0.012000</td>\n",
       "                        <td id=\"T_00b6d0c8_7fd2_11eb_83e7_4ccc6addfe54row4_col2\" class=\"data row4 col2\" >0.080000</td>\n",
       "                        <td id=\"T_00b6d0c8_7fd2_11eb_83e7_4ccc6addfe54row4_col3\" class=\"data row4 col3\" >0.171000</td>\n",
       "                        <td id=\"T_00b6d0c8_7fd2_11eb_83e7_4ccc6addfe54row4_col4\" class=\"data row4 col4\" >nan</td>\n",
       "                        <td id=\"T_00b6d0c8_7fd2_11eb_83e7_4ccc6addfe54row4_col5\" class=\"data row4 col5\" >0.004000</td>\n",
       "                        <td id=\"T_00b6d0c8_7fd2_11eb_83e7_4ccc6addfe54row4_col6\" class=\"data row4 col6\" >0.028000</td>\n",
       "                        <td id=\"T_00b6d0c8_7fd2_11eb_83e7_4ccc6addfe54row4_col7\" class=\"data row4 col7\" >nan</td>\n",
       "                        <td id=\"T_00b6d0c8_7fd2_11eb_83e7_4ccc6addfe54row4_col8\" class=\"data row4 col8\" >0.019000</td>\n",
       "                        <td id=\"T_00b6d0c8_7fd2_11eb_83e7_4ccc6addfe54row4_col9\" class=\"data row4 col9\" >nan</td>\n",
       "                        <td id=\"T_00b6d0c8_7fd2_11eb_83e7_4ccc6addfe54row4_col10\" class=\"data row4 col10\" >0.289000</td>\n",
       "                        <td id=\"T_00b6d0c8_7fd2_11eb_83e7_4ccc6addfe54row4_col11\" class=\"data row4 col11\" >0.065000</td>\n",
       "                        <td id=\"T_00b6d0c8_7fd2_11eb_83e7_4ccc6addfe54row4_col12\" class=\"data row4 col12\" >0.074000</td>\n",
       "                        <td id=\"T_00b6d0c8_7fd2_11eb_83e7_4ccc6addfe54row4_col13\" class=\"data row4 col13\" >0.046000</td>\n",
       "            </tr>\n",
       "    </tbody></table>"
      ],
      "text/plain": [
       "<pandas.io.formats.style.Styler at 0x2e1cb1c3688>"
      ]
     },
     "execution_count": 51,
     "metadata": {},
     "output_type": "execute_result"
    }
   ],
   "source": [
    "labels=['Under an Hour', '1 Hour', '1-2 Hours', '2-4 Hours', '4+ Hours']\n",
    "\n",
    "cuts2 = pd.cut(flights['DIST'], bins= bins, labels= labels)\n",
    "\n",
    "flights.groupby(cuts2)['AIRLINE'].value_counts(normalize = True).round(3).unstack().style.highlight_max(axis = 1, color = 'green')"
   ]
  },
  {
   "cell_type": "markdown",
   "id": "fourth-strength",
   "metadata": {},
   "source": [
    "## Counting the total number of flights between cities"
   ]
  },
  {
   "cell_type": "code",
   "execution_count": 84,
   "id": "electronic-bandwidth",
   "metadata": {
    "ExecuteTime": {
     "end_time": "2021-03-08T06:35:47.024525Z",
     "start_time": "2021-03-08T06:35:46.966763Z"
    }
   },
   "outputs": [
    {
     "data": {
      "text/plain": [
       "ORG_AIR  DEST_AIR\n",
       "ATL      ABE          31\n",
       "         ABQ          16\n",
       "         ABY          19\n",
       "         ACY           6\n",
       "         AEX          40\n",
       "                    ... \n",
       "SFO      SNA         122\n",
       "         STL          20\n",
       "         SUN          10\n",
       "         TUS          20\n",
       "         XNA           2\n",
       "Length: 1130, dtype: int64"
      ]
     },
     "execution_count": 84,
     "metadata": {},
     "output_type": "execute_result"
    }
   ],
   "source": [
    "#Count the total number of flights between two cities regardless of which one is the origin or destination.\n",
    "\n",
    "#find the total number (pues con size seria la cantidad) of flights between each origin and destination airport\n",
    "\n",
    "flights_ct = flights.groupby(['ORG_AIR', 'DEST_AIR']).size()\n",
    "flights_ct"
   ]
  },
  {
   "cell_type": "code",
   "execution_count": 85,
   "id": "friendly-perspective",
   "metadata": {
    "ExecuteTime": {
     "end_time": "2021-03-08T06:35:52.491298Z",
     "start_time": "2021-03-08T06:35:52.456287Z"
    }
   },
   "outputs": [
    {
     "data": {
      "text/plain": [
       "269"
      ]
     },
     "execution_count": 85,
     "metadata": {},
     "output_type": "execute_result"
    }
   ],
   "source": [
    "#Select the total number of flights between Houston (IAH) and Atlanta (ATL) (de ida y regreso)\n",
    "flights_ct.loc[[('ATL', 'IAH'), ('IAH', 'ATL')]].sum()"
   ]
  },
  {
   "cell_type": "code",
   "execution_count": null,
   "id": "japanese-muslim",
   "metadata": {},
   "outputs": [],
   "source": [
    "#but this can be very slow for when there is too much data\n",
    "#Try with np.sort for faster performance\n",
    "data_sorted = np.sort(flights[['ORG_AIR', 'DEST_AIR']])\n",
    "flights_sort2 = pd.DataFrame(data_sorted, columns=['AIR1', 'AIR2'])"
   ]
  },
  {
   "cell_type": "code",
   "execution_count": 74,
   "id": "pacific-house",
   "metadata": {
    "ExecuteTime": {
     "end_time": "2021-03-08T06:33:40.230693Z",
     "start_time": "2021-03-08T06:33:37.793262Z"
    }
   },
   "outputs": [
    {
     "name": "stdout",
     "output_type": "stream",
     "text": [
      "30.3 ms ± 3.92 ms per loop (mean ± std. dev. of 7 runs, 10 loops each)\n"
     ]
    }
   ],
   "source": [
    "%%timeit\n",
    "data_sorted = np.sort(flights[['ORG_AIR', 'DEST_AIR']])\n",
    "flights_sort2 = pd.DataFrame(data_sorted, columns=['ORG_AIR', 'DEST_AIR'])"
   ]
  },
  {
   "cell_type": "code",
   "execution_count": null,
   "id": "convinced-upset",
   "metadata": {},
   "outputs": [],
   "source": []
  },
  {
   "cell_type": "code",
   "execution_count": null,
   "id": "objective-version",
   "metadata": {},
   "outputs": [],
   "source": []
  },
  {
   "cell_type": "code",
   "execution_count": null,
   "id": "listed-patent",
   "metadata": {},
   "outputs": [],
   "source": []
  },
  {
   "cell_type": "code",
   "execution_count": null,
   "id": "junior-minority",
   "metadata": {},
   "outputs": [],
   "source": []
  },
  {
   "cell_type": "code",
   "execution_count": null,
   "id": "growing-heath",
   "metadata": {},
   "outputs": [],
   "source": []
  },
  {
   "cell_type": "code",
   "execution_count": null,
   "id": "detailed-clinton",
   "metadata": {},
   "outputs": [],
   "source": []
  },
  {
   "cell_type": "code",
   "execution_count": null,
   "id": "brazilian-ceiling",
   "metadata": {},
   "outputs": [],
   "source": []
  },
  {
   "cell_type": "code",
   "execution_count": null,
   "id": "tender-scheduling",
   "metadata": {},
   "outputs": [],
   "source": []
  },
  {
   "cell_type": "code",
   "execution_count": null,
   "id": "completed-dining",
   "metadata": {},
   "outputs": [],
   "source": []
  },
  {
   "cell_type": "code",
   "execution_count": null,
   "id": "important-internet",
   "metadata": {},
   "outputs": [],
   "source": []
  }
 ],
 "metadata": {
  "kernelspec": {
   "display_name": "Python 3",
   "language": "python",
   "name": "python3"
  },
  "language_info": {
   "codemirror_mode": {
    "name": "ipython",
    "version": 3
   },
   "file_extension": ".py",
   "mimetype": "text/x-python",
   "name": "python",
   "nbconvert_exporter": "python",
   "pygments_lexer": "ipython3",
   "version": "3.8.6"
  },
  "toc": {
   "base_numbering": 1,
   "nav_menu": {},
   "number_sections": true,
   "sideBar": true,
   "skip_h1_title": false,
   "title_cell": "Table of Contents",
   "title_sidebar": "Contents",
   "toc_cell": false,
   "toc_position": {},
   "toc_section_display": true,
   "toc_window_display": false
  },
  "varInspector": {
   "cols": {
    "lenName": 16,
    "lenType": 16,
    "lenVar": 40
   },
   "kernels_config": {
    "python": {
     "delete_cmd_postfix": "",
     "delete_cmd_prefix": "del ",
     "library": "var_list.py",
     "varRefreshCmd": "print(var_dic_list())"
    },
    "r": {
     "delete_cmd_postfix": ") ",
     "delete_cmd_prefix": "rm(",
     "library": "var_list.r",
     "varRefreshCmd": "cat(var_dic_list()) "
    }
   },
   "types_to_exclude": [
    "module",
    "function",
    "builtin_function_or_method",
    "instance",
    "_Feature"
   ],
   "window_display": false
  }
 },
 "nbformat": 4,
 "nbformat_minor": 5
}
