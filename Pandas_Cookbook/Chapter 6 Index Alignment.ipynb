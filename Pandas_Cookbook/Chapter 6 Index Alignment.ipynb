{
 "cells": [
  {
   "cell_type": "markdown",
   "id": "looking-potter",
   "metadata": {},
   "source": [
    "# Index Alignment"
   ]
  },
  {
   "cell_type": "markdown",
   "id": "historic-coverage",
   "metadata": {},
   "source": [
    "```All Index objects, except for the special\n",
    "MultiIndex, are single-dimensional data structures that combine the functionality and\n",
    "implementation of Python sets and NumPy ndarrays.```"
   ]
  },
  {
   "cell_type": "code",
   "execution_count": 1,
   "id": "antique-import",
   "metadata": {
    "ExecuteTime": {
     "end_time": "2021-07-19T09:23:26.903517Z",
     "start_time": "2021-07-19T09:23:25.202519Z"
    }
   },
   "outputs": [],
   "source": [
    "url = \"https://raw.githubusercontent.com/PacktPublishing/Pandas-Cookbook/master/data/college.csv\"\n",
    "college = pd.read_csv(url)"
   ]
  },
  {
   "cell_type": "code",
   "execution_count": 2,
   "id": "spiritual-territory",
   "metadata": {
    "ExecuteTime": {
     "end_time": "2021-07-19T09:23:27.015518Z",
     "start_time": "2021-07-19T09:23:26.988519Z"
    }
   },
   "outputs": [
    {
     "data": {
      "text/plain": [
       "Index(['INSTNM', 'CITY', 'STABBR', 'HBCU', 'MENONLY', 'WOMENONLY', 'RELAFFIL',\n",
       "       'SATVRMID', 'SATMTMID', 'DISTANCEONLY', 'UGDS', 'UGDS_WHITE',\n",
       "       'UGDS_BLACK', 'UGDS_HISP', 'UGDS_ASIAN', 'UGDS_AIAN', 'UGDS_NHPI',\n",
       "       'UGDS_2MOR', 'UGDS_NRA', 'UGDS_UNKN', 'PPTUG_EF', 'CURROPER', 'PCTPELL',\n",
       "       'PCTFLOAN', 'UG25ABV', 'MD_EARN_WNE_P10', 'GRAD_DEBT_MDN_SUPP'],\n",
       "      dtype='object')"
      ]
     },
     "execution_count": 2,
     "metadata": {},
     "output_type": "execute_result"
    }
   ],
   "source": [
    "columns = college.columns\n",
    "columns"
   ]
  },
  {
   "cell_type": "code",
   "execution_count": 3,
   "id": "meaning-hamburg",
   "metadata": {
    "ExecuteTime": {
     "end_time": "2021-07-19T09:23:27.077518Z",
     "start_time": "2021-07-19T09:23:27.065520Z"
    }
   },
   "outputs": [
    {
     "data": {
      "text/plain": [
       "array(['INSTNM', 'CITY', 'STABBR', 'HBCU', 'MENONLY', 'WOMENONLY',\n",
       "       'RELAFFIL', 'SATVRMID', 'SATMTMID', 'DISTANCEONLY', 'UGDS',\n",
       "       'UGDS_WHITE', 'UGDS_BLACK', 'UGDS_HISP', 'UGDS_ASIAN', 'UGDS_AIAN',\n",
       "       'UGDS_NHPI', 'UGDS_2MOR', 'UGDS_NRA', 'UGDS_UNKN', 'PPTUG_EF',\n",
       "       'CURROPER', 'PCTPELL', 'PCTFLOAN', 'UG25ABV', 'MD_EARN_WNE_P10',\n",
       "       'GRAD_DEBT_MDN_SUPP'], dtype=object)"
      ]
     },
     "execution_count": 3,
     "metadata": {},
     "output_type": "execute_result"
    }
   ],
   "source": [
    "#Use the values attribute to access the underlying NumPy array:\n",
    "columns.values"
   ]
  },
  {
   "cell_type": "code",
   "execution_count": 4,
   "id": "arctic-armstrong",
   "metadata": {
    "ExecuteTime": {
     "end_time": "2021-07-19T09:23:27.140515Z",
     "start_time": "2021-07-19T09:23:27.127519Z"
    }
   },
   "outputs": [
    {
     "name": "stdout",
     "output_type": "stream",
     "text": [
      "WOMENONLY\n",
      "Index(['CITY', 'SATVRMID', 'UGDS'], dtype='object')\n",
      "Index(['PPTUG_EF', 'CURROPER', 'PCTPELL'], dtype='object')\n"
     ]
    }
   ],
   "source": [
    "#Select items from the index by integer location with scalars, lists, or slices:\n",
    "print(columns[5])\n",
    "print(columns[[1, 7, 10]])\n",
    "print(columns[-7:-4])"
   ]
  },
  {
   "cell_type": "code",
   "execution_count": 5,
   "id": "greatest-university",
   "metadata": {
    "ExecuteTime": {
     "end_time": "2021-07-19T09:23:27.785517Z",
     "start_time": "2021-07-19T09:23:27.759516Z"
    }
   },
   "outputs": [
    {
     "data": {
      "text/plain": [
       "('CITY', 'WOMENONLY', 0)"
      ]
     },
     "execution_count": 5,
     "metadata": {},
     "output_type": "execute_result"
    }
   ],
   "source": [
    "#Indexes share many of the same methods as Series and DataFrames:\n",
    "columns.min(), columns.max(), columns.isnull().sum()"
   ]
  },
  {
   "cell_type": "code",
   "execution_count": 6,
   "id": "quiet-discrimination",
   "metadata": {
    "ExecuteTime": {
     "end_time": "2021-07-19T09:23:28.391516Z",
     "start_time": "2021-07-19T09:23:28.320518Z"
    }
   },
   "outputs": [
    {
     "data": {
      "text/plain": [
       "Index(['INSTNM_A', 'CITY_A', 'STABBR_A', 'HBCU_A', 'MENONLY_A', 'WOMENONLY_A',\n",
       "       'RELAFFIL_A', 'SATVRMID_A', 'SATMTMID_A', 'DISTANCEONLY_A', 'UGDS_A',\n",
       "       'UGDS_WHITE_A', 'UGDS_BLACK_A', 'UGDS_HISP_A', 'UGDS_ASIAN_A',\n",
       "       'UGDS_AIAN_A', 'UGDS_NHPI_A', 'UGDS_2MOR_A', 'UGDS_NRA_A',\n",
       "       'UGDS_UNKN_A', 'PPTUG_EF_A', 'CURROPER_A', 'PCTPELL_A', 'PCTFLOAN_A',\n",
       "       'UG25ABV_A', 'MD_EARN_WNE_P10_A', 'GRAD_DEBT_MDN_SUPP_A'],\n",
       "      dtype='object')"
      ]
     },
     "execution_count": 6,
     "metadata": {},
     "output_type": "execute_result"
    }
   ],
   "source": [
    "#Use basic arithmetic and comparison operators directly on Index objects\n",
    "columns + '_A'"
   ]
  },
  {
   "cell_type": "markdown",
   "id": "professional-championship",
   "metadata": {},
   "source": [
    "#### <span style=\"color:orange\"> ***Trying to change an Index value directly after its creation fails. Indexes are immutable objects*** </span>"
   ]
  },
  {
   "cell_type": "code",
   "execution_count": 17,
   "id": "informal-washington",
   "metadata": {
    "ExecuteTime": {
     "end_time": "2021-07-19T09:28:20.882289Z",
     "start_time": "2021-07-19T09:28:20.862260Z"
    }
   },
   "outputs": [],
   "source": [
    "columns[1] = 'city' "
   ]
  },
  {
   "cell_type": "code",
   "execution_count": 5,
   "id": "automotive-vessel",
   "metadata": {
    "ExecuteTime": {
     "end_time": "2021-03-25T04:49:04.059964Z",
     "start_time": "2021-03-25T04:49:04.042963Z"
    }
   },
   "outputs": [
    {
     "name": "stdout",
     "output_type": "stream",
     "text": [
      "Index(['CITY', 'HBCU', 'INSTNM', 'MENONLY', 'STABBR', 'WOMENONLY'], dtype='object')\n",
      "Index(['STABBR', 'HBCU'], dtype='object')\n",
      "Index(['CITY', 'INSTNM', 'MENONLY', 'WOMENONLY'], dtype='object')\n"
     ]
    }
   ],
   "source": [
    "# Indexes support the set operations, union, intersection, difference, and symmetric_difference:\n",
    "c1 = columns[:4]\n",
    "c2 = columns[2:6]\n",
    "\n",
    "print(c1.union(c2))\n",
    "print(c1.intersection(c2))\n",
    "print(c1.symmetric_difference(c2)) #los que estan en c1 pero no en c2\n"
   ]
  },
  {
   "cell_type": "markdown",
   "id": "crucial-enlargement",
   "metadata": {},
   "source": [
    "## Producing Cartesian products"
   ]
  },
  {
   "cell_type": "code",
   "execution_count": 9,
   "id": "raised-delaware",
   "metadata": {
    "ExecuteTime": {
     "end_time": "2021-03-04T05:33:00.191997Z",
     "start_time": "2021-03-04T05:33:00.166999Z"
    }
   },
   "outputs": [
    {
     "data": {
      "text/plain": [
       "a    0\n",
       "a    1\n",
       "a    2\n",
       "b    3\n",
       "dtype: int32"
      ]
     },
     "execution_count": 9,
     "metadata": {},
     "output_type": "execute_result"
    }
   ],
   "source": [
    "s1 = pd.Series(index=list('aaab'), data = np.arange(4))\n",
    "s1"
   ]
  },
  {
   "cell_type": "code",
   "execution_count": 10,
   "id": "perceived-round",
   "metadata": {
    "ExecuteTime": {
     "end_time": "2021-03-04T05:33:00.221993Z",
     "start_time": "2021-03-04T05:33:00.198003Z"
    }
   },
   "outputs": [
    {
     "data": {
      "text/plain": [
       "c    0\n",
       "a    1\n",
       "b    2\n",
       "a    3\n",
       "b    4\n",
       "b    5\n",
       "dtype: int32"
      ]
     },
     "execution_count": 10,
     "metadata": {},
     "output_type": "execute_result"
    }
   ],
   "source": [
    "s2 = pd.Series(index=list('cababb'), data=np.arange(6))\n",
    "s2"
   ]
  },
  {
   "cell_type": "code",
   "execution_count": 11,
   "id": "atmospheric-princess",
   "metadata": {
    "ExecuteTime": {
     "end_time": "2021-03-04T05:33:00.253996Z",
     "start_time": "2021-03-04T05:33:00.226997Z"
    }
   },
   "outputs": [
    {
     "data": {
      "text/plain": [
       "a    1.0\n",
       "a    3.0\n",
       "a    2.0\n",
       "a    4.0\n",
       "a    3.0\n",
       "a    5.0\n",
       "b    5.0\n",
       "b    7.0\n",
       "b    8.0\n",
       "c    NaN\n",
       "dtype: float64"
      ]
     },
     "execution_count": 11,
     "metadata": {},
     "output_type": "execute_result"
    }
   ],
   "source": [
    "#produce the cartesian product (matrices)\n",
    "s1 + s2 #10*2 table\n",
    "#Pandas defaults to a missing value whenever an index label is unique to one object."
   ]
  },
  {
   "cell_type": "markdown",
   "id": "interim-auction",
   "metadata": {},
   "source": [
    "```An exception to the preceding example takes place when the indexes contain the same exact\n",
    "elements in the same order.```\n",
    "\n",
    "```When this occurs, a Cartesian product does not take place, and\n",
    "the indexes instead align by their position.```"
   ]
  },
  {
   "cell_type": "code",
   "execution_count": 12,
   "id": "other-ecology",
   "metadata": {
    "ExecuteTime": {
     "end_time": "2021-03-04T05:33:00.283997Z",
     "start_time": "2021-03-04T05:33:00.260001Z"
    }
   },
   "outputs": [
    {
     "data": {
      "text/plain": [
       "a    0\n",
       "a    2\n",
       "a    4\n",
       "b    6\n",
       "b    8\n",
       "dtype: int32"
      ]
     },
     "execution_count": 12,
     "metadata": {},
     "output_type": "execute_result"
    }
   ],
   "source": [
    "s1 = pd.Series(index= list('aaabb'), data = np.arange(5))\n",
    "s2 = pd.Series(index= list('aaabb'), data = np.arange(5))\n",
    "\n",
    "s1+s2 #No cartesian product, just a normal sum"
   ]
  },
  {
   "cell_type": "code",
   "execution_count": 19,
   "id": "facial-jersey",
   "metadata": {
    "ExecuteTime": {
     "end_time": "2021-07-19T09:39:15.867372Z",
     "start_time": "2021-07-19T09:39:15.833368Z"
    }
   },
   "outputs": [
    {
     "data": {
      "text/plain": [
       "a    2\n",
       "a    3\n",
       "a    4\n",
       "a    3\n",
       "a    4\n",
       "a    5\n",
       "a    4\n",
       "a    5\n",
       "a    6\n",
       "b    3\n",
       "b    4\n",
       "b    4\n",
       "b    5\n",
       "dtype: int32"
      ]
     },
     "execution_count": 19,
     "metadata": {},
     "output_type": "execute_result"
    }
   ],
   "source": [
    "#If the elements of the index are identical, but the order is different between the Series\n",
    "#-----------Cartesian product occurs.\n",
    "s1 = pd.Series(index=list('aaabb'), data=np.arange(5))\n",
    "s2 = pd.Series(index=list('bbaaa'), data=np.arange(5))\n",
    "s1+s2"
   ]
  },
  {
   "cell_type": "code",
   "execution_count": 20,
   "id": "ready-leisure",
   "metadata": {
    "ExecuteTime": {
     "end_time": "2021-07-19T09:39:16.597382Z",
     "start_time": "2021-07-19T09:39:16.576362Z"
    }
   },
   "outputs": [
    {
     "data": {
      "text/plain": [
       "a    0\n",
       "a    1\n",
       "a    2\n",
       "b    3\n",
       "b    4\n",
       "dtype: int32"
      ]
     },
     "execution_count": 20,
     "metadata": {},
     "output_type": "execute_result"
    }
   ],
   "source": [
    "s1"
   ]
  },
  {
   "cell_type": "code",
   "execution_count": 21,
   "id": "liquid-heather",
   "metadata": {
    "ExecuteTime": {
     "end_time": "2021-07-19T09:39:17.326349Z",
     "start_time": "2021-07-19T09:39:17.316376Z"
    }
   },
   "outputs": [
    {
     "data": {
      "text/plain": [
       "b    0\n",
       "b    1\n",
       "a    2\n",
       "a    3\n",
       "a    4\n",
       "dtype: int32"
      ]
     },
     "execution_count": 21,
     "metadata": {},
     "output_type": "execute_result"
    }
   ],
   "source": [
    "s2"
   ]
  },
  {
   "cell_type": "markdown",
   "id": "pressing-framework",
   "metadata": {},
   "source": [
    "### ***Typically, array-like data structures in Python and other languages do not allow operations to take place when the operating dimensions do not contain the same number of elements. Pandas allows this to happen by aligning the indexes first before completing the operation.****"
   ]
  },
  {
   "cell_type": "markdown",
   "id": "finished-terrain",
   "metadata": {},
   "source": [
    "# Exploding indexes"
   ]
  },
  {
   "cell_type": "code",
   "execution_count": 22,
   "id": "polar-strength",
   "metadata": {
    "ExecuteTime": {
     "end_time": "2021-07-19T09:50:35.656706Z",
     "start_time": "2021-07-19T09:50:34.810500Z"
    }
   },
   "outputs": [
    {
     "data": {
      "text/html": [
       "<div>\n",
       "<style scoped>\n",
       "    .dataframe tbody tr th:only-of-type {\n",
       "        vertical-align: middle;\n",
       "    }\n",
       "\n",
       "    .dataframe tbody tr th {\n",
       "        vertical-align: top;\n",
       "    }\n",
       "\n",
       "    .dataframe thead th {\n",
       "        text-align: right;\n",
       "    }\n",
       "</style>\n",
       "<table border=\"1\" class=\"dataframe\">\n",
       "  <thead>\n",
       "    <tr style=\"text-align: right;\">\n",
       "      <th></th>\n",
       "      <th>UNIQUE_ID</th>\n",
       "      <th>POSITION_TITLE</th>\n",
       "      <th>DEPARTMENT</th>\n",
       "      <th>BASE_SALARY</th>\n",
       "      <th>EMPLOYMENT_TYPE</th>\n",
       "      <th>GENDER</th>\n",
       "      <th>EMPLOYMENT_STATUS</th>\n",
       "      <th>HIRE_DATE</th>\n",
       "      <th>JOB_DATE</th>\n",
       "    </tr>\n",
       "    <tr>\n",
       "      <th>RACE</th>\n",
       "      <th></th>\n",
       "      <th></th>\n",
       "      <th></th>\n",
       "      <th></th>\n",
       "      <th></th>\n",
       "      <th></th>\n",
       "      <th></th>\n",
       "      <th></th>\n",
       "      <th></th>\n",
       "    </tr>\n",
       "  </thead>\n",
       "  <tbody>\n",
       "    <tr>\n",
       "      <th>Hispanic/Latino</th>\n",
       "      <td>0</td>\n",
       "      <td>ASSISTANT DIRECTOR (EX LVL)</td>\n",
       "      <td>Municipal Courts Department</td>\n",
       "      <td>121862.0</td>\n",
       "      <td>Full Time</td>\n",
       "      <td>Female</td>\n",
       "      <td>Active</td>\n",
       "      <td>2006-06-12</td>\n",
       "      <td>2012-10-13</td>\n",
       "    </tr>\n",
       "    <tr>\n",
       "      <th>Hispanic/Latino</th>\n",
       "      <td>1</td>\n",
       "      <td>LIBRARY ASSISTANT</td>\n",
       "      <td>Library</td>\n",
       "      <td>26125.0</td>\n",
       "      <td>Full Time</td>\n",
       "      <td>Female</td>\n",
       "      <td>Active</td>\n",
       "      <td>2000-07-19</td>\n",
       "      <td>2010-09-18</td>\n",
       "    </tr>\n",
       "    <tr>\n",
       "      <th>White</th>\n",
       "      <td>2</td>\n",
       "      <td>POLICE OFFICER</td>\n",
       "      <td>Houston Police Department-HPD</td>\n",
       "      <td>45279.0</td>\n",
       "      <td>Full Time</td>\n",
       "      <td>Male</td>\n",
       "      <td>Active</td>\n",
       "      <td>2015-02-03</td>\n",
       "      <td>2015-02-03</td>\n",
       "    </tr>\n",
       "    <tr>\n",
       "      <th>White</th>\n",
       "      <td>3</td>\n",
       "      <td>ENGINEER/OPERATOR</td>\n",
       "      <td>Houston Fire Department (HFD)</td>\n",
       "      <td>63166.0</td>\n",
       "      <td>Full Time</td>\n",
       "      <td>Male</td>\n",
       "      <td>Active</td>\n",
       "      <td>1982-02-08</td>\n",
       "      <td>1991-05-25</td>\n",
       "    </tr>\n",
       "    <tr>\n",
       "      <th>White</th>\n",
       "      <td>4</td>\n",
       "      <td>ELECTRICIAN</td>\n",
       "      <td>General Services Department</td>\n",
       "      <td>56347.0</td>\n",
       "      <td>Full Time</td>\n",
       "      <td>Male</td>\n",
       "      <td>Active</td>\n",
       "      <td>1989-06-19</td>\n",
       "      <td>1994-10-22</td>\n",
       "    </tr>\n",
       "  </tbody>\n",
       "</table>\n",
       "</div>"
      ],
      "text/plain": [
       "                 UNIQUE_ID               POSITION_TITLE  \\\n",
       "RACE                                                      \n",
       "Hispanic/Latino          0  ASSISTANT DIRECTOR (EX LVL)   \n",
       "Hispanic/Latino          1            LIBRARY ASSISTANT   \n",
       "White                    2               POLICE OFFICER   \n",
       "White                    3            ENGINEER/OPERATOR   \n",
       "White                    4                  ELECTRICIAN   \n",
       "\n",
       "                                    DEPARTMENT  BASE_SALARY EMPLOYMENT_TYPE  \\\n",
       "RACE                                                                          \n",
       "Hispanic/Latino    Municipal Courts Department     121862.0       Full Time   \n",
       "Hispanic/Latino                        Library      26125.0       Full Time   \n",
       "White            Houston Police Department-HPD      45279.0       Full Time   \n",
       "White            Houston Fire Department (HFD)      63166.0       Full Time   \n",
       "White              General Services Department      56347.0       Full Time   \n",
       "\n",
       "                 GENDER EMPLOYMENT_STATUS   HIRE_DATE    JOB_DATE  \n",
       "RACE                                                               \n",
       "Hispanic/Latino  Female            Active  2006-06-12  2012-10-13  \n",
       "Hispanic/Latino  Female            Active  2000-07-19  2010-09-18  \n",
       "White              Male            Active  2015-02-03  2015-02-03  \n",
       "White              Male            Active  1982-02-08  1991-05-25  \n",
       "White              Male            Active  1989-06-19  1994-10-22  "
      ]
     },
     "execution_count": 22,
     "metadata": {},
     "output_type": "execute_result"
    }
   ],
   "source": [
    "#The last example was small. What happens when we have a big database?\n",
    "url = \"https://raw.githubusercontent.com/PacktPublishing/Pandas-Cookbook/master/data/employee.csv\"\n",
    "employee = pd.read_csv(url, index_col='RACE')\n",
    "employee.head()"
   ]
  },
  {
   "cell_type": "code",
   "execution_count": 23,
   "id": "occasional-pilot",
   "metadata": {
    "ExecuteTime": {
     "end_time": "2021-07-19T09:50:35.720662Z",
     "start_time": "2021-07-19T09:50:35.708660Z"
    }
   },
   "outputs": [],
   "source": [
    "salary1 = employee['BASE_SALARY'].copy() #if we dont assign it to a variable we just get a VIEW object\n",
    "salary2 = employee['BASE_SALARY'].copy() #a view is just a... preview result, but not really applied"
   ]
  },
  {
   "cell_type": "code",
   "execution_count": 24,
   "id": "official-sampling",
   "metadata": {
    "ExecuteTime": {
     "end_time": "2021-07-19T09:50:35.925659Z",
     "start_time": "2021-07-19T09:50:35.903659Z"
    }
   },
   "outputs": [
    {
     "data": {
      "text/plain": [
       "RACE\n",
       "American Indian or Alaskan Native    78355.0\n",
       "American Indian or Alaskan Native    26125.0\n",
       "American Indian or Alaskan Native    98536.0\n",
       "American Indian or Alaskan Native        NaN\n",
       "American Indian or Alaskan Native    55461.0\n",
       "Name: BASE_SALARY, dtype: float64"
      ]
     },
     "execution_count": 24,
     "metadata": {},
     "output_type": "execute_result"
    }
   ],
   "source": [
    "#Let's change the order of the index for one of the Series by sorting it:\n",
    "salary1 = salary1.sort_index()\n",
    "salary1.head()"
   ]
  },
  {
   "cell_type": "code",
   "execution_count": 25,
   "id": "large-glossary",
   "metadata": {
    "ExecuteTime": {
     "end_time": "2021-07-19T09:50:37.002677Z",
     "start_time": "2021-07-19T09:50:36.983688Z"
    }
   },
   "outputs": [
    {
     "data": {
      "text/plain": [
       "RACE\n",
       "Hispanic/Latino    121862.0\n",
       "Hispanic/Latino     26125.0\n",
       "White               45279.0\n",
       "White               63166.0\n",
       "White               56347.0\n",
       "Name: BASE_SALARY, dtype: float64"
      ]
     },
     "execution_count": 25,
     "metadata": {},
     "output_type": "execute_result"
    }
   ],
   "source": [
    "salary2.head()"
   ]
  },
  {
   "cell_type": "code",
   "execution_count": 26,
   "id": "welcome-particle",
   "metadata": {
    "ExecuteTime": {
     "end_time": "2021-07-19T09:50:42.976852Z",
     "start_time": "2021-07-19T09:50:42.812865Z"
    }
   },
   "outputs": [
    {
     "data": {
      "text/plain": [
       "RACE\n",
       "American Indian or Alaskan Native    138702.0\n",
       "American Indian or Alaskan Native    156710.0\n",
       "American Indian or Alaskan Native    176891.0\n",
       "American Indian or Alaskan Native    159594.0\n",
       "American Indian or Alaskan Native    127734.0\n",
       "                                       ...   \n",
       "NaN                                   68024.0\n",
       "NaN                                   56048.0\n",
       "NaN                                   56790.0\n",
       "NaN                                       NaN\n",
       "NaN                                   56048.0\n",
       "Name: BASE_SALARY, Length: 1175424, dtype: float64"
      ]
     },
     "execution_count": 26,
     "metadata": {},
     "output_type": "execute_result"
    }
   ],
   "source": [
    "#let's make the cartesian product\n",
    "salary_add = salary1 + salary2\n",
    "salary_add"
   ]
  },
  {
   "cell_type": "code",
   "execution_count": 27,
   "id": "massive-quest",
   "metadata": {
    "ExecuteTime": {
     "end_time": "2021-07-19T09:50:53.592204Z",
     "start_time": "2021-07-19T09:50:53.575173Z"
    }
   },
   "outputs": [
    {
     "data": {
      "text/plain": [
       "(2000, 2000, 1175424)"
      ]
     },
     "execution_count": 27,
     "metadata": {},
     "output_type": "execute_result"
    }
   ],
   "source": [
    "#And check the length of them\n",
    "\n",
    "len(salary1), len(salary2), len(salary_add)\n",
    "# se crean mas columnas de las que deberian. todo porque ordenamos un indice y el otro no"
   ]
  },
  {
   "cell_type": "code",
   "execution_count": 31,
   "id": "deluxe-allowance",
   "metadata": {
    "ExecuteTime": {
     "end_time": "2021-07-19T09:52:17.580862Z",
     "start_time": "2021-07-19T09:52:17.556862Z"
    }
   },
   "outputs": [
    {
     "data": {
      "text/plain": [
       "Black or African American            700\n",
       "White                                665\n",
       "Hispanic/Latino                      480\n",
       "Asian/Pacific Islander               107\n",
       "NaN                                   35\n",
       "American Indian or Alaskan Native     11\n",
       "Others                                 2\n",
       "Name: RACE, dtype: int64"
      ]
     },
     "execution_count": 31,
     "metadata": {},
     "output_type": "execute_result"
    }
   ],
   "source": [
    "index_vc = salary1.index.value_counts(dropna=False)\n",
    "index_vc"
   ]
  },
  {
   "cell_type": "code",
   "execution_count": 41,
   "id": "cathedral-filter",
   "metadata": {
    "ExecuteTime": {
     "end_time": "2021-07-19T09:54:36.009153Z",
     "start_time": "2021-07-19T09:54:35.997154Z"
    }
   },
   "outputs": [
    {
     "data": {
      "text/plain": [
       "1119915.0"
      ]
     },
     "execution_count": 41,
     "metadata": {},
     "output_type": "execute_result"
    }
   ],
   "source": [
    "a = salary1[salary1.index.isnull()] #filter by nulls\n",
    "a.sum() #See the total of values to seee if it's good idea to drop them"
   ]
  },
  {
   "cell_type": "code",
   "execution_count": null,
   "id": "nonprofit-mathematics",
   "metadata": {},
   "outputs": [],
   "source": []
  },
  {
   "cell_type": "markdown",
   "id": "advance-conjunction",
   "metadata": {},
   "source": [
    "# Filling values with unequal indexes"
   ]
  },
  {
   "cell_type": "markdown",
   "id": "greek-writer",
   "metadata": {},
   "source": [
    "```When two Series are added together using the plus operator and one of the index labels\n",
    "does not appear in the other, the resulting value is always missing.```\n",
    "\n",
    "```Pandas offers the ***add*** method, which provides an option to fill the missing value.```"
   ]
  },
  {
   "cell_type": "code",
   "execution_count": 42,
   "id": "south-collectible",
   "metadata": {
    "ExecuteTime": {
     "end_time": "2021-07-19T09:59:49.237124Z",
     "start_time": "2021-07-19T09:59:47.319766Z"
    }
   },
   "outputs": [],
   "source": [
    "url1 = \"https://raw.githubusercontent.com/PacktPublishing/Pandas-Cookbook/master/data/baseball14.csv\"\n",
    "url2 = \"https://raw.githubusercontent.com/PacktPublishing/Pandas-Cookbook/master/data/baseball15.csv\"\n",
    "url3 = \"https://raw.githubusercontent.com/PacktPublishing/Pandas-Cookbook/master/data/baseball16.csv\"\n",
    "\n",
    "baseball_14 = pd.read_csv(url1, index_col='playerID')\n",
    "baseball_15 = pd.read_csv(url2, index_col='playerID')\n",
    "baseball_16 = pd.read_csv(url3, index_col='playerID')"
   ]
  },
  {
   "cell_type": "code",
   "execution_count": 43,
   "id": "czech-exposure",
   "metadata": {
    "ExecuteTime": {
     "end_time": "2021-07-19T09:59:49.395113Z",
     "start_time": "2021-07-19T09:59:49.351111Z"
    }
   },
   "outputs": [
    {
     "data": {
      "text/html": [
       "<div>\n",
       "<style scoped>\n",
       "    .dataframe tbody tr th:only-of-type {\n",
       "        vertical-align: middle;\n",
       "    }\n",
       "\n",
       "    .dataframe tbody tr th {\n",
       "        vertical-align: top;\n",
       "    }\n",
       "\n",
       "    .dataframe thead th {\n",
       "        text-align: right;\n",
       "    }\n",
       "</style>\n",
       "<table border=\"1\" class=\"dataframe\">\n",
       "  <thead>\n",
       "    <tr style=\"text-align: right;\">\n",
       "      <th></th>\n",
       "      <th>yearID</th>\n",
       "      <th>stint</th>\n",
       "      <th>teamID</th>\n",
       "      <th>lgID</th>\n",
       "      <th>G</th>\n",
       "      <th>AB</th>\n",
       "      <th>R</th>\n",
       "      <th>H</th>\n",
       "      <th>2B</th>\n",
       "      <th>3B</th>\n",
       "      <th>...</th>\n",
       "      <th>RBI</th>\n",
       "      <th>SB</th>\n",
       "      <th>CS</th>\n",
       "      <th>BB</th>\n",
       "      <th>SO</th>\n",
       "      <th>IBB</th>\n",
       "      <th>HBP</th>\n",
       "      <th>SH</th>\n",
       "      <th>SF</th>\n",
       "      <th>GIDP</th>\n",
       "    </tr>\n",
       "    <tr>\n",
       "      <th>playerID</th>\n",
       "      <th></th>\n",
       "      <th></th>\n",
       "      <th></th>\n",
       "      <th></th>\n",
       "      <th></th>\n",
       "      <th></th>\n",
       "      <th></th>\n",
       "      <th></th>\n",
       "      <th></th>\n",
       "      <th></th>\n",
       "      <th></th>\n",
       "      <th></th>\n",
       "      <th></th>\n",
       "      <th></th>\n",
       "      <th></th>\n",
       "      <th></th>\n",
       "      <th></th>\n",
       "      <th></th>\n",
       "      <th></th>\n",
       "      <th></th>\n",
       "      <th></th>\n",
       "    </tr>\n",
       "  </thead>\n",
       "  <tbody>\n",
       "    <tr>\n",
       "      <th>altuvjo01</th>\n",
       "      <td>2014</td>\n",
       "      <td>1</td>\n",
       "      <td>HOU</td>\n",
       "      <td>AL</td>\n",
       "      <td>158</td>\n",
       "      <td>660</td>\n",
       "      <td>85</td>\n",
       "      <td>225</td>\n",
       "      <td>47</td>\n",
       "      <td>3</td>\n",
       "      <td>...</td>\n",
       "      <td>59.0</td>\n",
       "      <td>56.0</td>\n",
       "      <td>9.0</td>\n",
       "      <td>36</td>\n",
       "      <td>53.0</td>\n",
       "      <td>7.0</td>\n",
       "      <td>5.0</td>\n",
       "      <td>1.0</td>\n",
       "      <td>5.0</td>\n",
       "      <td>20.0</td>\n",
       "    </tr>\n",
       "    <tr>\n",
       "      <th>cartech02</th>\n",
       "      <td>2014</td>\n",
       "      <td>1</td>\n",
       "      <td>HOU</td>\n",
       "      <td>AL</td>\n",
       "      <td>145</td>\n",
       "      <td>507</td>\n",
       "      <td>68</td>\n",
       "      <td>115</td>\n",
       "      <td>21</td>\n",
       "      <td>1</td>\n",
       "      <td>...</td>\n",
       "      <td>88.0</td>\n",
       "      <td>5.0</td>\n",
       "      <td>2.0</td>\n",
       "      <td>56</td>\n",
       "      <td>182.0</td>\n",
       "      <td>6.0</td>\n",
       "      <td>5.0</td>\n",
       "      <td>0.0</td>\n",
       "      <td>4.0</td>\n",
       "      <td>12.0</td>\n",
       "    </tr>\n",
       "    <tr>\n",
       "      <th>castrja01</th>\n",
       "      <td>2014</td>\n",
       "      <td>1</td>\n",
       "      <td>HOU</td>\n",
       "      <td>AL</td>\n",
       "      <td>126</td>\n",
       "      <td>465</td>\n",
       "      <td>43</td>\n",
       "      <td>103</td>\n",
       "      <td>21</td>\n",
       "      <td>2</td>\n",
       "      <td>...</td>\n",
       "      <td>56.0</td>\n",
       "      <td>1.0</td>\n",
       "      <td>0.0</td>\n",
       "      <td>34</td>\n",
       "      <td>151.0</td>\n",
       "      <td>1.0</td>\n",
       "      <td>9.0</td>\n",
       "      <td>1.0</td>\n",
       "      <td>3.0</td>\n",
       "      <td>11.0</td>\n",
       "    </tr>\n",
       "    <tr>\n",
       "      <th>corpoca01</th>\n",
       "      <td>2014</td>\n",
       "      <td>1</td>\n",
       "      <td>HOU</td>\n",
       "      <td>AL</td>\n",
       "      <td>55</td>\n",
       "      <td>170</td>\n",
       "      <td>22</td>\n",
       "      <td>40</td>\n",
       "      <td>6</td>\n",
       "      <td>0</td>\n",
       "      <td>...</td>\n",
       "      <td>19.0</td>\n",
       "      <td>0.0</td>\n",
       "      <td>0.0</td>\n",
       "      <td>14</td>\n",
       "      <td>37.0</td>\n",
       "      <td>0.0</td>\n",
       "      <td>3.0</td>\n",
       "      <td>1.0</td>\n",
       "      <td>2.0</td>\n",
       "      <td>3.0</td>\n",
       "    </tr>\n",
       "    <tr>\n",
       "      <th>dominma01</th>\n",
       "      <td>2014</td>\n",
       "      <td>1</td>\n",
       "      <td>HOU</td>\n",
       "      <td>AL</td>\n",
       "      <td>157</td>\n",
       "      <td>564</td>\n",
       "      <td>51</td>\n",
       "      <td>121</td>\n",
       "      <td>17</td>\n",
       "      <td>0</td>\n",
       "      <td>...</td>\n",
       "      <td>57.0</td>\n",
       "      <td>0.0</td>\n",
       "      <td>1.0</td>\n",
       "      <td>29</td>\n",
       "      <td>125.0</td>\n",
       "      <td>2.0</td>\n",
       "      <td>5.0</td>\n",
       "      <td>2.0</td>\n",
       "      <td>7.0</td>\n",
       "      <td>23.0</td>\n",
       "    </tr>\n",
       "  </tbody>\n",
       "</table>\n",
       "<p>5 rows × 21 columns</p>\n",
       "</div>"
      ],
      "text/plain": [
       "           yearID  stint teamID lgID    G   AB   R    H  2B  3B  ...   RBI  \\\n",
       "playerID                                                         ...         \n",
       "altuvjo01    2014      1    HOU   AL  158  660  85  225  47   3  ...  59.0   \n",
       "cartech02    2014      1    HOU   AL  145  507  68  115  21   1  ...  88.0   \n",
       "castrja01    2014      1    HOU   AL  126  465  43  103  21   2  ...  56.0   \n",
       "corpoca01    2014      1    HOU   AL   55  170  22   40   6   0  ...  19.0   \n",
       "dominma01    2014      1    HOU   AL  157  564  51  121  17   0  ...  57.0   \n",
       "\n",
       "             SB   CS  BB     SO  IBB  HBP   SH   SF  GIDP  \n",
       "playerID                                                   \n",
       "altuvjo01  56.0  9.0  36   53.0  7.0  5.0  1.0  5.0  20.0  \n",
       "cartech02   5.0  2.0  56  182.0  6.0  5.0  0.0  4.0  12.0  \n",
       "castrja01   1.0  0.0  34  151.0  1.0  9.0  1.0  3.0  11.0  \n",
       "corpoca01   0.0  0.0  14   37.0  0.0  3.0  1.0  2.0   3.0  \n",
       "dominma01   0.0  1.0  29  125.0  2.0  5.0  2.0  7.0  23.0  \n",
       "\n",
       "[5 rows x 21 columns]"
      ]
     },
     "execution_count": 43,
     "metadata": {},
     "output_type": "execute_result"
    }
   ],
   "source": [
    "baseball_14.head()"
   ]
  },
  {
   "cell_type": "code",
   "execution_count": 44,
   "id": "miniature-thought",
   "metadata": {
    "ExecuteTime": {
     "end_time": "2021-07-19T09:59:49.520116Z",
     "start_time": "2021-07-19T09:59:49.507109Z"
    }
   },
   "outputs": [
    {
     "name": "stdout",
     "output_type": "stream",
     "text": [
      "Index(['corpoca01', 'dominma01', 'fowlede01', 'grossro01', 'guzmaje01',\n",
      "       'hoeslj01', 'krausma01', 'preslal01', 'singljo02'],\n",
      "      dtype='object', name='playerID')\n",
      "Index(['cartech02', 'corpoca01', 'dominma01', 'fowlede01', 'grossro01',\n",
      "       'guzmaje01', 'hoeslj01', 'krausma01', 'preslal01', 'singljo02',\n",
      "       'villajo01'],\n",
      "      dtype='object', name='playerID')\n"
     ]
    }
   ],
   "source": [
    "#Use the index method difference to discover which index labels are in \n",
    "#baseball_14 and not in baseball_15, and vice versa:\n",
    "\n",
    "print(baseball_14.index.difference(baseball_15.index))\n",
    "print(baseball_14.index.difference(baseball_16.index))"
   ]
  },
  {
   "cell_type": "markdown",
   "id": "known-ready",
   "metadata": {},
   "source": [
    "## Highlight NAN values"
   ]
  },
  {
   "cell_type": "markdown",
   "id": "first-cooper",
   "metadata": {},
   "source": [
    "When two Series are added together using the plus operator and one of the index labels\n",
    "does not appear in the other, the resulting value is always missing. Pandas offers the add\n",
    "method, which provides an option to fill the missing value."
   ]
  },
  {
   "cell_type": "code",
   "execution_count": 45,
   "id": "stuffed-genius",
   "metadata": {
    "ExecuteTime": {
     "end_time": "2021-07-19T10:00:08.657140Z",
     "start_time": "2021-07-19T10:00:07.618138Z"
    }
   },
   "outputs": [
    {
     "data": {
      "text/html": [
       "<style  type=\"text/css\" >\n",
       "#T_af18b_row3_col1,#T_af18b_row4_col3,#T_af18b_row5_col1,#T_af18b_row6_col3,#T_af18b_row7_col3,#T_af18b_row8_col1,#T_af18b_row9_col1{\n",
       "            background-color:  green;\n",
       "        }</style><table id=\"T_af18b_\" ><thead>    <tr>        <th class=\"blank level0\" ></th>        <th class=\"col_heading level0 col0\" >AB</th>        <th class=\"col_heading level0 col1\" >G</th>        <th class=\"col_heading level0 col2\" >H</th>        <th class=\"col_heading level0 col3\" >HR</th>        <th class=\"col_heading level0 col4\" >R</th>    </tr>    <tr>        <th class=\"index_name level0\" >playerID</th>        <th class=\"blank\" ></th>        <th class=\"blank\" ></th>        <th class=\"blank\" ></th>        <th class=\"blank\" ></th>        <th class=\"blank\" ></th>    </tr></thead><tbody>\n",
       "                <tr>\n",
       "                        <th id=\"T_af18b_level0_row0\" class=\"row_heading level0 row0\" >altuvjo01</th>\n",
       "                        <td id=\"T_af18b_row0_col0\" class=\"data row0 col0\" >1298.000000</td>\n",
       "                        <td id=\"T_af18b_row0_col1\" class=\"data row0 col1\" >158.000000</td>\n",
       "                        <td id=\"T_af18b_row0_col2\" class=\"data row0 col2\" >425.000000</td>\n",
       "                        <td id=\"T_af18b_row0_col3\" class=\"data row0 col3\" >15.000000</td>\n",
       "                        <td id=\"T_af18b_row0_col4\" class=\"data row0 col4\" >171.000000</td>\n",
       "            </tr>\n",
       "            <tr>\n",
       "                        <th id=\"T_af18b_level0_row1\" class=\"row_heading level0 row1\" >cartech02</th>\n",
       "                        <td id=\"T_af18b_row1_col0\" class=\"data row1 col0\" >898.000000</td>\n",
       "                        <td id=\"T_af18b_row1_col1\" class=\"data row1 col1\" >145.000000</td>\n",
       "                        <td id=\"T_af18b_row1_col2\" class=\"data row1 col2\" >193.000000</td>\n",
       "                        <td id=\"T_af18b_row1_col3\" class=\"data row1 col3\" >24.000000</td>\n",
       "                        <td id=\"T_af18b_row1_col4\" class=\"data row1 col4\" >118.000000</td>\n",
       "            </tr>\n",
       "            <tr>\n",
       "                        <th id=\"T_af18b_level0_row2\" class=\"row_heading level0 row2\" >castrja01</th>\n",
       "                        <td id=\"T_af18b_row2_col0\" class=\"data row2 col0\" >802.000000</td>\n",
       "                        <td id=\"T_af18b_row2_col1\" class=\"data row2 col1\" >126.000000</td>\n",
       "                        <td id=\"T_af18b_row2_col2\" class=\"data row2 col2\" >174.000000</td>\n",
       "                        <td id=\"T_af18b_row2_col3\" class=\"data row2 col3\" >11.000000</td>\n",
       "                        <td id=\"T_af18b_row2_col4\" class=\"data row2 col4\" >81.000000</td>\n",
       "            </tr>\n",
       "            <tr>\n",
       "                        <th id=\"T_af18b_level0_row3\" class=\"row_heading level0 row3\" >congeha01</th>\n",
       "                        <td id=\"T_af18b_row3_col0\" class=\"data row3 col0\" >201.000000</td>\n",
       "                        <td id=\"T_af18b_row3_col1\" class=\"data row3 col1\" >nan</td>\n",
       "                        <td id=\"T_af18b_row3_col2\" class=\"data row3 col2\" >46.000000</td>\n",
       "                        <td id=\"T_af18b_row3_col3\" class=\"data row3 col3\" >11.000000</td>\n",
       "                        <td id=\"T_af18b_row3_col4\" class=\"data row3 col4\" >25.000000</td>\n",
       "            </tr>\n",
       "            <tr>\n",
       "                        <th id=\"T_af18b_level0_row4\" class=\"row_heading level0 row4\" >corpoca01</th>\n",
       "                        <td id=\"T_af18b_row4_col0\" class=\"data row4 col0\" >170.000000</td>\n",
       "                        <td id=\"T_af18b_row4_col1\" class=\"data row4 col1\" >55.000000</td>\n",
       "                        <td id=\"T_af18b_row4_col2\" class=\"data row4 col2\" >40.000000</td>\n",
       "                        <td id=\"T_af18b_row4_col3\" class=\"data row4 col3\" >nan</td>\n",
       "                        <td id=\"T_af18b_row4_col4\" class=\"data row4 col4\" >22.000000</td>\n",
       "            </tr>\n",
       "            <tr>\n",
       "                        <th id=\"T_af18b_level0_row5\" class=\"row_heading level0 row5\" >correca01</th>\n",
       "                        <td id=\"T_af18b_row5_col0\" class=\"data row5 col0\" >387.000000</td>\n",
       "                        <td id=\"T_af18b_row5_col1\" class=\"data row5 col1\" >nan</td>\n",
       "                        <td id=\"T_af18b_row5_col2\" class=\"data row5 col2\" >108.000000</td>\n",
       "                        <td id=\"T_af18b_row5_col3\" class=\"data row5 col3\" >22.000000</td>\n",
       "                        <td id=\"T_af18b_row5_col4\" class=\"data row5 col4\" >52.000000</td>\n",
       "            </tr>\n",
       "            <tr>\n",
       "                        <th id=\"T_af18b_level0_row6\" class=\"row_heading level0 row6\" >dominma01</th>\n",
       "                        <td id=\"T_af18b_row6_col0\" class=\"data row6 col0\" >564.000000</td>\n",
       "                        <td id=\"T_af18b_row6_col1\" class=\"data row6 col1\" >157.000000</td>\n",
       "                        <td id=\"T_af18b_row6_col2\" class=\"data row6 col2\" >121.000000</td>\n",
       "                        <td id=\"T_af18b_row6_col3\" class=\"data row6 col3\" >nan</td>\n",
       "                        <td id=\"T_af18b_row6_col4\" class=\"data row6 col4\" >51.000000</td>\n",
       "            </tr>\n",
       "            <tr>\n",
       "                        <th id=\"T_af18b_level0_row7\" class=\"row_heading level0 row7\" >fowlede01</th>\n",
       "                        <td id=\"T_af18b_row7_col0\" class=\"data row7 col0\" >434.000000</td>\n",
       "                        <td id=\"T_af18b_row7_col1\" class=\"data row7 col1\" >116.000000</td>\n",
       "                        <td id=\"T_af18b_row7_col2\" class=\"data row7 col2\" >120.000000</td>\n",
       "                        <td id=\"T_af18b_row7_col3\" class=\"data row7 col3\" >nan</td>\n",
       "                        <td id=\"T_af18b_row7_col4\" class=\"data row7 col4\" >61.000000</td>\n",
       "            </tr>\n",
       "            <tr>\n",
       "                        <th id=\"T_af18b_level0_row8\" class=\"row_heading level0 row8\" >gattiev01</th>\n",
       "                        <td id=\"T_af18b_row8_col0\" class=\"data row8 col0\" >566.000000</td>\n",
       "                        <td id=\"T_af18b_row8_col1\" class=\"data row8 col1\" >nan</td>\n",
       "                        <td id=\"T_af18b_row8_col2\" class=\"data row8 col2\" >139.000000</td>\n",
       "                        <td id=\"T_af18b_row8_col3\" class=\"data row8 col3\" >27.000000</td>\n",
       "                        <td id=\"T_af18b_row8_col4\" class=\"data row8 col4\" >66.000000</td>\n",
       "            </tr>\n",
       "            <tr>\n",
       "                        <th id=\"T_af18b_level0_row9\" class=\"row_heading level0 row9\" >gomezca01</th>\n",
       "                        <td id=\"T_af18b_row9_col0\" class=\"data row9 col0\" >149.000000</td>\n",
       "                        <td id=\"T_af18b_row9_col1\" class=\"data row9 col1\" >nan</td>\n",
       "                        <td id=\"T_af18b_row9_col2\" class=\"data row9 col2\" >36.000000</td>\n",
       "                        <td id=\"T_af18b_row9_col3\" class=\"data row9 col3\" >4.000000</td>\n",
       "                        <td id=\"T_af18b_row9_col4\" class=\"data row9 col4\" >19.000000</td>\n",
       "            </tr>\n",
       "    </tbody></table>"
      ],
      "text/plain": [
       "<pandas.io.formats.style.Styler at 0x223a300e160>"
      ]
     },
     "execution_count": 45,
     "metadata": {},
     "output_type": "execute_result"
    }
   ],
   "source": [
    "df_14 = baseball_14[['G','AB', 'R', 'H']]\n",
    "df_15 = baseball_15[['AB', 'R', 'H', 'HR']]\n",
    "df_14.add(df_15, fill_value=0).head(10).style.highlight_null('green') #Add gives the missing value option"
   ]
  },
  {
   "cell_type": "markdown",
   "id": "constitutional-addiction",
   "metadata": {},
   "source": [
    "## Appending columns from different DataFrames"
   ]
  },
  {
   "cell_type": "code",
   "execution_count": 46,
   "id": "foster-partnership",
   "metadata": {
    "ExecuteTime": {
     "end_time": "2021-07-19T10:02:24.479082Z",
     "start_time": "2021-07-19T10:02:24.471083Z"
    }
   },
   "outputs": [],
   "source": [
    "dept_salary = employee[['DEPARTMENT', 'BASE_SALARY']]"
   ]
  },
  {
   "cell_type": "code",
   "execution_count": 47,
   "id": "approved-personal",
   "metadata": {
    "ExecuteTime": {
     "end_time": "2021-07-19T10:02:27.789079Z",
     "start_time": "2021-07-19T10:02:27.759083Z"
    }
   },
   "outputs": [
    {
     "data": {
      "text/html": [
       "<div>\n",
       "<style scoped>\n",
       "    .dataframe tbody tr th:only-of-type {\n",
       "        vertical-align: middle;\n",
       "    }\n",
       "\n",
       "    .dataframe tbody tr th {\n",
       "        vertical-align: top;\n",
       "    }\n",
       "\n",
       "    .dataframe thead th {\n",
       "        text-align: right;\n",
       "    }\n",
       "</style>\n",
       "<table border=\"1\" class=\"dataframe\">\n",
       "  <thead>\n",
       "    <tr style=\"text-align: right;\">\n",
       "      <th></th>\n",
       "      <th>DEPARTMENT</th>\n",
       "      <th>BASE_SALARY</th>\n",
       "    </tr>\n",
       "    <tr>\n",
       "      <th>RACE</th>\n",
       "      <th></th>\n",
       "      <th></th>\n",
       "    </tr>\n",
       "  </thead>\n",
       "  <tbody>\n",
       "    <tr>\n",
       "      <th>White</th>\n",
       "      <td>Admn. &amp; Regulatory Affairs</td>\n",
       "      <td>140416.0</td>\n",
       "    </tr>\n",
       "    <tr>\n",
       "      <th>Asian/Pacific Islander</th>\n",
       "      <td>Admn. &amp; Regulatory Affairs</td>\n",
       "      <td>130416.0</td>\n",
       "    </tr>\n",
       "    <tr>\n",
       "      <th>White</th>\n",
       "      <td>Admn. &amp; Regulatory Affairs</td>\n",
       "      <td>103776.0</td>\n",
       "    </tr>\n",
       "    <tr>\n",
       "      <th>Black or African American</th>\n",
       "      <td>Admn. &amp; Regulatory Affairs</td>\n",
       "      <td>72741.0</td>\n",
       "    </tr>\n",
       "    <tr>\n",
       "      <th>Black or African American</th>\n",
       "      <td>Admn. &amp; Regulatory Affairs</td>\n",
       "      <td>66825.0</td>\n",
       "    </tr>\n",
       "    <tr>\n",
       "      <th>...</th>\n",
       "      <td>...</td>\n",
       "      <td>...</td>\n",
       "    </tr>\n",
       "    <tr>\n",
       "      <th>NaN</th>\n",
       "      <td>Solid Waste Management</td>\n",
       "      <td>30410.0</td>\n",
       "    </tr>\n",
       "    <tr>\n",
       "      <th>NaN</th>\n",
       "      <td>Solid Waste Management</td>\n",
       "      <td>30410.0</td>\n",
       "    </tr>\n",
       "    <tr>\n",
       "      <th>Black or African American</th>\n",
       "      <td>Solid Waste Management</td>\n",
       "      <td>28829.0</td>\n",
       "    </tr>\n",
       "    <tr>\n",
       "      <th>Black or African American</th>\n",
       "      <td>Solid Waste Management</td>\n",
       "      <td>27622.0</td>\n",
       "    </tr>\n",
       "    <tr>\n",
       "      <th>Black or African American</th>\n",
       "      <td>Solid Waste Management</td>\n",
       "      <td>26499.0</td>\n",
       "    </tr>\n",
       "  </tbody>\n",
       "</table>\n",
       "<p>2000 rows × 2 columns</p>\n",
       "</div>"
      ],
      "text/plain": [
       "                                           DEPARTMENT  BASE_SALARY\n",
       "RACE                                                              \n",
       "White                      Admn. & Regulatory Affairs     140416.0\n",
       "Asian/Pacific Islander     Admn. & Regulatory Affairs     130416.0\n",
       "White                      Admn. & Regulatory Affairs     103776.0\n",
       "Black or African American  Admn. & Regulatory Affairs      72741.0\n",
       "Black or African American  Admn. & Regulatory Affairs      66825.0\n",
       "...                                               ...          ...\n",
       "NaN                            Solid Waste Management      30410.0\n",
       "NaN                            Solid Waste Management      30410.0\n",
       "Black or African American      Solid Waste Management      28829.0\n",
       "Black or African American      Solid Waste Management      27622.0\n",
       "Black or African American      Solid Waste Management      26499.0\n",
       "\n",
       "[2000 rows x 2 columns]"
      ]
     },
     "execution_count": 47,
     "metadata": {},
     "output_type": "execute_result"
    }
   ],
   "source": [
    "dept_sal = dept_salary.sort_values(['DEPARTMENT', 'BASE_SALARY'], ascending = [True, False])\n",
    "dept_sal"
   ]
  },
  {
   "cell_type": "code",
   "execution_count": 48,
   "id": "received-pepper",
   "metadata": {
    "ExecuteTime": {
     "end_time": "2021-07-19T10:02:29.159090Z",
     "start_time": "2021-07-19T10:02:29.134080Z"
    }
   },
   "outputs": [
    {
     "data": {
      "text/html": [
       "<div>\n",
       "<style scoped>\n",
       "    .dataframe tbody tr th:only-of-type {\n",
       "        vertical-align: middle;\n",
       "    }\n",
       "\n",
       "    .dataframe tbody tr th {\n",
       "        vertical-align: top;\n",
       "    }\n",
       "\n",
       "    .dataframe thead th {\n",
       "        text-align: right;\n",
       "    }\n",
       "</style>\n",
       "<table border=\"1\" class=\"dataframe\">\n",
       "  <thead>\n",
       "    <tr style=\"text-align: right;\">\n",
       "      <th></th>\n",
       "      <th>DEPARTMENT</th>\n",
       "      <th>BASE_SALARY</th>\n",
       "    </tr>\n",
       "    <tr>\n",
       "      <th>RACE</th>\n",
       "      <th></th>\n",
       "      <th></th>\n",
       "    </tr>\n",
       "  </thead>\n",
       "  <tbody>\n",
       "    <tr>\n",
       "      <th>White</th>\n",
       "      <td>Admn. &amp; Regulatory Affairs</td>\n",
       "      <td>140416.0</td>\n",
       "    </tr>\n",
       "    <tr>\n",
       "      <th>Hispanic/Latino</th>\n",
       "      <td>City Controller's Office</td>\n",
       "      <td>64251.0</td>\n",
       "    </tr>\n",
       "    <tr>\n",
       "      <th>Black or African American</th>\n",
       "      <td>City Council</td>\n",
       "      <td>100000.0</td>\n",
       "    </tr>\n",
       "    <tr>\n",
       "      <th>Hispanic/Latino</th>\n",
       "      <td>Convention and Entertainment</td>\n",
       "      <td>38397.0</td>\n",
       "    </tr>\n",
       "    <tr>\n",
       "      <th>Black or African American</th>\n",
       "      <td>Dept of Neighborhoods (DON)</td>\n",
       "      <td>89221.0</td>\n",
       "    </tr>\n",
       "  </tbody>\n",
       "</table>\n",
       "</div>"
      ],
      "text/plain": [
       "                                             DEPARTMENT  BASE_SALARY\n",
       "RACE                                                                \n",
       "White                        Admn. & Regulatory Affairs     140416.0\n",
       "Hispanic/Latino                City Controller's Office      64251.0\n",
       "Black or African American                  City Council     100000.0\n",
       "Hispanic/Latino            Convention and Entertainment      38397.0\n",
       "Black or African American   Dept of Neighborhoods (DON)      89221.0"
      ]
     },
     "execution_count": 48,
     "metadata": {},
     "output_type": "execute_result"
    }
   ],
   "source": [
    "max_dept_sal = dept_sal.drop_duplicates(subset='DEPARTMENT')\n",
    "max_dept_sal.head()"
   ]
  },
  {
   "cell_type": "code",
   "execution_count": 49,
   "id": "enabling-category",
   "metadata": {
    "ExecuteTime": {
     "end_time": "2021-07-19T10:02:31.183015Z",
     "start_time": "2021-07-19T10:02:31.163973Z"
    }
   },
   "outputs": [],
   "source": [
    "# For appending, we need same indexes (REMEMBER: indexes are the first thing that is checked) como SQL\n",
    "max_dept_sal = max_dept_sal.set_index('DEPARTMENT')\n",
    "employee = employee.set_index('DEPARTMENT')"
   ]
  },
  {
   "cell_type": "code",
   "execution_count": 63,
   "id": "comic-species",
   "metadata": {
    "ExecuteTime": {
     "end_time": "2021-07-19T10:04:21.688383Z",
     "start_time": "2021-07-19T10:04:21.666389Z"
    }
   },
   "outputs": [
    {
     "data": {
      "text/html": [
       "<div>\n",
       "<style scoped>\n",
       "    .dataframe tbody tr th:only-of-type {\n",
       "        vertical-align: middle;\n",
       "    }\n",
       "\n",
       "    .dataframe tbody tr th {\n",
       "        vertical-align: top;\n",
       "    }\n",
       "\n",
       "    .dataframe thead th {\n",
       "        text-align: right;\n",
       "    }\n",
       "</style>\n",
       "<table border=\"1\" class=\"dataframe\">\n",
       "  <thead>\n",
       "    <tr style=\"text-align: right;\">\n",
       "      <th></th>\n",
       "      <th>BASE_SALARY</th>\n",
       "    </tr>\n",
       "    <tr>\n",
       "      <th>DEPARTMENT</th>\n",
       "      <th></th>\n",
       "    </tr>\n",
       "  </thead>\n",
       "  <tbody>\n",
       "    <tr>\n",
       "      <th>Admn. &amp; Regulatory Affairs</th>\n",
       "      <td>140416.0</td>\n",
       "    </tr>\n",
       "    <tr>\n",
       "      <th>City Controller's Office</th>\n",
       "      <td>64251.0</td>\n",
       "    </tr>\n",
       "    <tr>\n",
       "      <th>City Council</th>\n",
       "      <td>100000.0</td>\n",
       "    </tr>\n",
       "    <tr>\n",
       "      <th>Convention and Entertainment</th>\n",
       "      <td>38397.0</td>\n",
       "    </tr>\n",
       "    <tr>\n",
       "      <th>Dept of Neighborhoods (DON)</th>\n",
       "      <td>89221.0</td>\n",
       "    </tr>\n",
       "  </tbody>\n",
       "</table>\n",
       "</div>"
      ],
      "text/plain": [
       "                              BASE_SALARY\n",
       "DEPARTMENT                               \n",
       "Admn. & Regulatory Affairs       140416.0\n",
       "City Controller's Office          64251.0\n",
       "City Council                     100000.0\n",
       "Convention and Entertainment      38397.0\n",
       "Dept of Neighborhoods (DON)       89221.0"
      ]
     },
     "execution_count": 63,
     "metadata": {},
     "output_type": "execute_result"
    }
   ],
   "source": [
    "max_dept_sal.head()"
   ]
  },
  {
   "cell_type": "code",
   "execution_count": 55,
   "id": "czech-command",
   "metadata": {
    "ExecuteTime": {
     "end_time": "2021-07-19T10:03:11.173720Z",
     "start_time": "2021-07-19T10:03:11.156726Z"
    }
   },
   "outputs": [
    {
     "data": {
      "text/plain": [
       "(24, 1)"
      ]
     },
     "execution_count": 55,
     "metadata": {},
     "output_type": "execute_result"
    }
   ],
   "source": [
    "max_dept_sal.shape"
   ]
  },
  {
   "cell_type": "code",
   "execution_count": 64,
   "id": "signed-rotation",
   "metadata": {
    "ExecuteTime": {
     "end_time": "2021-07-19T10:04:33.286417Z",
     "start_time": "2021-07-19T10:04:33.261391Z"
    }
   },
   "outputs": [
    {
     "data": {
      "text/html": [
       "<div>\n",
       "<style scoped>\n",
       "    .dataframe tbody tr th:only-of-type {\n",
       "        vertical-align: middle;\n",
       "    }\n",
       "\n",
       "    .dataframe tbody tr th {\n",
       "        vertical-align: top;\n",
       "    }\n",
       "\n",
       "    .dataframe thead th {\n",
       "        text-align: right;\n",
       "    }\n",
       "</style>\n",
       "<table border=\"1\" class=\"dataframe\">\n",
       "  <thead>\n",
       "    <tr style=\"text-align: right;\">\n",
       "      <th></th>\n",
       "      <th>UNIQUE_ID</th>\n",
       "      <th>POSITION_TITLE</th>\n",
       "      <th>BASE_SALARY</th>\n",
       "      <th>EMPLOYMENT_TYPE</th>\n",
       "      <th>GENDER</th>\n",
       "      <th>EMPLOYMENT_STATUS</th>\n",
       "      <th>HIRE_DATE</th>\n",
       "      <th>JOB_DATE</th>\n",
       "      <th>MAX_DEPT_SALARY</th>\n",
       "    </tr>\n",
       "    <tr>\n",
       "      <th>DEPARTMENT</th>\n",
       "      <th></th>\n",
       "      <th></th>\n",
       "      <th></th>\n",
       "      <th></th>\n",
       "      <th></th>\n",
       "      <th></th>\n",
       "      <th></th>\n",
       "      <th></th>\n",
       "      <th></th>\n",
       "    </tr>\n",
       "  </thead>\n",
       "  <tbody>\n",
       "    <tr>\n",
       "      <th>Municipal Courts Department</th>\n",
       "      <td>0</td>\n",
       "      <td>ASSISTANT DIRECTOR (EX LVL)</td>\n",
       "      <td>121862.0</td>\n",
       "      <td>Full Time</td>\n",
       "      <td>Female</td>\n",
       "      <td>Active</td>\n",
       "      <td>2006-06-12</td>\n",
       "      <td>2012-10-13</td>\n",
       "      <td>121862.0</td>\n",
       "    </tr>\n",
       "    <tr>\n",
       "      <th>Library</th>\n",
       "      <td>1</td>\n",
       "      <td>LIBRARY ASSISTANT</td>\n",
       "      <td>26125.0</td>\n",
       "      <td>Full Time</td>\n",
       "      <td>Female</td>\n",
       "      <td>Active</td>\n",
       "      <td>2000-07-19</td>\n",
       "      <td>2010-09-18</td>\n",
       "      <td>107763.0</td>\n",
       "    </tr>\n",
       "    <tr>\n",
       "      <th>Houston Police Department-HPD</th>\n",
       "      <td>2</td>\n",
       "      <td>POLICE OFFICER</td>\n",
       "      <td>45279.0</td>\n",
       "      <td>Full Time</td>\n",
       "      <td>Male</td>\n",
       "      <td>Active</td>\n",
       "      <td>2015-02-03</td>\n",
       "      <td>2015-02-03</td>\n",
       "      <td>199596.0</td>\n",
       "    </tr>\n",
       "    <tr>\n",
       "      <th>Houston Fire Department (HFD)</th>\n",
       "      <td>3</td>\n",
       "      <td>ENGINEER/OPERATOR</td>\n",
       "      <td>63166.0</td>\n",
       "      <td>Full Time</td>\n",
       "      <td>Male</td>\n",
       "      <td>Active</td>\n",
       "      <td>1982-02-08</td>\n",
       "      <td>1991-05-25</td>\n",
       "      <td>210588.0</td>\n",
       "    </tr>\n",
       "    <tr>\n",
       "      <th>General Services Department</th>\n",
       "      <td>4</td>\n",
       "      <td>ELECTRICIAN</td>\n",
       "      <td>56347.0</td>\n",
       "      <td>Full Time</td>\n",
       "      <td>Male</td>\n",
       "      <td>Active</td>\n",
       "      <td>1989-06-19</td>\n",
       "      <td>1994-10-22</td>\n",
       "      <td>89194.0</td>\n",
       "    </tr>\n",
       "  </tbody>\n",
       "</table>\n",
       "</div>"
      ],
      "text/plain": [
       "                               UNIQUE_ID               POSITION_TITLE  \\\n",
       "DEPARTMENT                                                              \n",
       "Municipal Courts Department            0  ASSISTANT DIRECTOR (EX LVL)   \n",
       "Library                                1            LIBRARY ASSISTANT   \n",
       "Houston Police Department-HPD          2               POLICE OFFICER   \n",
       "Houston Fire Department (HFD)          3            ENGINEER/OPERATOR   \n",
       "General Services Department            4                  ELECTRICIAN   \n",
       "\n",
       "                               BASE_SALARY EMPLOYMENT_TYPE  GENDER  \\\n",
       "DEPARTMENT                                                           \n",
       "Municipal Courts Department       121862.0       Full Time  Female   \n",
       "Library                            26125.0       Full Time  Female   \n",
       "Houston Police Department-HPD      45279.0       Full Time    Male   \n",
       "Houston Fire Department (HFD)      63166.0       Full Time    Male   \n",
       "General Services Department        56347.0       Full Time    Male   \n",
       "\n",
       "                              EMPLOYMENT_STATUS   HIRE_DATE    JOB_DATE  \\\n",
       "DEPARTMENT                                                                \n",
       "Municipal Courts Department              Active  2006-06-12  2012-10-13   \n",
       "Library                                  Active  2000-07-19  2010-09-18   \n",
       "Houston Police Department-HPD            Active  2015-02-03  2015-02-03   \n",
       "Houston Fire Department (HFD)            Active  1982-02-08  1991-05-25   \n",
       "General Services Department              Active  1989-06-19  1994-10-22   \n",
       "\n",
       "                               MAX_DEPT_SALARY  \n",
       "DEPARTMENT                                      \n",
       "Municipal Courts Department           121862.0  \n",
       "Library                               107763.0  \n",
       "Houston Police Department-HPD         199596.0  \n",
       "Houston Fire Department (HFD)         210588.0  \n",
       "General Services Department            89194.0  "
      ]
     },
     "execution_count": 64,
     "metadata": {},
     "output_type": "execute_result"
    }
   ],
   "source": [
    "employee.head()"
   ]
  },
  {
   "cell_type": "code",
   "execution_count": 56,
   "id": "common-efficiency",
   "metadata": {
    "ExecuteTime": {
     "end_time": "2021-07-19T10:03:15.928210Z",
     "start_time": "2021-07-19T10:03:15.913211Z"
    }
   },
   "outputs": [
    {
     "data": {
      "text/plain": [
       "(2000, 8)"
      ]
     },
     "execution_count": 56,
     "metadata": {},
     "output_type": "execute_result"
    }
   ],
   "source": [
    "employee.shape"
   ]
  },
  {
   "cell_type": "code",
   "execution_count": 57,
   "id": "reliable-parallel",
   "metadata": {
    "ExecuteTime": {
     "end_time": "2021-07-19T10:03:34.638973Z",
     "start_time": "2021-07-19T10:03:34.616978Z"
    }
   },
   "outputs": [],
   "source": [
    "employee['MAX_DEPT_SALARY'] = max_dept_sal['BASE_SALARY']"
   ]
  },
  {
   "cell_type": "code",
   "execution_count": 62,
   "id": "common-commercial",
   "metadata": {
    "ExecuteTime": {
     "end_time": "2021-07-19T10:03:56.874863Z",
     "start_time": "2021-07-19T10:03:56.859863Z"
    }
   },
   "outputs": [
    {
     "data": {
      "text/plain": [
       "UNIQUE_ID              0\n",
       "POSITION_TITLE         0\n",
       "BASE_SALARY          114\n",
       "EMPLOYMENT_TYPE        0\n",
       "GENDER                 0\n",
       "EMPLOYMENT_STATUS      0\n",
       "HIRE_DATE              0\n",
       "JOB_DATE               3\n",
       "MAX_DEPT_SALARY        0\n",
       "dtype: int64"
      ]
     },
     "execution_count": 62,
     "metadata": {},
     "output_type": "execute_result"
    }
   ],
   "source": [
    "employee.isnull().sum()"
   ]
  },
  {
   "cell_type": "markdown",
   "id": "sudden-compensation",
   "metadata": {},
   "source": [
    "## Highlighting the maximum value from each column"
   ]
  },
  {
   "cell_type": "code",
   "execution_count": 50,
   "id": "extended-consciousness",
   "metadata": {
    "ExecuteTime": {
     "end_time": "2021-03-04T06:46:01.841969Z",
     "start_time": "2021-03-04T06:46:01.784851Z"
    }
   },
   "outputs": [
    {
     "data": {
      "text/html": [
       "<div>\n",
       "<style scoped>\n",
       "    .dataframe tbody tr th:only-of-type {\n",
       "        vertical-align: middle;\n",
       "    }\n",
       "\n",
       "    .dataframe tbody tr th {\n",
       "        vertical-align: top;\n",
       "    }\n",
       "\n",
       "    .dataframe thead th {\n",
       "        text-align: right;\n",
       "    }\n",
       "</style>\n",
       "<table border=\"1\" class=\"dataframe\">\n",
       "  <thead>\n",
       "    <tr style=\"text-align: right;\">\n",
       "      <th></th>\n",
       "      <th>CITY</th>\n",
       "      <th>STABBR</th>\n",
       "      <th>HBCU</th>\n",
       "      <th>MENONLY</th>\n",
       "      <th>WOMENONLY</th>\n",
       "      <th>RELAFFIL</th>\n",
       "      <th>SATVRMID</th>\n",
       "      <th>SATMTMID</th>\n",
       "      <th>DISTANCEONLY</th>\n",
       "      <th>UGDS</th>\n",
       "      <th>...</th>\n",
       "      <th>UGDS_2MOR</th>\n",
       "      <th>UGDS_NRA</th>\n",
       "      <th>UGDS_UNKN</th>\n",
       "      <th>PPTUG_EF</th>\n",
       "      <th>CURROPER</th>\n",
       "      <th>PCTPELL</th>\n",
       "      <th>PCTFLOAN</th>\n",
       "      <th>UG25ABV</th>\n",
       "      <th>MD_EARN_WNE_P10</th>\n",
       "      <th>GRAD_DEBT_MDN_SUPP</th>\n",
       "    </tr>\n",
       "    <tr>\n",
       "      <th>INSTNM</th>\n",
       "      <th></th>\n",
       "      <th></th>\n",
       "      <th></th>\n",
       "      <th></th>\n",
       "      <th></th>\n",
       "      <th></th>\n",
       "      <th></th>\n",
       "      <th></th>\n",
       "      <th></th>\n",
       "      <th></th>\n",
       "      <th></th>\n",
       "      <th></th>\n",
       "      <th></th>\n",
       "      <th></th>\n",
       "      <th></th>\n",
       "      <th></th>\n",
       "      <th></th>\n",
       "      <th></th>\n",
       "      <th></th>\n",
       "      <th></th>\n",
       "      <th></th>\n",
       "    </tr>\n",
       "  </thead>\n",
       "  <tbody>\n",
       "    <tr>\n",
       "      <th>Alabama A &amp; M University</th>\n",
       "      <td>Normal</td>\n",
       "      <td>AL</td>\n",
       "      <td>1.0</td>\n",
       "      <td>0.0</td>\n",
       "      <td>0.0</td>\n",
       "      <td>0</td>\n",
       "      <td>424.0</td>\n",
       "      <td>420.0</td>\n",
       "      <td>0.0</td>\n",
       "      <td>4206.0</td>\n",
       "      <td>...</td>\n",
       "      <td>0.0000</td>\n",
       "      <td>0.0059</td>\n",
       "      <td>0.0138</td>\n",
       "      <td>0.0656</td>\n",
       "      <td>1</td>\n",
       "      <td>0.7356</td>\n",
       "      <td>0.8284</td>\n",
       "      <td>0.1049</td>\n",
       "      <td>30300</td>\n",
       "      <td>33888</td>\n",
       "    </tr>\n",
       "    <tr>\n",
       "      <th>University of Alabama at Birmingham</th>\n",
       "      <td>Birmingham</td>\n",
       "      <td>AL</td>\n",
       "      <td>0.0</td>\n",
       "      <td>0.0</td>\n",
       "      <td>0.0</td>\n",
       "      <td>0</td>\n",
       "      <td>570.0</td>\n",
       "      <td>565.0</td>\n",
       "      <td>0.0</td>\n",
       "      <td>11383.0</td>\n",
       "      <td>...</td>\n",
       "      <td>0.0368</td>\n",
       "      <td>0.0179</td>\n",
       "      <td>0.0100</td>\n",
       "      <td>0.2607</td>\n",
       "      <td>1</td>\n",
       "      <td>0.3460</td>\n",
       "      <td>0.5214</td>\n",
       "      <td>0.2422</td>\n",
       "      <td>39700</td>\n",
       "      <td>21941.5</td>\n",
       "    </tr>\n",
       "  </tbody>\n",
       "</table>\n",
       "<p>2 rows × 26 columns</p>\n",
       "</div>"
      ],
      "text/plain": [
       "                                           CITY STABBR  HBCU  MENONLY  \\\n",
       "INSTNM                                                                  \n",
       "Alabama A & M University                 Normal     AL   1.0      0.0   \n",
       "University of Alabama at Birmingham  Birmingham     AL   0.0      0.0   \n",
       "\n",
       "                                     WOMENONLY  RELAFFIL  SATVRMID  SATMTMID  \\\n",
       "INSTNM                                                                         \n",
       "Alabama A & M University                   0.0         0     424.0     420.0   \n",
       "University of Alabama at Birmingham        0.0         0     570.0     565.0   \n",
       "\n",
       "                                     DISTANCEONLY     UGDS  ...  UGDS_2MOR  \\\n",
       "INSTNM                                                      ...              \n",
       "Alabama A & M University                      0.0   4206.0  ...     0.0000   \n",
       "University of Alabama at Birmingham           0.0  11383.0  ...     0.0368   \n",
       "\n",
       "                                     UGDS_NRA  UGDS_UNKN  PPTUG_EF  CURROPER  \\\n",
       "INSTNM                                                                         \n",
       "Alabama A & M University               0.0059     0.0138    0.0656         1   \n",
       "University of Alabama at Birmingham    0.0179     0.0100    0.2607         1   \n",
       "\n",
       "                                     PCTPELL  PCTFLOAN  UG25ABV  \\\n",
       "INSTNM                                                            \n",
       "Alabama A & M University              0.7356    0.8284   0.1049   \n",
       "University of Alabama at Birmingham   0.3460    0.5214   0.2422   \n",
       "\n",
       "                                     MD_EARN_WNE_P10  GRAD_DEBT_MDN_SUPP  \n",
       "INSTNM                                                                    \n",
       "Alabama A & M University                       30300               33888  \n",
       "University of Alabama at Birmingham            39700             21941.5  \n",
       "\n",
       "[2 rows x 26 columns]"
      ]
     },
     "execution_count": 50,
     "metadata": {},
     "output_type": "execute_result"
    }
   ],
   "source": [
    "college.head(2)"
   ]
  },
  {
   "cell_type": "code",
   "execution_count": 52,
   "id": "seasonal-classic",
   "metadata": {
    "ExecuteTime": {
     "end_time": "2021-03-04T06:46:26.972170Z",
     "start_time": "2021-03-04T06:46:26.946401Z"
    }
   },
   "outputs": [
    {
     "data": {
      "text/plain": [
       "CITY                   object\n",
       "STABBR                 object\n",
       "HBCU                  float64\n",
       "MENONLY               float64\n",
       "WOMENONLY             float64\n",
       "RELAFFIL                int64\n",
       "SATVRMID              float64\n",
       "SATMTMID              float64\n",
       "DISTANCEONLY          float64\n",
       "UGDS                  float64\n",
       "UGDS_WHITE            float64\n",
       "UGDS_BLACK            float64\n",
       "UGDS_HISP             float64\n",
       "UGDS_ASIAN            float64\n",
       "UGDS_AIAN             float64\n",
       "UGDS_NHPI             float64\n",
       "UGDS_2MOR             float64\n",
       "UGDS_NRA              float64\n",
       "UGDS_UNKN             float64\n",
       "PPTUG_EF              float64\n",
       "CURROPER                int64\n",
       "PCTPELL               float64\n",
       "PCTFLOAN              float64\n",
       "UG25ABV               float64\n",
       "MD_EARN_WNE_P10        object\n",
       "GRAD_DEBT_MDN_SUPP     object\n",
       "dtype: object"
      ]
     },
     "execution_count": 52,
     "metadata": {},
     "output_type": "execute_result"
    }
   ],
   "source": [
    "#check the dtypes\n",
    "college.dtypes"
   ]
  },
  {
   "cell_type": "code",
   "execution_count": 61,
   "id": "statistical-defense",
   "metadata": {
    "ExecuteTime": {
     "end_time": "2021-03-04T06:57:34.371637Z",
     "start_time": "2021-03-04T06:57:34.348953Z"
    }
   },
   "outputs": [
    {
     "name": "stdout",
     "output_type": "stream",
     "text": [
      "                                    MD_EARN_WNE_P10\n",
      "INSTNM                                             \n",
      "Alabama A & M University                      30300\n",
      "University of Alabama at Birmingham           39700\n",
      "Amridge University                            40100\n",
      "University of Alabama in Huntsville           45500\n",
      "Alabama State University                      26600\n",
      "                                    GRAD_DEBT_MDN_SUPP\n",
      "INSTNM                                                \n",
      "Alabama A & M University                         33888\n",
      "University of Alabama at Birmingham            21941.5\n",
      "Amridge University                               23370\n",
      "University of Alabama in Huntsville              24097\n",
      "Alabama State University                       33118.5\n"
     ]
    }
   ],
   "source": [
    "#We have two objects. We can't really take a max value out of these.let's take a look at how they are constituted\n",
    "print(college[['MD_EARN_WNE_P10']].head()) #but both of them have numbers...\n",
    "print(college[['GRAD_DEBT_MDN_SUPP']].head())"
   ]
  },
  {
   "cell_type": "code",
   "execution_count": 60,
   "id": "bright-glance",
   "metadata": {
    "ExecuteTime": {
     "end_time": "2021-03-04T06:57:16.567458Z",
     "start_time": "2021-03-04T06:57:16.535173Z"
    }
   },
   "outputs": [
    {
     "name": "stdout",
     "output_type": "stream",
     "text": [
      "                                                      MD_EARN_WNE_P10\n",
      "INSTNM                                                               \n",
      "Sharon Regional Health System School of Nursing     PrivacySuppressed\n",
      "P&A Scholars Beauty School                          PrivacySuppressed\n",
      "Fairview Beauty Academy                             PrivacySuppressed\n",
      "Rabbi Jacob Joseph School                           PrivacySuppressed\n",
      "Acupuncture and Integrative Medicine College-Be...  PrivacySuppressed\n"
     ]
    }
   ],
   "source": [
    "#What is making them objects? we can check with sort_values\n",
    "print(college[['MD_EARN_WNE_P10']].sort_values('MD_EARN_WNE_P10', ascending= False).head())\n",
    "#we have a \"Privacy surpressed\" values. Some universities didn't want to give info. Los culeros. "
   ]
  },
  {
   "cell_type": "code",
   "execution_count": 62,
   "id": "serious-spyware",
   "metadata": {
    "ExecuteTime": {
     "end_time": "2021-03-04T06:58:38.310320Z",
     "start_time": "2021-03-04T06:58:38.274514Z"
    }
   },
   "outputs": [
    {
     "name": "stdout",
     "output_type": "stream",
     "text": [
      "                                   GRAD_DEBT_MDN_SUPP\n",
      "INSTNM                                               \n",
      "Westminster Theological Seminary    PrivacySuppressed\n",
      "Dallas Theological Seminary         PrivacySuppressed\n",
      "Baldwin Beauty School-South Austin  PrivacySuppressed\n",
      "Baylor College of Medicine          PrivacySuppressed\n",
      "Coastal Bend College                PrivacySuppressed\n"
     ]
    }
   ],
   "source": [
    "print(college[['GRAD_DEBT_MDN_SUPP']].sort_values('GRAD_DEBT_MDN_SUPP', ascending= False).head())"
   ]
  },
  {
   "cell_type": "code",
   "execution_count": null,
   "id": "seventh-polls",
   "metadata": {},
   "outputs": [],
   "source": [
    "#But we want those numbers. For that, we can convert the columns to numeric using the pandas function:\n",
    "#----------to_numeric()---------(for viceversa, numeric to object/string, use )"
   ]
  },
  {
   "cell_type": "code",
   "execution_count": 77,
   "id": "green-territory",
   "metadata": {
    "ExecuteTime": {
     "end_time": "2021-03-04T07:20:02.897859Z",
     "start_time": "2021-03-04T07:20:02.859514Z"
    }
   },
   "outputs": [],
   "source": [
    "cols = ['MD_EARN_WNE_P10', 'GRAD_DEBT_MDN_SUPP']\n",
    "for col in cols:\n",
    "    college[col] = pd.to_numeric(college[col], errors='coerce')"
   ]
  },
  {
   "cell_type": "markdown",
   "id": "attractive-glenn",
   "metadata": {
    "ExecuteTime": {
     "end_time": "2021-03-04T07:20:09.839451Z",
     "start_time": "2021-03-04T07:20:09.831503Z"
    }
   },
   "source": [
    "```Nota = astype convierte al tipo de dato que queremos, aquellos valores que se puedan\n",
    "pero si encuentra un nan o otro tipo de dato que no puede ser convertido, tira error. EN CAMBIO p.to_numeric NOS DA OPCION DE HACER ALGO CON ESOS ERRORES```"
   ]
  },
  {
   "cell_type": "code",
   "execution_count": 79,
   "id": "smart-pastor",
   "metadata": {
    "ExecuteTime": {
     "end_time": "2021-03-04T07:20:43.427824Z",
     "start_time": "2021-03-04T07:20:43.408920Z"
    },
    "scrolled": true
   },
   "outputs": [
    {
     "data": {
      "text/plain": [
       "CITY                   object\n",
       "STABBR                 object\n",
       "HBCU                  float64\n",
       "MENONLY               float64\n",
       "WOMENONLY             float64\n",
       "RELAFFIL                int64\n",
       "SATVRMID              float64\n",
       "SATMTMID              float64\n",
       "DISTANCEONLY          float64\n",
       "UGDS                  float64\n",
       "UGDS_WHITE            float64\n",
       "UGDS_BLACK            float64\n",
       "UGDS_HISP             float64\n",
       "UGDS_ASIAN            float64\n",
       "UGDS_AIAN             float64\n",
       "UGDS_NHPI             float64\n",
       "UGDS_2MOR             float64\n",
       "UGDS_NRA              float64\n",
       "UGDS_UNKN             float64\n",
       "PPTUG_EF              float64\n",
       "CURROPER                int64\n",
       "PCTPELL               float64\n",
       "PCTFLOAN              float64\n",
       "UG25ABV               float64\n",
       "MD_EARN_WNE_P10       float64\n",
       "GRAD_DEBT_MDN_SUPP    float64\n",
       "dtype: object"
      ]
     },
     "execution_count": 79,
     "metadata": {},
     "output_type": "execute_result"
    }
   ],
   "source": [
    "college.dtypes. #check to make sure they were converted"
   ]
  },
  {
   "cell_type": "code",
   "execution_count": 66,
   "id": "automotive-cambodia",
   "metadata": {
    "ExecuteTime": {
     "end_time": "2021-07-19T10:14:31.833020Z",
     "start_time": "2021-07-19T10:14:31.789042Z"
    }
   },
   "outputs": [
    {
     "data": {
      "text/html": [
       "<div>\n",
       "<style scoped>\n",
       "    .dataframe tbody tr th:only-of-type {\n",
       "        vertical-align: middle;\n",
       "    }\n",
       "\n",
       "    .dataframe tbody tr th {\n",
       "        vertical-align: top;\n",
       "    }\n",
       "\n",
       "    .dataframe thead th {\n",
       "        text-align: right;\n",
       "    }\n",
       "</style>\n",
       "<table border=\"1\" class=\"dataframe\">\n",
       "  <thead>\n",
       "    <tr style=\"text-align: right;\">\n",
       "      <th>wow</th>\n",
       "      <th>HBCU</th>\n",
       "      <th>MENONLY</th>\n",
       "      <th>WOMENONLY</th>\n",
       "      <th>RELAFFIL</th>\n",
       "      <th>SATVRMID</th>\n",
       "      <th>SATMTMID</th>\n",
       "      <th>DISTANCEONLY</th>\n",
       "      <th>UGDS</th>\n",
       "      <th>UGDS_WHITE</th>\n",
       "      <th>UGDS_BLACK</th>\n",
       "      <th>...</th>\n",
       "      <th>UGDS_AIAN</th>\n",
       "      <th>UGDS_NHPI</th>\n",
       "      <th>UGDS_2MOR</th>\n",
       "      <th>UGDS_NRA</th>\n",
       "      <th>UGDS_UNKN</th>\n",
       "      <th>PPTUG_EF</th>\n",
       "      <th>CURROPER</th>\n",
       "      <th>PCTPELL</th>\n",
       "      <th>PCTFLOAN</th>\n",
       "      <th>UG25ABV</th>\n",
       "    </tr>\n",
       "  </thead>\n",
       "  <tbody>\n",
       "    <tr>\n",
       "      <th>0</th>\n",
       "      <td>1.0</td>\n",
       "      <td>0.0</td>\n",
       "      <td>0.0</td>\n",
       "      <td>0</td>\n",
       "      <td>424.0</td>\n",
       "      <td>420.0</td>\n",
       "      <td>0.0</td>\n",
       "      <td>4206.0</td>\n",
       "      <td>0.0333</td>\n",
       "      <td>0.9353</td>\n",
       "      <td>...</td>\n",
       "      <td>0.0024</td>\n",
       "      <td>0.0019</td>\n",
       "      <td>0.0000</td>\n",
       "      <td>0.0059</td>\n",
       "      <td>0.0138</td>\n",
       "      <td>0.0656</td>\n",
       "      <td>1</td>\n",
       "      <td>0.7356</td>\n",
       "      <td>0.8284</td>\n",
       "      <td>0.1049</td>\n",
       "    </tr>\n",
       "    <tr>\n",
       "      <th>1</th>\n",
       "      <td>0.0</td>\n",
       "      <td>0.0</td>\n",
       "      <td>0.0</td>\n",
       "      <td>0</td>\n",
       "      <td>570.0</td>\n",
       "      <td>565.0</td>\n",
       "      <td>0.0</td>\n",
       "      <td>11383.0</td>\n",
       "      <td>0.5922</td>\n",
       "      <td>0.2600</td>\n",
       "      <td>...</td>\n",
       "      <td>0.0022</td>\n",
       "      <td>0.0007</td>\n",
       "      <td>0.0368</td>\n",
       "      <td>0.0179</td>\n",
       "      <td>0.0100</td>\n",
       "      <td>0.2607</td>\n",
       "      <td>1</td>\n",
       "      <td>0.3460</td>\n",
       "      <td>0.5214</td>\n",
       "      <td>0.2422</td>\n",
       "    </tr>\n",
       "    <tr>\n",
       "      <th>2</th>\n",
       "      <td>0.0</td>\n",
       "      <td>0.0</td>\n",
       "      <td>0.0</td>\n",
       "      <td>1</td>\n",
       "      <td>NaN</td>\n",
       "      <td>NaN</td>\n",
       "      <td>1.0</td>\n",
       "      <td>291.0</td>\n",
       "      <td>0.2990</td>\n",
       "      <td>0.4192</td>\n",
       "      <td>...</td>\n",
       "      <td>0.0000</td>\n",
       "      <td>0.0000</td>\n",
       "      <td>0.0000</td>\n",
       "      <td>0.0000</td>\n",
       "      <td>0.2715</td>\n",
       "      <td>0.4536</td>\n",
       "      <td>1</td>\n",
       "      <td>0.6801</td>\n",
       "      <td>0.7795</td>\n",
       "      <td>0.8540</td>\n",
       "    </tr>\n",
       "    <tr>\n",
       "      <th>3</th>\n",
       "      <td>0.0</td>\n",
       "      <td>0.0</td>\n",
       "      <td>0.0</td>\n",
       "      <td>0</td>\n",
       "      <td>595.0</td>\n",
       "      <td>590.0</td>\n",
       "      <td>0.0</td>\n",
       "      <td>5451.0</td>\n",
       "      <td>0.6988</td>\n",
       "      <td>0.1255</td>\n",
       "      <td>...</td>\n",
       "      <td>0.0143</td>\n",
       "      <td>0.0002</td>\n",
       "      <td>0.0172</td>\n",
       "      <td>0.0332</td>\n",
       "      <td>0.0350</td>\n",
       "      <td>0.2146</td>\n",
       "      <td>1</td>\n",
       "      <td>0.3072</td>\n",
       "      <td>0.4596</td>\n",
       "      <td>0.2640</td>\n",
       "    </tr>\n",
       "    <tr>\n",
       "      <th>4</th>\n",
       "      <td>1.0</td>\n",
       "      <td>0.0</td>\n",
       "      <td>0.0</td>\n",
       "      <td>0</td>\n",
       "      <td>425.0</td>\n",
       "      <td>430.0</td>\n",
       "      <td>0.0</td>\n",
       "      <td>4811.0</td>\n",
       "      <td>0.0158</td>\n",
       "      <td>0.9208</td>\n",
       "      <td>...</td>\n",
       "      <td>0.0010</td>\n",
       "      <td>0.0006</td>\n",
       "      <td>0.0098</td>\n",
       "      <td>0.0243</td>\n",
       "      <td>0.0137</td>\n",
       "      <td>0.0892</td>\n",
       "      <td>1</td>\n",
       "      <td>0.7347</td>\n",
       "      <td>0.7554</td>\n",
       "      <td>0.1270</td>\n",
       "    </tr>\n",
       "  </tbody>\n",
       "</table>\n",
       "<p>5 rows × 22 columns</p>\n",
       "</div>"
      ],
      "text/plain": [
       "wow  HBCU  MENONLY  WOMENONLY  RELAFFIL  SATVRMID  SATMTMID  DISTANCEONLY  \\\n",
       "0     1.0      0.0        0.0         0     424.0     420.0           0.0   \n",
       "1     0.0      0.0        0.0         0     570.0     565.0           0.0   \n",
       "2     0.0      0.0        0.0         1       NaN       NaN           1.0   \n",
       "3     0.0      0.0        0.0         0     595.0     590.0           0.0   \n",
       "4     1.0      0.0        0.0         0     425.0     430.0           0.0   \n",
       "\n",
       "wow     UGDS  UGDS_WHITE  UGDS_BLACK  ...  UGDS_AIAN  UGDS_NHPI  UGDS_2MOR  \\\n",
       "0     4206.0      0.0333      0.9353  ...     0.0024     0.0019     0.0000   \n",
       "1    11383.0      0.5922      0.2600  ...     0.0022     0.0007     0.0368   \n",
       "2      291.0      0.2990      0.4192  ...     0.0000     0.0000     0.0000   \n",
       "3     5451.0      0.6988      0.1255  ...     0.0143     0.0002     0.0172   \n",
       "4     4811.0      0.0158      0.9208  ...     0.0010     0.0006     0.0098   \n",
       "\n",
       "wow  UGDS_NRA  UGDS_UNKN  PPTUG_EF  CURROPER  PCTPELL  PCTFLOAN  UG25ABV  \n",
       "0      0.0059     0.0138    0.0656         1   0.7356    0.8284   0.1049  \n",
       "1      0.0179     0.0100    0.2607         1   0.3460    0.5214   0.2422  \n",
       "2      0.0000     0.2715    0.4536         1   0.6801    0.7795   0.8540  \n",
       "3      0.0332     0.0350    0.2146         1   0.3072    0.4596   0.2640  \n",
       "4      0.0243     0.0137    0.0892         1   0.7347    0.7554   0.1270  \n",
       "\n",
       "[5 rows x 22 columns]"
      ]
     },
     "execution_count": 66,
     "metadata": {},
     "output_type": "execute_result"
    }
   ],
   "source": [
    "#Use the select_dtypes method to filter for only numeric columns.\n",
    "college_n = college.select_dtypes(include=[np.number])\n",
    "college_n.head()"
   ]
  },
  {
   "cell_type": "markdown",
   "id": "single-copyright",
   "metadata": {
    "ExecuteTime": {
     "end_time": "2021-03-04T07:25:24.760043Z",
     "start_time": "2021-03-04T07:25:24.692998Z"
    }
   },
   "source": [
    "```By utilizing the data dictionary, there are several columns that have only binary\n",
    "(0/1) values that will not provide useful information.```\n",
    "\n",
    "```To programmatically find these columns, we can create boolean Series and find all the columns that have\n",
    "two unique values with the ***nunique*** method:```"
   ]
  },
  {
   "cell_type": "code",
   "execution_count": 67,
   "id": "charitable-calendar",
   "metadata": {
    "ExecuteTime": {
     "end_time": "2021-07-19T10:14:35.522712Z",
     "start_time": "2021-07-19T10:14:35.482708Z"
    }
   },
   "outputs": [
    {
     "data": {
      "text/plain": [
       "wow\n",
       "HBCU             True\n",
       "MENONLY          True\n",
       "WOMENONLY        True\n",
       "RELAFFIL         True\n",
       "SATVRMID        False\n",
       "SATMTMID        False\n",
       "DISTANCEONLY     True\n",
       "UGDS            False\n",
       "UGDS_WHITE      False\n",
       "UGDS_BLACK      False\n",
       "UGDS_HISP       False\n",
       "UGDS_ASIAN      False\n",
       "UGDS_AIAN       False\n",
       "UGDS_NHPI       False\n",
       "UGDS_2MOR       False\n",
       "UGDS_NRA        False\n",
       "UGDS_UNKN       False\n",
       "PPTUG_EF        False\n",
       "CURROPER         True\n",
       "PCTPELL         False\n",
       "PCTFLOAN        False\n",
       "UG25ABV         False\n",
       "dtype: bool"
      ]
     },
     "execution_count": 67,
     "metadata": {},
     "output_type": "execute_result"
    }
   ],
   "source": [
    "criteria = college_n.nunique() == 2 #find collumns with only two unique values (wich is )\n",
    "criteria #this generates a Series"
   ]
  },
  {
   "cell_type": "code",
   "execution_count": 68,
   "id": "general-float",
   "metadata": {
    "ExecuteTime": {
     "end_time": "2021-07-19T10:14:44.391582Z",
     "start_time": "2021-07-19T10:14:44.370553Z"
    }
   },
   "outputs": [
    {
     "data": {
      "text/plain": [
       "Index(['HBCU', 'MENONLY', 'WOMENONLY', 'RELAFFIL', 'DISTANCEONLY', 'CURROPER'], dtype='object', name='wow')"
      ]
     },
     "execution_count": 68,
     "metadata": {},
     "output_type": "execute_result"
    }
   ],
   "source": [
    "#Now that we have this criteria to identify the dicothomy variables. \n",
    "#We filter the true values through the college_n and pass them to a list\n",
    "binary_cols = college_n.columns[criteria]\n",
    "binary_cols"
   ]
  },
  {
   "cell_type": "code",
   "execution_count": 69,
   "id": "growing-resistance",
   "metadata": {
    "ExecuteTime": {
     "end_time": "2021-07-19T10:14:52.954168Z",
     "start_time": "2021-07-19T10:14:52.909199Z"
    }
   },
   "outputs": [
    {
     "data": {
      "text/html": [
       "<div>\n",
       "<style scoped>\n",
       "    .dataframe tbody tr th:only-of-type {\n",
       "        vertical-align: middle;\n",
       "    }\n",
       "\n",
       "    .dataframe tbody tr th {\n",
       "        vertical-align: top;\n",
       "    }\n",
       "\n",
       "    .dataframe thead th {\n",
       "        text-align: right;\n",
       "    }\n",
       "</style>\n",
       "<table border=\"1\" class=\"dataframe\">\n",
       "  <thead>\n",
       "    <tr style=\"text-align: right;\">\n",
       "      <th>wow</th>\n",
       "      <th>SATVRMID</th>\n",
       "      <th>SATMTMID</th>\n",
       "      <th>UGDS</th>\n",
       "      <th>UGDS_WHITE</th>\n",
       "      <th>UGDS_BLACK</th>\n",
       "      <th>UGDS_HISP</th>\n",
       "      <th>UGDS_ASIAN</th>\n",
       "      <th>UGDS_AIAN</th>\n",
       "      <th>UGDS_NHPI</th>\n",
       "      <th>UGDS_2MOR</th>\n",
       "      <th>UGDS_NRA</th>\n",
       "      <th>UGDS_UNKN</th>\n",
       "      <th>PPTUG_EF</th>\n",
       "      <th>PCTPELL</th>\n",
       "      <th>PCTFLOAN</th>\n",
       "      <th>UG25ABV</th>\n",
       "    </tr>\n",
       "  </thead>\n",
       "  <tbody>\n",
       "    <tr>\n",
       "      <th>0</th>\n",
       "      <td>424.0</td>\n",
       "      <td>420.0</td>\n",
       "      <td>4206.0</td>\n",
       "      <td>0.0333</td>\n",
       "      <td>0.9353</td>\n",
       "      <td>0.0055</td>\n",
       "      <td>0.0019</td>\n",
       "      <td>0.0024</td>\n",
       "      <td>0.0019</td>\n",
       "      <td>0.0000</td>\n",
       "      <td>0.0059</td>\n",
       "      <td>0.0138</td>\n",
       "      <td>0.0656</td>\n",
       "      <td>0.7356</td>\n",
       "      <td>0.8284</td>\n",
       "      <td>0.1049</td>\n",
       "    </tr>\n",
       "    <tr>\n",
       "      <th>1</th>\n",
       "      <td>570.0</td>\n",
       "      <td>565.0</td>\n",
       "      <td>11383.0</td>\n",
       "      <td>0.5922</td>\n",
       "      <td>0.2600</td>\n",
       "      <td>0.0283</td>\n",
       "      <td>0.0518</td>\n",
       "      <td>0.0022</td>\n",
       "      <td>0.0007</td>\n",
       "      <td>0.0368</td>\n",
       "      <td>0.0179</td>\n",
       "      <td>0.0100</td>\n",
       "      <td>0.2607</td>\n",
       "      <td>0.3460</td>\n",
       "      <td>0.5214</td>\n",
       "      <td>0.2422</td>\n",
       "    </tr>\n",
       "    <tr>\n",
       "      <th>2</th>\n",
       "      <td>NaN</td>\n",
       "      <td>NaN</td>\n",
       "      <td>291.0</td>\n",
       "      <td>0.2990</td>\n",
       "      <td>0.4192</td>\n",
       "      <td>0.0069</td>\n",
       "      <td>0.0034</td>\n",
       "      <td>0.0000</td>\n",
       "      <td>0.0000</td>\n",
       "      <td>0.0000</td>\n",
       "      <td>0.0000</td>\n",
       "      <td>0.2715</td>\n",
       "      <td>0.4536</td>\n",
       "      <td>0.6801</td>\n",
       "      <td>0.7795</td>\n",
       "      <td>0.8540</td>\n",
       "    </tr>\n",
       "    <tr>\n",
       "      <th>3</th>\n",
       "      <td>595.0</td>\n",
       "      <td>590.0</td>\n",
       "      <td>5451.0</td>\n",
       "      <td>0.6988</td>\n",
       "      <td>0.1255</td>\n",
       "      <td>0.0382</td>\n",
       "      <td>0.0376</td>\n",
       "      <td>0.0143</td>\n",
       "      <td>0.0002</td>\n",
       "      <td>0.0172</td>\n",
       "      <td>0.0332</td>\n",
       "      <td>0.0350</td>\n",
       "      <td>0.2146</td>\n",
       "      <td>0.3072</td>\n",
       "      <td>0.4596</td>\n",
       "      <td>0.2640</td>\n",
       "    </tr>\n",
       "    <tr>\n",
       "      <th>4</th>\n",
       "      <td>425.0</td>\n",
       "      <td>430.0</td>\n",
       "      <td>4811.0</td>\n",
       "      <td>0.0158</td>\n",
       "      <td>0.9208</td>\n",
       "      <td>0.0121</td>\n",
       "      <td>0.0019</td>\n",
       "      <td>0.0010</td>\n",
       "      <td>0.0006</td>\n",
       "      <td>0.0098</td>\n",
       "      <td>0.0243</td>\n",
       "      <td>0.0137</td>\n",
       "      <td>0.0892</td>\n",
       "      <td>0.7347</td>\n",
       "      <td>0.7554</td>\n",
       "      <td>0.1270</td>\n",
       "    </tr>\n",
       "    <tr>\n",
       "      <th>...</th>\n",
       "      <td>...</td>\n",
       "      <td>...</td>\n",
       "      <td>...</td>\n",
       "      <td>...</td>\n",
       "      <td>...</td>\n",
       "      <td>...</td>\n",
       "      <td>...</td>\n",
       "      <td>...</td>\n",
       "      <td>...</td>\n",
       "      <td>...</td>\n",
       "      <td>...</td>\n",
       "      <td>...</td>\n",
       "      <td>...</td>\n",
       "      <td>...</td>\n",
       "      <td>...</td>\n",
       "      <td>...</td>\n",
       "    </tr>\n",
       "    <tr>\n",
       "      <th>7530</th>\n",
       "      <td>NaN</td>\n",
       "      <td>NaN</td>\n",
       "      <td>NaN</td>\n",
       "      <td>NaN</td>\n",
       "      <td>NaN</td>\n",
       "      <td>NaN</td>\n",
       "      <td>NaN</td>\n",
       "      <td>NaN</td>\n",
       "      <td>NaN</td>\n",
       "      <td>NaN</td>\n",
       "      <td>NaN</td>\n",
       "      <td>NaN</td>\n",
       "      <td>NaN</td>\n",
       "      <td>NaN</td>\n",
       "      <td>NaN</td>\n",
       "      <td>NaN</td>\n",
       "    </tr>\n",
       "    <tr>\n",
       "      <th>7531</th>\n",
       "      <td>NaN</td>\n",
       "      <td>NaN</td>\n",
       "      <td>NaN</td>\n",
       "      <td>NaN</td>\n",
       "      <td>NaN</td>\n",
       "      <td>NaN</td>\n",
       "      <td>NaN</td>\n",
       "      <td>NaN</td>\n",
       "      <td>NaN</td>\n",
       "      <td>NaN</td>\n",
       "      <td>NaN</td>\n",
       "      <td>NaN</td>\n",
       "      <td>NaN</td>\n",
       "      <td>NaN</td>\n",
       "      <td>NaN</td>\n",
       "      <td>NaN</td>\n",
       "    </tr>\n",
       "    <tr>\n",
       "      <th>7532</th>\n",
       "      <td>NaN</td>\n",
       "      <td>NaN</td>\n",
       "      <td>NaN</td>\n",
       "      <td>NaN</td>\n",
       "      <td>NaN</td>\n",
       "      <td>NaN</td>\n",
       "      <td>NaN</td>\n",
       "      <td>NaN</td>\n",
       "      <td>NaN</td>\n",
       "      <td>NaN</td>\n",
       "      <td>NaN</td>\n",
       "      <td>NaN</td>\n",
       "      <td>NaN</td>\n",
       "      <td>NaN</td>\n",
       "      <td>NaN</td>\n",
       "      <td>NaN</td>\n",
       "    </tr>\n",
       "    <tr>\n",
       "      <th>7533</th>\n",
       "      <td>NaN</td>\n",
       "      <td>NaN</td>\n",
       "      <td>NaN</td>\n",
       "      <td>NaN</td>\n",
       "      <td>NaN</td>\n",
       "      <td>NaN</td>\n",
       "      <td>NaN</td>\n",
       "      <td>NaN</td>\n",
       "      <td>NaN</td>\n",
       "      <td>NaN</td>\n",
       "      <td>NaN</td>\n",
       "      <td>NaN</td>\n",
       "      <td>NaN</td>\n",
       "      <td>NaN</td>\n",
       "      <td>NaN</td>\n",
       "      <td>NaN</td>\n",
       "    </tr>\n",
       "    <tr>\n",
       "      <th>7534</th>\n",
       "      <td>NaN</td>\n",
       "      <td>NaN</td>\n",
       "      <td>NaN</td>\n",
       "      <td>NaN</td>\n",
       "      <td>NaN</td>\n",
       "      <td>NaN</td>\n",
       "      <td>NaN</td>\n",
       "      <td>NaN</td>\n",
       "      <td>NaN</td>\n",
       "      <td>NaN</td>\n",
       "      <td>NaN</td>\n",
       "      <td>NaN</td>\n",
       "      <td>NaN</td>\n",
       "      <td>NaN</td>\n",
       "      <td>NaN</td>\n",
       "      <td>NaN</td>\n",
       "    </tr>\n",
       "  </tbody>\n",
       "</table>\n",
       "<p>7535 rows × 16 columns</p>\n",
       "</div>"
      ],
      "text/plain": [
       "wow   SATVRMID  SATMTMID     UGDS  UGDS_WHITE  UGDS_BLACK  UGDS_HISP  \\\n",
       "0        424.0     420.0   4206.0      0.0333      0.9353     0.0055   \n",
       "1        570.0     565.0  11383.0      0.5922      0.2600     0.0283   \n",
       "2          NaN       NaN    291.0      0.2990      0.4192     0.0069   \n",
       "3        595.0     590.0   5451.0      0.6988      0.1255     0.0382   \n",
       "4        425.0     430.0   4811.0      0.0158      0.9208     0.0121   \n",
       "...        ...       ...      ...         ...         ...        ...   \n",
       "7530       NaN       NaN      NaN         NaN         NaN        NaN   \n",
       "7531       NaN       NaN      NaN         NaN         NaN        NaN   \n",
       "7532       NaN       NaN      NaN         NaN         NaN        NaN   \n",
       "7533       NaN       NaN      NaN         NaN         NaN        NaN   \n",
       "7534       NaN       NaN      NaN         NaN         NaN        NaN   \n",
       "\n",
       "wow   UGDS_ASIAN  UGDS_AIAN  UGDS_NHPI  UGDS_2MOR  UGDS_NRA  UGDS_UNKN  \\\n",
       "0         0.0019     0.0024     0.0019     0.0000    0.0059     0.0138   \n",
       "1         0.0518     0.0022     0.0007     0.0368    0.0179     0.0100   \n",
       "2         0.0034     0.0000     0.0000     0.0000    0.0000     0.2715   \n",
       "3         0.0376     0.0143     0.0002     0.0172    0.0332     0.0350   \n",
       "4         0.0019     0.0010     0.0006     0.0098    0.0243     0.0137   \n",
       "...          ...        ...        ...        ...       ...        ...   \n",
       "7530         NaN        NaN        NaN        NaN       NaN        NaN   \n",
       "7531         NaN        NaN        NaN        NaN       NaN        NaN   \n",
       "7532         NaN        NaN        NaN        NaN       NaN        NaN   \n",
       "7533         NaN        NaN        NaN        NaN       NaN        NaN   \n",
       "7534         NaN        NaN        NaN        NaN       NaN        NaN   \n",
       "\n",
       "wow   PPTUG_EF  PCTPELL  PCTFLOAN  UG25ABV  \n",
       "0       0.0656   0.7356    0.8284   0.1049  \n",
       "1       0.2607   0.3460    0.5214   0.2422  \n",
       "2       0.4536   0.6801    0.7795   0.8540  \n",
       "3       0.2146   0.3072    0.4596   0.2640  \n",
       "4       0.0892   0.7347    0.7554   0.1270  \n",
       "...        ...      ...       ...      ...  \n",
       "7530       NaN      NaN       NaN      NaN  \n",
       "7531       NaN      NaN       NaN      NaN  \n",
       "7532       NaN      NaN       NaN      NaN  \n",
       "7533       NaN      NaN       NaN      NaN  \n",
       "7534       NaN      NaN       NaN      NaN  \n",
       "\n",
       "[7535 rows x 16 columns]"
      ]
     },
     "execution_count": 69,
     "metadata": {},
     "output_type": "execute_result"
    }
   ],
   "source": [
    "#For droping this values, we just pass this list as the condition for the DROP statement\n",
    "college_n2 = college_n.drop(labels = binary_cols, axis= 'columns')\n",
    "college_n2"
   ]
  },
  {
   "cell_type": "code",
   "execution_count": 97,
   "id": "plastic-division",
   "metadata": {
    "ExecuteTime": {
     "end_time": "2021-03-04T07:41:05.324094Z",
     "start_time": "2021-03-04T07:41:05.299648Z"
    }
   },
   "outputs": [
    {
     "data": {
      "text/plain": [
       "SATVRMID                             California Institute of Technology\n",
       "SATMTMID                             California Institute of Technology\n",
       "UGDS                                      University of Phoenix-Arizona\n",
       "UGDS_WHITE                       Mr Leon's School of Hair Design-Moscow\n",
       "UGDS_BLACK                           Velvatex College of Beauty Culture\n",
       "UGDS_HISP                       Thunderbird School of Global Management\n",
       "UGDS_ASIAN                          Cosmopolitan Beauty and Tech School\n",
       "UGDS_AIAN                             Haskell Indian Nations University\n",
       "UGDS_NHPI                                       Palau Community College\n",
       "UGDS_2MOR                                                 LIU Brentwood\n",
       "UGDS_NRA               California University of Management and Sciences\n",
       "UGDS_UNKN             Le Cordon Bleu College of Culinary Arts-San Fr...\n",
       "PPTUG_EF                        Thunderbird School of Global Management\n",
       "PCTPELL                                        MTI Business College Inc\n",
       "PCTFLOAN                                         ABC Beauty College Inc\n",
       "UG25ABV                                  Dongguk University-Los Angeles\n",
       "MD_EARN_WNE_P10                            Medical College of Wisconsin\n",
       "GRAD_DEBT_MDN_SUPP           Southwest University of Visual Arts-Tucson\n",
       "dtype: object"
      ]
     },
     "execution_count": 97,
     "metadata": {},
     "output_type": "execute_result"
    }
   ],
   "source": [
    "#Use the idxmax method to find the index label of the maximum value for each column:\n",
    "max_cols = college_n2.idxmax()\n",
    "max_cols"
   ]
  },
  {
   "cell_type": "code",
   "execution_count": 98,
   "id": "transsexual-grave",
   "metadata": {
    "ExecuteTime": {
     "end_time": "2021-03-04T07:41:36.146450Z",
     "start_time": "2021-03-04T07:41:36.131768Z"
    }
   },
   "outputs": [
    {
     "data": {
      "text/plain": [
       "array(['California Institute of Technology',\n",
       "       'University of Phoenix-Arizona',\n",
       "       \"Mr Leon's School of Hair Design-Moscow\",\n",
       "       'Velvatex College of Beauty Culture',\n",
       "       'Thunderbird School of Global Management'], dtype=object)"
      ]
     },
     "execution_count": 98,
     "metadata": {},
     "output_type": "execute_result"
    }
   ],
   "source": [
    "#Call the unique method on the max_cols Series. This returns an ndarray of the unique column names:\n",
    "unique_max_cols = max_cols.unique()\n",
    "unique_max_cols[:5] #solo visualizar cuales pueden ser"
   ]
  },
  {
   "cell_type": "code",
   "execution_count": 99,
   "id": "dominican-miracle",
   "metadata": {
    "ExecuteTime": {
     "end_time": "2021-03-04T07:41:52.904488Z",
     "start_time": "2021-03-04T07:41:52.794013Z"
    }
   },
   "outputs": [
    {
     "data": {
      "text/html": [
       "<style  type=\"text/css\" >\n",
       "#T_163ae098_7cbd_11eb_8109_4ccc6addfe54row0_col0,#T_163ae098_7cbd_11eb_8109_4ccc6addfe54row0_col1,#T_163ae098_7cbd_11eb_8109_4ccc6addfe54row1_col2,#T_163ae098_7cbd_11eb_8109_4ccc6addfe54row2_col3,#T_163ae098_7cbd_11eb_8109_4ccc6addfe54row3_col4,#T_163ae098_7cbd_11eb_8109_4ccc6addfe54row4_col5,#T_163ae098_7cbd_11eb_8109_4ccc6addfe54row4_col12,#T_163ae098_7cbd_11eb_8109_4ccc6addfe54row5_col6,#T_163ae098_7cbd_11eb_8109_4ccc6addfe54row6_col7,#T_163ae098_7cbd_11eb_8109_4ccc6addfe54row7_col8,#T_163ae098_7cbd_11eb_8109_4ccc6addfe54row8_col9,#T_163ae098_7cbd_11eb_8109_4ccc6addfe54row9_col10,#T_163ae098_7cbd_11eb_8109_4ccc6addfe54row10_col11,#T_163ae098_7cbd_11eb_8109_4ccc6addfe54row11_col13,#T_163ae098_7cbd_11eb_8109_4ccc6addfe54row11_col14,#T_163ae098_7cbd_11eb_8109_4ccc6addfe54row12_col14,#T_163ae098_7cbd_11eb_8109_4ccc6addfe54row13_col15,#T_163ae098_7cbd_11eb_8109_4ccc6addfe54row14_col16,#T_163ae098_7cbd_11eb_8109_4ccc6addfe54row15_col17{\n",
       "            background-color:  yellow;\n",
       "        }</style><table id=\"T_163ae098_7cbd_11eb_8109_4ccc6addfe54\" ><thead>    <tr>        <th class=\"blank level0\" ></th>        <th class=\"col_heading level0 col0\" >SATVRMID</th>        <th class=\"col_heading level0 col1\" >SATMTMID</th>        <th class=\"col_heading level0 col2\" >UGDS</th>        <th class=\"col_heading level0 col3\" >UGDS_WHITE</th>        <th class=\"col_heading level0 col4\" >UGDS_BLACK</th>        <th class=\"col_heading level0 col5\" >UGDS_HISP</th>        <th class=\"col_heading level0 col6\" >UGDS_ASIAN</th>        <th class=\"col_heading level0 col7\" >UGDS_AIAN</th>        <th class=\"col_heading level0 col8\" >UGDS_NHPI</th>        <th class=\"col_heading level0 col9\" >UGDS_2MOR</th>        <th class=\"col_heading level0 col10\" >UGDS_NRA</th>        <th class=\"col_heading level0 col11\" >UGDS_UNKN</th>        <th class=\"col_heading level0 col12\" >PPTUG_EF</th>        <th class=\"col_heading level0 col13\" >PCTPELL</th>        <th class=\"col_heading level0 col14\" >PCTFLOAN</th>        <th class=\"col_heading level0 col15\" >UG25ABV</th>        <th class=\"col_heading level0 col16\" >MD_EARN_WNE_P10</th>        <th class=\"col_heading level0 col17\" >GRAD_DEBT_MDN_SUPP</th>    </tr>    <tr>        <th class=\"index_name level0\" >INSTNM</th>        <th class=\"blank\" ></th>        <th class=\"blank\" ></th>        <th class=\"blank\" ></th>        <th class=\"blank\" ></th>        <th class=\"blank\" ></th>        <th class=\"blank\" ></th>        <th class=\"blank\" ></th>        <th class=\"blank\" ></th>        <th class=\"blank\" ></th>        <th class=\"blank\" ></th>        <th class=\"blank\" ></th>        <th class=\"blank\" ></th>        <th class=\"blank\" ></th>        <th class=\"blank\" ></th>        <th class=\"blank\" ></th>        <th class=\"blank\" ></th>        <th class=\"blank\" ></th>        <th class=\"blank\" ></th>    </tr></thead><tbody>\n",
       "                <tr>\n",
       "                        <th id=\"T_163ae098_7cbd_11eb_8109_4ccc6addfe54level0_row0\" class=\"row_heading level0 row0\" >California Institute of Technology</th>\n",
       "                        <td id=\"T_163ae098_7cbd_11eb_8109_4ccc6addfe54row0_col0\" class=\"data row0 col0\" >765.000000</td>\n",
       "                        <td id=\"T_163ae098_7cbd_11eb_8109_4ccc6addfe54row0_col1\" class=\"data row0 col1\" >785.000000</td>\n",
       "                        <td id=\"T_163ae098_7cbd_11eb_8109_4ccc6addfe54row0_col2\" class=\"data row0 col2\" >983.000000</td>\n",
       "                        <td id=\"T_163ae098_7cbd_11eb_8109_4ccc6addfe54row0_col3\" class=\"data row0 col3\" >0.278700</td>\n",
       "                        <td id=\"T_163ae098_7cbd_11eb_8109_4ccc6addfe54row0_col4\" class=\"data row0 col4\" >0.015300</td>\n",
       "                        <td id=\"T_163ae098_7cbd_11eb_8109_4ccc6addfe54row0_col5\" class=\"data row0 col5\" >0.122100</td>\n",
       "                        <td id=\"T_163ae098_7cbd_11eb_8109_4ccc6addfe54row0_col6\" class=\"data row0 col6\" >0.438500</td>\n",
       "                        <td id=\"T_163ae098_7cbd_11eb_8109_4ccc6addfe54row0_col7\" class=\"data row0 col7\" >0.001000</td>\n",
       "                        <td id=\"T_163ae098_7cbd_11eb_8109_4ccc6addfe54row0_col8\" class=\"data row0 col8\" >0.000000</td>\n",
       "                        <td id=\"T_163ae098_7cbd_11eb_8109_4ccc6addfe54row0_col9\" class=\"data row0 col9\" >0.057000</td>\n",
       "                        <td id=\"T_163ae098_7cbd_11eb_8109_4ccc6addfe54row0_col10\" class=\"data row0 col10\" >0.087500</td>\n",
       "                        <td id=\"T_163ae098_7cbd_11eb_8109_4ccc6addfe54row0_col11\" class=\"data row0 col11\" >0.000000</td>\n",
       "                        <td id=\"T_163ae098_7cbd_11eb_8109_4ccc6addfe54row0_col12\" class=\"data row0 col12\" >0.000000</td>\n",
       "                        <td id=\"T_163ae098_7cbd_11eb_8109_4ccc6addfe54row0_col13\" class=\"data row0 col13\" >0.112600</td>\n",
       "                        <td id=\"T_163ae098_7cbd_11eb_8109_4ccc6addfe54row0_col14\" class=\"data row0 col14\" >0.230300</td>\n",
       "                        <td id=\"T_163ae098_7cbd_11eb_8109_4ccc6addfe54row0_col15\" class=\"data row0 col15\" >0.008200</td>\n",
       "                        <td id=\"T_163ae098_7cbd_11eb_8109_4ccc6addfe54row0_col16\" class=\"data row0 col16\" >77800.000000</td>\n",
       "                        <td id=\"T_163ae098_7cbd_11eb_8109_4ccc6addfe54row0_col17\" class=\"data row0 col17\" >11812.500000</td>\n",
       "            </tr>\n",
       "            <tr>\n",
       "                        <th id=\"T_163ae098_7cbd_11eb_8109_4ccc6addfe54level0_row1\" class=\"row_heading level0 row1\" >University of Phoenix-Arizona</th>\n",
       "                        <td id=\"T_163ae098_7cbd_11eb_8109_4ccc6addfe54row1_col0\" class=\"data row1 col0\" >nan</td>\n",
       "                        <td id=\"T_163ae098_7cbd_11eb_8109_4ccc6addfe54row1_col1\" class=\"data row1 col1\" >nan</td>\n",
       "                        <td id=\"T_163ae098_7cbd_11eb_8109_4ccc6addfe54row1_col2\" class=\"data row1 col2\" >151558.000000</td>\n",
       "                        <td id=\"T_163ae098_7cbd_11eb_8109_4ccc6addfe54row1_col3\" class=\"data row1 col3\" >0.309800</td>\n",
       "                        <td id=\"T_163ae098_7cbd_11eb_8109_4ccc6addfe54row1_col4\" class=\"data row1 col4\" >0.155500</td>\n",
       "                        <td id=\"T_163ae098_7cbd_11eb_8109_4ccc6addfe54row1_col5\" class=\"data row1 col5\" >0.076000</td>\n",
       "                        <td id=\"T_163ae098_7cbd_11eb_8109_4ccc6addfe54row1_col6\" class=\"data row1 col6\" >0.008200</td>\n",
       "                        <td id=\"T_163ae098_7cbd_11eb_8109_4ccc6addfe54row1_col7\" class=\"data row1 col7\" >0.004200</td>\n",
       "                        <td id=\"T_163ae098_7cbd_11eb_8109_4ccc6addfe54row1_col8\" class=\"data row1 col8\" >0.005000</td>\n",
       "                        <td id=\"T_163ae098_7cbd_11eb_8109_4ccc6addfe54row1_col9\" class=\"data row1 col9\" >0.113100</td>\n",
       "                        <td id=\"T_163ae098_7cbd_11eb_8109_4ccc6addfe54row1_col10\" class=\"data row1 col10\" >0.013100</td>\n",
       "                        <td id=\"T_163ae098_7cbd_11eb_8109_4ccc6addfe54row1_col11\" class=\"data row1 col11\" >0.315200</td>\n",
       "                        <td id=\"T_163ae098_7cbd_11eb_8109_4ccc6addfe54row1_col12\" class=\"data row1 col12\" >0.000000</td>\n",
       "                        <td id=\"T_163ae098_7cbd_11eb_8109_4ccc6addfe54row1_col13\" class=\"data row1 col13\" >0.600900</td>\n",
       "                        <td id=\"T_163ae098_7cbd_11eb_8109_4ccc6addfe54row1_col14\" class=\"data row1 col14\" >0.592000</td>\n",
       "                        <td id=\"T_163ae098_7cbd_11eb_8109_4ccc6addfe54row1_col15\" class=\"data row1 col15\" >nan</td>\n",
       "                        <td id=\"T_163ae098_7cbd_11eb_8109_4ccc6addfe54row1_col16\" class=\"data row1 col16\" >nan</td>\n",
       "                        <td id=\"T_163ae098_7cbd_11eb_8109_4ccc6addfe54row1_col17\" class=\"data row1 col17\" >33000.000000</td>\n",
       "            </tr>\n",
       "            <tr>\n",
       "                        <th id=\"T_163ae098_7cbd_11eb_8109_4ccc6addfe54level0_row2\" class=\"row_heading level0 row2\" >Mr Leon's School of Hair Design-Moscow</th>\n",
       "                        <td id=\"T_163ae098_7cbd_11eb_8109_4ccc6addfe54row2_col0\" class=\"data row2 col0\" >nan</td>\n",
       "                        <td id=\"T_163ae098_7cbd_11eb_8109_4ccc6addfe54row2_col1\" class=\"data row2 col1\" >nan</td>\n",
       "                        <td id=\"T_163ae098_7cbd_11eb_8109_4ccc6addfe54row2_col2\" class=\"data row2 col2\" >16.000000</td>\n",
       "                        <td id=\"T_163ae098_7cbd_11eb_8109_4ccc6addfe54row2_col3\" class=\"data row2 col3\" >1.000000</td>\n",
       "                        <td id=\"T_163ae098_7cbd_11eb_8109_4ccc6addfe54row2_col4\" class=\"data row2 col4\" >0.000000</td>\n",
       "                        <td id=\"T_163ae098_7cbd_11eb_8109_4ccc6addfe54row2_col5\" class=\"data row2 col5\" >0.000000</td>\n",
       "                        <td id=\"T_163ae098_7cbd_11eb_8109_4ccc6addfe54row2_col6\" class=\"data row2 col6\" >0.000000</td>\n",
       "                        <td id=\"T_163ae098_7cbd_11eb_8109_4ccc6addfe54row2_col7\" class=\"data row2 col7\" >0.000000</td>\n",
       "                        <td id=\"T_163ae098_7cbd_11eb_8109_4ccc6addfe54row2_col8\" class=\"data row2 col8\" >0.000000</td>\n",
       "                        <td id=\"T_163ae098_7cbd_11eb_8109_4ccc6addfe54row2_col9\" class=\"data row2 col9\" >0.000000</td>\n",
       "                        <td id=\"T_163ae098_7cbd_11eb_8109_4ccc6addfe54row2_col10\" class=\"data row2 col10\" >0.000000</td>\n",
       "                        <td id=\"T_163ae098_7cbd_11eb_8109_4ccc6addfe54row2_col11\" class=\"data row2 col11\" >0.000000</td>\n",
       "                        <td id=\"T_163ae098_7cbd_11eb_8109_4ccc6addfe54row2_col12\" class=\"data row2 col12\" >0.000000</td>\n",
       "                        <td id=\"T_163ae098_7cbd_11eb_8109_4ccc6addfe54row2_col13\" class=\"data row2 col13\" >0.625000</td>\n",
       "                        <td id=\"T_163ae098_7cbd_11eb_8109_4ccc6addfe54row2_col14\" class=\"data row2 col14\" >0.625000</td>\n",
       "                        <td id=\"T_163ae098_7cbd_11eb_8109_4ccc6addfe54row2_col15\" class=\"data row2 col15\" >0.200000</td>\n",
       "                        <td id=\"T_163ae098_7cbd_11eb_8109_4ccc6addfe54row2_col16\" class=\"data row2 col16\" >nan</td>\n",
       "                        <td id=\"T_163ae098_7cbd_11eb_8109_4ccc6addfe54row2_col17\" class=\"data row2 col17\" >15710.000000</td>\n",
       "            </tr>\n",
       "            <tr>\n",
       "                        <th id=\"T_163ae098_7cbd_11eb_8109_4ccc6addfe54level0_row3\" class=\"row_heading level0 row3\" >Velvatex College of Beauty Culture</th>\n",
       "                        <td id=\"T_163ae098_7cbd_11eb_8109_4ccc6addfe54row3_col0\" class=\"data row3 col0\" >nan</td>\n",
       "                        <td id=\"T_163ae098_7cbd_11eb_8109_4ccc6addfe54row3_col1\" class=\"data row3 col1\" >nan</td>\n",
       "                        <td id=\"T_163ae098_7cbd_11eb_8109_4ccc6addfe54row3_col2\" class=\"data row3 col2\" >25.000000</td>\n",
       "                        <td id=\"T_163ae098_7cbd_11eb_8109_4ccc6addfe54row3_col3\" class=\"data row3 col3\" >0.000000</td>\n",
       "                        <td id=\"T_163ae098_7cbd_11eb_8109_4ccc6addfe54row3_col4\" class=\"data row3 col4\" >1.000000</td>\n",
       "                        <td id=\"T_163ae098_7cbd_11eb_8109_4ccc6addfe54row3_col5\" class=\"data row3 col5\" >0.000000</td>\n",
       "                        <td id=\"T_163ae098_7cbd_11eb_8109_4ccc6addfe54row3_col6\" class=\"data row3 col6\" >0.000000</td>\n",
       "                        <td id=\"T_163ae098_7cbd_11eb_8109_4ccc6addfe54row3_col7\" class=\"data row3 col7\" >0.000000</td>\n",
       "                        <td id=\"T_163ae098_7cbd_11eb_8109_4ccc6addfe54row3_col8\" class=\"data row3 col8\" >0.000000</td>\n",
       "                        <td id=\"T_163ae098_7cbd_11eb_8109_4ccc6addfe54row3_col9\" class=\"data row3 col9\" >0.000000</td>\n",
       "                        <td id=\"T_163ae098_7cbd_11eb_8109_4ccc6addfe54row3_col10\" class=\"data row3 col10\" >0.000000</td>\n",
       "                        <td id=\"T_163ae098_7cbd_11eb_8109_4ccc6addfe54row3_col11\" class=\"data row3 col11\" >0.000000</td>\n",
       "                        <td id=\"T_163ae098_7cbd_11eb_8109_4ccc6addfe54row3_col12\" class=\"data row3 col12\" >0.200000</td>\n",
       "                        <td id=\"T_163ae098_7cbd_11eb_8109_4ccc6addfe54row3_col13\" class=\"data row3 col13\" >0.769200</td>\n",
       "                        <td id=\"T_163ae098_7cbd_11eb_8109_4ccc6addfe54row3_col14\" class=\"data row3 col14\" >0.000000</td>\n",
       "                        <td id=\"T_163ae098_7cbd_11eb_8109_4ccc6addfe54row3_col15\" class=\"data row3 col15\" >0.520000</td>\n",
       "                        <td id=\"T_163ae098_7cbd_11eb_8109_4ccc6addfe54row3_col16\" class=\"data row3 col16\" >nan</td>\n",
       "                        <td id=\"T_163ae098_7cbd_11eb_8109_4ccc6addfe54row3_col17\" class=\"data row3 col17\" >nan</td>\n",
       "            </tr>\n",
       "            <tr>\n",
       "                        <th id=\"T_163ae098_7cbd_11eb_8109_4ccc6addfe54level0_row4\" class=\"row_heading level0 row4\" >Thunderbird School of Global Management</th>\n",
       "                        <td id=\"T_163ae098_7cbd_11eb_8109_4ccc6addfe54row4_col0\" class=\"data row4 col0\" >nan</td>\n",
       "                        <td id=\"T_163ae098_7cbd_11eb_8109_4ccc6addfe54row4_col1\" class=\"data row4 col1\" >nan</td>\n",
       "                        <td id=\"T_163ae098_7cbd_11eb_8109_4ccc6addfe54row4_col2\" class=\"data row4 col2\" >1.000000</td>\n",
       "                        <td id=\"T_163ae098_7cbd_11eb_8109_4ccc6addfe54row4_col3\" class=\"data row4 col3\" >0.000000</td>\n",
       "                        <td id=\"T_163ae098_7cbd_11eb_8109_4ccc6addfe54row4_col4\" class=\"data row4 col4\" >0.000000</td>\n",
       "                        <td id=\"T_163ae098_7cbd_11eb_8109_4ccc6addfe54row4_col5\" class=\"data row4 col5\" >1.000000</td>\n",
       "                        <td id=\"T_163ae098_7cbd_11eb_8109_4ccc6addfe54row4_col6\" class=\"data row4 col6\" >0.000000</td>\n",
       "                        <td id=\"T_163ae098_7cbd_11eb_8109_4ccc6addfe54row4_col7\" class=\"data row4 col7\" >0.000000</td>\n",
       "                        <td id=\"T_163ae098_7cbd_11eb_8109_4ccc6addfe54row4_col8\" class=\"data row4 col8\" >0.000000</td>\n",
       "                        <td id=\"T_163ae098_7cbd_11eb_8109_4ccc6addfe54row4_col9\" class=\"data row4 col9\" >0.000000</td>\n",
       "                        <td id=\"T_163ae098_7cbd_11eb_8109_4ccc6addfe54row4_col10\" class=\"data row4 col10\" >0.000000</td>\n",
       "                        <td id=\"T_163ae098_7cbd_11eb_8109_4ccc6addfe54row4_col11\" class=\"data row4 col11\" >0.000000</td>\n",
       "                        <td id=\"T_163ae098_7cbd_11eb_8109_4ccc6addfe54row4_col12\" class=\"data row4 col12\" >1.000000</td>\n",
       "                        <td id=\"T_163ae098_7cbd_11eb_8109_4ccc6addfe54row4_col13\" class=\"data row4 col13\" >0.000000</td>\n",
       "                        <td id=\"T_163ae098_7cbd_11eb_8109_4ccc6addfe54row4_col14\" class=\"data row4 col14\" >0.000000</td>\n",
       "                        <td id=\"T_163ae098_7cbd_11eb_8109_4ccc6addfe54row4_col15\" class=\"data row4 col15\" >0.000000</td>\n",
       "                        <td id=\"T_163ae098_7cbd_11eb_8109_4ccc6addfe54row4_col16\" class=\"data row4 col16\" >118900.000000</td>\n",
       "                        <td id=\"T_163ae098_7cbd_11eb_8109_4ccc6addfe54row4_col17\" class=\"data row4 col17\" >nan</td>\n",
       "            </tr>\n",
       "            <tr>\n",
       "                        <th id=\"T_163ae098_7cbd_11eb_8109_4ccc6addfe54level0_row5\" class=\"row_heading level0 row5\" >Cosmopolitan Beauty and Tech School</th>\n",
       "                        <td id=\"T_163ae098_7cbd_11eb_8109_4ccc6addfe54row5_col0\" class=\"data row5 col0\" >nan</td>\n",
       "                        <td id=\"T_163ae098_7cbd_11eb_8109_4ccc6addfe54row5_col1\" class=\"data row5 col1\" >nan</td>\n",
       "                        <td id=\"T_163ae098_7cbd_11eb_8109_4ccc6addfe54row5_col2\" class=\"data row5 col2\" >110.000000</td>\n",
       "                        <td id=\"T_163ae098_7cbd_11eb_8109_4ccc6addfe54row5_col3\" class=\"data row5 col3\" >0.009100</td>\n",
       "                        <td id=\"T_163ae098_7cbd_11eb_8109_4ccc6addfe54row5_col4\" class=\"data row5 col4\" >0.000000</td>\n",
       "                        <td id=\"T_163ae098_7cbd_11eb_8109_4ccc6addfe54row5_col5\" class=\"data row5 col5\" >0.018200</td>\n",
       "                        <td id=\"T_163ae098_7cbd_11eb_8109_4ccc6addfe54row5_col6\" class=\"data row5 col6\" >0.972700</td>\n",
       "                        <td id=\"T_163ae098_7cbd_11eb_8109_4ccc6addfe54row5_col7\" class=\"data row5 col7\" >0.000000</td>\n",
       "                        <td id=\"T_163ae098_7cbd_11eb_8109_4ccc6addfe54row5_col8\" class=\"data row5 col8\" >0.000000</td>\n",
       "                        <td id=\"T_163ae098_7cbd_11eb_8109_4ccc6addfe54row5_col9\" class=\"data row5 col9\" >0.000000</td>\n",
       "                        <td id=\"T_163ae098_7cbd_11eb_8109_4ccc6addfe54row5_col10\" class=\"data row5 col10\" >0.000000</td>\n",
       "                        <td id=\"T_163ae098_7cbd_11eb_8109_4ccc6addfe54row5_col11\" class=\"data row5 col11\" >0.000000</td>\n",
       "                        <td id=\"T_163ae098_7cbd_11eb_8109_4ccc6addfe54row5_col12\" class=\"data row5 col12\" >0.318200</td>\n",
       "                        <td id=\"T_163ae098_7cbd_11eb_8109_4ccc6addfe54row5_col13\" class=\"data row5 col13\" >0.776100</td>\n",
       "                        <td id=\"T_163ae098_7cbd_11eb_8109_4ccc6addfe54row5_col14\" class=\"data row5 col14\" >0.124400</td>\n",
       "                        <td id=\"T_163ae098_7cbd_11eb_8109_4ccc6addfe54row5_col15\" class=\"data row5 col15\" >0.954500</td>\n",
       "                        <td id=\"T_163ae098_7cbd_11eb_8109_4ccc6addfe54row5_col16\" class=\"data row5 col16\" >nan</td>\n",
       "                        <td id=\"T_163ae098_7cbd_11eb_8109_4ccc6addfe54row5_col17\" class=\"data row5 col17\" >nan</td>\n",
       "            </tr>\n",
       "            <tr>\n",
       "                        <th id=\"T_163ae098_7cbd_11eb_8109_4ccc6addfe54level0_row6\" class=\"row_heading level0 row6\" >Haskell Indian Nations University</th>\n",
       "                        <td id=\"T_163ae098_7cbd_11eb_8109_4ccc6addfe54row6_col0\" class=\"data row6 col0\" >430.000000</td>\n",
       "                        <td id=\"T_163ae098_7cbd_11eb_8109_4ccc6addfe54row6_col1\" class=\"data row6 col1\" >440.000000</td>\n",
       "                        <td id=\"T_163ae098_7cbd_11eb_8109_4ccc6addfe54row6_col2\" class=\"data row6 col2\" >805.000000</td>\n",
       "                        <td id=\"T_163ae098_7cbd_11eb_8109_4ccc6addfe54row6_col3\" class=\"data row6 col3\" >0.000000</td>\n",
       "                        <td id=\"T_163ae098_7cbd_11eb_8109_4ccc6addfe54row6_col4\" class=\"data row6 col4\" >0.000000</td>\n",
       "                        <td id=\"T_163ae098_7cbd_11eb_8109_4ccc6addfe54row6_col5\" class=\"data row6 col5\" >0.000000</td>\n",
       "                        <td id=\"T_163ae098_7cbd_11eb_8109_4ccc6addfe54row6_col6\" class=\"data row6 col6\" >0.000000</td>\n",
       "                        <td id=\"T_163ae098_7cbd_11eb_8109_4ccc6addfe54row6_col7\" class=\"data row6 col7\" >1.000000</td>\n",
       "                        <td id=\"T_163ae098_7cbd_11eb_8109_4ccc6addfe54row6_col8\" class=\"data row6 col8\" >0.000000</td>\n",
       "                        <td id=\"T_163ae098_7cbd_11eb_8109_4ccc6addfe54row6_col9\" class=\"data row6 col9\" >0.000000</td>\n",
       "                        <td id=\"T_163ae098_7cbd_11eb_8109_4ccc6addfe54row6_col10\" class=\"data row6 col10\" >0.000000</td>\n",
       "                        <td id=\"T_163ae098_7cbd_11eb_8109_4ccc6addfe54row6_col11\" class=\"data row6 col11\" >0.000000</td>\n",
       "                        <td id=\"T_163ae098_7cbd_11eb_8109_4ccc6addfe54row6_col12\" class=\"data row6 col12\" >0.022400</td>\n",
       "                        <td id=\"T_163ae098_7cbd_11eb_8109_4ccc6addfe54row6_col13\" class=\"data row6 col13\" >0.839600</td>\n",
       "                        <td id=\"T_163ae098_7cbd_11eb_8109_4ccc6addfe54row6_col14\" class=\"data row6 col14\" >0.000000</td>\n",
       "                        <td id=\"T_163ae098_7cbd_11eb_8109_4ccc6addfe54row6_col15\" class=\"data row6 col15\" >0.208900</td>\n",
       "                        <td id=\"T_163ae098_7cbd_11eb_8109_4ccc6addfe54row6_col16\" class=\"data row6 col16\" >22800.000000</td>\n",
       "                        <td id=\"T_163ae098_7cbd_11eb_8109_4ccc6addfe54row6_col17\" class=\"data row6 col17\" >nan</td>\n",
       "            </tr>\n",
       "            <tr>\n",
       "                        <th id=\"T_163ae098_7cbd_11eb_8109_4ccc6addfe54level0_row7\" class=\"row_heading level0 row7\" >Palau Community College</th>\n",
       "                        <td id=\"T_163ae098_7cbd_11eb_8109_4ccc6addfe54row7_col0\" class=\"data row7 col0\" >nan</td>\n",
       "                        <td id=\"T_163ae098_7cbd_11eb_8109_4ccc6addfe54row7_col1\" class=\"data row7 col1\" >nan</td>\n",
       "                        <td id=\"T_163ae098_7cbd_11eb_8109_4ccc6addfe54row7_col2\" class=\"data row7 col2\" >602.000000</td>\n",
       "                        <td id=\"T_163ae098_7cbd_11eb_8109_4ccc6addfe54row7_col3\" class=\"data row7 col3\" >0.000000</td>\n",
       "                        <td id=\"T_163ae098_7cbd_11eb_8109_4ccc6addfe54row7_col4\" class=\"data row7 col4\" >0.001700</td>\n",
       "                        <td id=\"T_163ae098_7cbd_11eb_8109_4ccc6addfe54row7_col5\" class=\"data row7 col5\" >0.000000</td>\n",
       "                        <td id=\"T_163ae098_7cbd_11eb_8109_4ccc6addfe54row7_col6\" class=\"data row7 col6\" >0.000000</td>\n",
       "                        <td id=\"T_163ae098_7cbd_11eb_8109_4ccc6addfe54row7_col7\" class=\"data row7 col7\" >0.000000</td>\n",
       "                        <td id=\"T_163ae098_7cbd_11eb_8109_4ccc6addfe54row7_col8\" class=\"data row7 col8\" >0.998300</td>\n",
       "                        <td id=\"T_163ae098_7cbd_11eb_8109_4ccc6addfe54row7_col9\" class=\"data row7 col9\" >0.000000</td>\n",
       "                        <td id=\"T_163ae098_7cbd_11eb_8109_4ccc6addfe54row7_col10\" class=\"data row7 col10\" >0.000000</td>\n",
       "                        <td id=\"T_163ae098_7cbd_11eb_8109_4ccc6addfe54row7_col11\" class=\"data row7 col11\" >0.000000</td>\n",
       "                        <td id=\"T_163ae098_7cbd_11eb_8109_4ccc6addfe54row7_col12\" class=\"data row7 col12\" >0.388700</td>\n",
       "                        <td id=\"T_163ae098_7cbd_11eb_8109_4ccc6addfe54row7_col13\" class=\"data row7 col13\" >0.856000</td>\n",
       "                        <td id=\"T_163ae098_7cbd_11eb_8109_4ccc6addfe54row7_col14\" class=\"data row7 col14\" >0.000000</td>\n",
       "                        <td id=\"T_163ae098_7cbd_11eb_8109_4ccc6addfe54row7_col15\" class=\"data row7 col15\" >0.261600</td>\n",
       "                        <td id=\"T_163ae098_7cbd_11eb_8109_4ccc6addfe54row7_col16\" class=\"data row7 col16\" >24700.000000</td>\n",
       "                        <td id=\"T_163ae098_7cbd_11eb_8109_4ccc6addfe54row7_col17\" class=\"data row7 col17\" >nan</td>\n",
       "            </tr>\n",
       "            <tr>\n",
       "                        <th id=\"T_163ae098_7cbd_11eb_8109_4ccc6addfe54level0_row8\" class=\"row_heading level0 row8\" >LIU Brentwood</th>\n",
       "                        <td id=\"T_163ae098_7cbd_11eb_8109_4ccc6addfe54row8_col0\" class=\"data row8 col0\" >nan</td>\n",
       "                        <td id=\"T_163ae098_7cbd_11eb_8109_4ccc6addfe54row8_col1\" class=\"data row8 col1\" >nan</td>\n",
       "                        <td id=\"T_163ae098_7cbd_11eb_8109_4ccc6addfe54row8_col2\" class=\"data row8 col2\" >15.000000</td>\n",
       "                        <td id=\"T_163ae098_7cbd_11eb_8109_4ccc6addfe54row8_col3\" class=\"data row8 col3\" >0.000000</td>\n",
       "                        <td id=\"T_163ae098_7cbd_11eb_8109_4ccc6addfe54row8_col4\" class=\"data row8 col4\" >0.133300</td>\n",
       "                        <td id=\"T_163ae098_7cbd_11eb_8109_4ccc6addfe54row8_col5\" class=\"data row8 col5\" >0.266700</td>\n",
       "                        <td id=\"T_163ae098_7cbd_11eb_8109_4ccc6addfe54row8_col6\" class=\"data row8 col6\" >0.000000</td>\n",
       "                        <td id=\"T_163ae098_7cbd_11eb_8109_4ccc6addfe54row8_col7\" class=\"data row8 col7\" >0.000000</td>\n",
       "                        <td id=\"T_163ae098_7cbd_11eb_8109_4ccc6addfe54row8_col8\" class=\"data row8 col8\" >0.000000</td>\n",
       "                        <td id=\"T_163ae098_7cbd_11eb_8109_4ccc6addfe54row8_col9\" class=\"data row8 col9\" >0.533300</td>\n",
       "                        <td id=\"T_163ae098_7cbd_11eb_8109_4ccc6addfe54row8_col10\" class=\"data row8 col10\" >0.000000</td>\n",
       "                        <td id=\"T_163ae098_7cbd_11eb_8109_4ccc6addfe54row8_col11\" class=\"data row8 col11\" >0.066700</td>\n",
       "                        <td id=\"T_163ae098_7cbd_11eb_8109_4ccc6addfe54row8_col12\" class=\"data row8 col12\" >0.400000</td>\n",
       "                        <td id=\"T_163ae098_7cbd_11eb_8109_4ccc6addfe54row8_col13\" class=\"data row8 col13\" >0.565200</td>\n",
       "                        <td id=\"T_163ae098_7cbd_11eb_8109_4ccc6addfe54row8_col14\" class=\"data row8 col14\" >0.782600</td>\n",
       "                        <td id=\"T_163ae098_7cbd_11eb_8109_4ccc6addfe54row8_col15\" class=\"data row8 col15\" >0.782600</td>\n",
       "                        <td id=\"T_163ae098_7cbd_11eb_8109_4ccc6addfe54row8_col16\" class=\"data row8 col16\" >44600.000000</td>\n",
       "                        <td id=\"T_163ae098_7cbd_11eb_8109_4ccc6addfe54row8_col17\" class=\"data row8 col17\" >25499.000000</td>\n",
       "            </tr>\n",
       "            <tr>\n",
       "                        <th id=\"T_163ae098_7cbd_11eb_8109_4ccc6addfe54level0_row9\" class=\"row_heading level0 row9\" >California University of Management and Sciences</th>\n",
       "                        <td id=\"T_163ae098_7cbd_11eb_8109_4ccc6addfe54row9_col0\" class=\"data row9 col0\" >nan</td>\n",
       "                        <td id=\"T_163ae098_7cbd_11eb_8109_4ccc6addfe54row9_col1\" class=\"data row9 col1\" >nan</td>\n",
       "                        <td id=\"T_163ae098_7cbd_11eb_8109_4ccc6addfe54row9_col2\" class=\"data row9 col2\" >98.000000</td>\n",
       "                        <td id=\"T_163ae098_7cbd_11eb_8109_4ccc6addfe54row9_col3\" class=\"data row9 col3\" >0.010200</td>\n",
       "                        <td id=\"T_163ae098_7cbd_11eb_8109_4ccc6addfe54row9_col4\" class=\"data row9 col4\" >0.020400</td>\n",
       "                        <td id=\"T_163ae098_7cbd_11eb_8109_4ccc6addfe54row9_col5\" class=\"data row9 col5\" >0.000000</td>\n",
       "                        <td id=\"T_163ae098_7cbd_11eb_8109_4ccc6addfe54row9_col6\" class=\"data row9 col6\" >0.040800</td>\n",
       "                        <td id=\"T_163ae098_7cbd_11eb_8109_4ccc6addfe54row9_col7\" class=\"data row9 col7\" >0.000000</td>\n",
       "                        <td id=\"T_163ae098_7cbd_11eb_8109_4ccc6addfe54row9_col8\" class=\"data row9 col8\" >0.000000</td>\n",
       "                        <td id=\"T_163ae098_7cbd_11eb_8109_4ccc6addfe54row9_col9\" class=\"data row9 col9\" >0.000000</td>\n",
       "                        <td id=\"T_163ae098_7cbd_11eb_8109_4ccc6addfe54row9_col10\" class=\"data row9 col10\" >0.928600</td>\n",
       "                        <td id=\"T_163ae098_7cbd_11eb_8109_4ccc6addfe54row9_col11\" class=\"data row9 col11\" >0.000000</td>\n",
       "                        <td id=\"T_163ae098_7cbd_11eb_8109_4ccc6addfe54row9_col12\" class=\"data row9 col12\" >0.000000</td>\n",
       "                        <td id=\"T_163ae098_7cbd_11eb_8109_4ccc6addfe54row9_col13\" class=\"data row9 col13\" >0.092600</td>\n",
       "                        <td id=\"T_163ae098_7cbd_11eb_8109_4ccc6addfe54row9_col14\" class=\"data row9 col14\" >0.055600</td>\n",
       "                        <td id=\"T_163ae098_7cbd_11eb_8109_4ccc6addfe54row9_col15\" class=\"data row9 col15\" >0.685200</td>\n",
       "                        <td id=\"T_163ae098_7cbd_11eb_8109_4ccc6addfe54row9_col16\" class=\"data row9 col16\" >nan</td>\n",
       "                        <td id=\"T_163ae098_7cbd_11eb_8109_4ccc6addfe54row9_col17\" class=\"data row9 col17\" >nan</td>\n",
       "            </tr>\n",
       "            <tr>\n",
       "                        <th id=\"T_163ae098_7cbd_11eb_8109_4ccc6addfe54level0_row10\" class=\"row_heading level0 row10\" >Le Cordon Bleu College of Culinary Arts-San Francisco</th>\n",
       "                        <td id=\"T_163ae098_7cbd_11eb_8109_4ccc6addfe54row10_col0\" class=\"data row10 col0\" >nan</td>\n",
       "                        <td id=\"T_163ae098_7cbd_11eb_8109_4ccc6addfe54row10_col1\" class=\"data row10 col1\" >nan</td>\n",
       "                        <td id=\"T_163ae098_7cbd_11eb_8109_4ccc6addfe54row10_col2\" class=\"data row10 col2\" >442.000000</td>\n",
       "                        <td id=\"T_163ae098_7cbd_11eb_8109_4ccc6addfe54row10_col3\" class=\"data row10 col3\" >0.031700</td>\n",
       "                        <td id=\"T_163ae098_7cbd_11eb_8109_4ccc6addfe54row10_col4\" class=\"data row10 col4\" >0.009000</td>\n",
       "                        <td id=\"T_163ae098_7cbd_11eb_8109_4ccc6addfe54row10_col5\" class=\"data row10 col5\" >0.011300</td>\n",
       "                        <td id=\"T_163ae098_7cbd_11eb_8109_4ccc6addfe54row10_col6\" class=\"data row10 col6\" >0.027100</td>\n",
       "                        <td id=\"T_163ae098_7cbd_11eb_8109_4ccc6addfe54row10_col7\" class=\"data row10 col7\" >0.004500</td>\n",
       "                        <td id=\"T_163ae098_7cbd_11eb_8109_4ccc6addfe54row10_col8\" class=\"data row10 col8\" >0.002300</td>\n",
       "                        <td id=\"T_163ae098_7cbd_11eb_8109_4ccc6addfe54row10_col9\" class=\"data row10 col9\" >0.011300</td>\n",
       "                        <td id=\"T_163ae098_7cbd_11eb_8109_4ccc6addfe54row10_col10\" class=\"data row10 col10\" >0.000000</td>\n",
       "                        <td id=\"T_163ae098_7cbd_11eb_8109_4ccc6addfe54row10_col11\" class=\"data row10 col11\" >0.902700</td>\n",
       "                        <td id=\"T_163ae098_7cbd_11eb_8109_4ccc6addfe54row10_col12\" class=\"data row10 col12\" >0.000000</td>\n",
       "                        <td id=\"T_163ae098_7cbd_11eb_8109_4ccc6addfe54row10_col13\" class=\"data row10 col13\" >0.372200</td>\n",
       "                        <td id=\"T_163ae098_7cbd_11eb_8109_4ccc6addfe54row10_col14\" class=\"data row10 col14\" >0.535800</td>\n",
       "                        <td id=\"T_163ae098_7cbd_11eb_8109_4ccc6addfe54row10_col15\" class=\"data row10 col15\" >0.544000</td>\n",
       "                        <td id=\"T_163ae098_7cbd_11eb_8109_4ccc6addfe54row10_col16\" class=\"data row10 col16\" >34000.000000</td>\n",
       "                        <td id=\"T_163ae098_7cbd_11eb_8109_4ccc6addfe54row10_col17\" class=\"data row10 col17\" >12931.000000</td>\n",
       "            </tr>\n",
       "            <tr>\n",
       "                        <th id=\"T_163ae098_7cbd_11eb_8109_4ccc6addfe54level0_row11\" class=\"row_heading level0 row11\" >MTI Business College Inc</th>\n",
       "                        <td id=\"T_163ae098_7cbd_11eb_8109_4ccc6addfe54row11_col0\" class=\"data row11 col0\" >nan</td>\n",
       "                        <td id=\"T_163ae098_7cbd_11eb_8109_4ccc6addfe54row11_col1\" class=\"data row11 col1\" >nan</td>\n",
       "                        <td id=\"T_163ae098_7cbd_11eb_8109_4ccc6addfe54row11_col2\" class=\"data row11 col2\" >146.000000</td>\n",
       "                        <td id=\"T_163ae098_7cbd_11eb_8109_4ccc6addfe54row11_col3\" class=\"data row11 col3\" >0.239700</td>\n",
       "                        <td id=\"T_163ae098_7cbd_11eb_8109_4ccc6addfe54row11_col4\" class=\"data row11 col4\" >0.513700</td>\n",
       "                        <td id=\"T_163ae098_7cbd_11eb_8109_4ccc6addfe54row11_col5\" class=\"data row11 col5\" >0.143800</td>\n",
       "                        <td id=\"T_163ae098_7cbd_11eb_8109_4ccc6addfe54row11_col6\" class=\"data row11 col6\" >0.047900</td>\n",
       "                        <td id=\"T_163ae098_7cbd_11eb_8109_4ccc6addfe54row11_col7\" class=\"data row11 col7\" >0.034200</td>\n",
       "                        <td id=\"T_163ae098_7cbd_11eb_8109_4ccc6addfe54row11_col8\" class=\"data row11 col8\" >0.020500</td>\n",
       "                        <td id=\"T_163ae098_7cbd_11eb_8109_4ccc6addfe54row11_col9\" class=\"data row11 col9\" >0.000000</td>\n",
       "                        <td id=\"T_163ae098_7cbd_11eb_8109_4ccc6addfe54row11_col10\" class=\"data row11 col10\" >0.000000</td>\n",
       "                        <td id=\"T_163ae098_7cbd_11eb_8109_4ccc6addfe54row11_col11\" class=\"data row11 col11\" >0.000000</td>\n",
       "                        <td id=\"T_163ae098_7cbd_11eb_8109_4ccc6addfe54row11_col12\" class=\"data row11 col12\" >0.000000</td>\n",
       "                        <td id=\"T_163ae098_7cbd_11eb_8109_4ccc6addfe54row11_col13\" class=\"data row11 col13\" >1.000000</td>\n",
       "                        <td id=\"T_163ae098_7cbd_11eb_8109_4ccc6addfe54row11_col14\" class=\"data row11 col14\" >1.000000</td>\n",
       "                        <td id=\"T_163ae098_7cbd_11eb_8109_4ccc6addfe54row11_col15\" class=\"data row11 col15\" >0.398600</td>\n",
       "                        <td id=\"T_163ae098_7cbd_11eb_8109_4ccc6addfe54row11_col16\" class=\"data row11 col16\" >23000.000000</td>\n",
       "                        <td id=\"T_163ae098_7cbd_11eb_8109_4ccc6addfe54row11_col17\" class=\"data row11 col17\" >9500.000000</td>\n",
       "            </tr>\n",
       "            <tr>\n",
       "                        <th id=\"T_163ae098_7cbd_11eb_8109_4ccc6addfe54level0_row12\" class=\"row_heading level0 row12\" >ABC Beauty College Inc</th>\n",
       "                        <td id=\"T_163ae098_7cbd_11eb_8109_4ccc6addfe54row12_col0\" class=\"data row12 col0\" >nan</td>\n",
       "                        <td id=\"T_163ae098_7cbd_11eb_8109_4ccc6addfe54row12_col1\" class=\"data row12 col1\" >nan</td>\n",
       "                        <td id=\"T_163ae098_7cbd_11eb_8109_4ccc6addfe54row12_col2\" class=\"data row12 col2\" >38.000000</td>\n",
       "                        <td id=\"T_163ae098_7cbd_11eb_8109_4ccc6addfe54row12_col3\" class=\"data row12 col3\" >0.289500</td>\n",
       "                        <td id=\"T_163ae098_7cbd_11eb_8109_4ccc6addfe54row12_col4\" class=\"data row12 col4\" >0.657900</td>\n",
       "                        <td id=\"T_163ae098_7cbd_11eb_8109_4ccc6addfe54row12_col5\" class=\"data row12 col5\" >0.052600</td>\n",
       "                        <td id=\"T_163ae098_7cbd_11eb_8109_4ccc6addfe54row12_col6\" class=\"data row12 col6\" >0.000000</td>\n",
       "                        <td id=\"T_163ae098_7cbd_11eb_8109_4ccc6addfe54row12_col7\" class=\"data row12 col7\" >0.000000</td>\n",
       "                        <td id=\"T_163ae098_7cbd_11eb_8109_4ccc6addfe54row12_col8\" class=\"data row12 col8\" >0.000000</td>\n",
       "                        <td id=\"T_163ae098_7cbd_11eb_8109_4ccc6addfe54row12_col9\" class=\"data row12 col9\" >0.000000</td>\n",
       "                        <td id=\"T_163ae098_7cbd_11eb_8109_4ccc6addfe54row12_col10\" class=\"data row12 col10\" >0.000000</td>\n",
       "                        <td id=\"T_163ae098_7cbd_11eb_8109_4ccc6addfe54row12_col11\" class=\"data row12 col11\" >0.000000</td>\n",
       "                        <td id=\"T_163ae098_7cbd_11eb_8109_4ccc6addfe54row12_col12\" class=\"data row12 col12\" >0.210500</td>\n",
       "                        <td id=\"T_163ae098_7cbd_11eb_8109_4ccc6addfe54row12_col13\" class=\"data row12 col13\" >0.981500</td>\n",
       "                        <td id=\"T_163ae098_7cbd_11eb_8109_4ccc6addfe54row12_col14\" class=\"data row12 col14\" >1.000000</td>\n",
       "                        <td id=\"T_163ae098_7cbd_11eb_8109_4ccc6addfe54row12_col15\" class=\"data row12 col15\" >0.468800</td>\n",
       "                        <td id=\"T_163ae098_7cbd_11eb_8109_4ccc6addfe54row12_col16\" class=\"data row12 col16\" >nan</td>\n",
       "                        <td id=\"T_163ae098_7cbd_11eb_8109_4ccc6addfe54row12_col17\" class=\"data row12 col17\" >16500.000000</td>\n",
       "            </tr>\n",
       "            <tr>\n",
       "                        <th id=\"T_163ae098_7cbd_11eb_8109_4ccc6addfe54level0_row13\" class=\"row_heading level0 row13\" >Dongguk University-Los Angeles</th>\n",
       "                        <td id=\"T_163ae098_7cbd_11eb_8109_4ccc6addfe54row13_col0\" class=\"data row13 col0\" >nan</td>\n",
       "                        <td id=\"T_163ae098_7cbd_11eb_8109_4ccc6addfe54row13_col1\" class=\"data row13 col1\" >nan</td>\n",
       "                        <td id=\"T_163ae098_7cbd_11eb_8109_4ccc6addfe54row13_col2\" class=\"data row13 col2\" >20.000000</td>\n",
       "                        <td id=\"T_163ae098_7cbd_11eb_8109_4ccc6addfe54row13_col3\" class=\"data row13 col3\" >0.350000</td>\n",
       "                        <td id=\"T_163ae098_7cbd_11eb_8109_4ccc6addfe54row13_col4\" class=\"data row13 col4\" >0.000000</td>\n",
       "                        <td id=\"T_163ae098_7cbd_11eb_8109_4ccc6addfe54row13_col5\" class=\"data row13 col5\" >0.150000</td>\n",
       "                        <td id=\"T_163ae098_7cbd_11eb_8109_4ccc6addfe54row13_col6\" class=\"data row13 col6\" >0.500000</td>\n",
       "                        <td id=\"T_163ae098_7cbd_11eb_8109_4ccc6addfe54row13_col7\" class=\"data row13 col7\" >0.000000</td>\n",
       "                        <td id=\"T_163ae098_7cbd_11eb_8109_4ccc6addfe54row13_col8\" class=\"data row13 col8\" >0.000000</td>\n",
       "                        <td id=\"T_163ae098_7cbd_11eb_8109_4ccc6addfe54row13_col9\" class=\"data row13 col9\" >0.000000</td>\n",
       "                        <td id=\"T_163ae098_7cbd_11eb_8109_4ccc6addfe54row13_col10\" class=\"data row13 col10\" >0.000000</td>\n",
       "                        <td id=\"T_163ae098_7cbd_11eb_8109_4ccc6addfe54row13_col11\" class=\"data row13 col11\" >0.000000</td>\n",
       "                        <td id=\"T_163ae098_7cbd_11eb_8109_4ccc6addfe54row13_col12\" class=\"data row13 col12\" >nan</td>\n",
       "                        <td id=\"T_163ae098_7cbd_11eb_8109_4ccc6addfe54row13_col13\" class=\"data row13 col13\" >nan</td>\n",
       "                        <td id=\"T_163ae098_7cbd_11eb_8109_4ccc6addfe54row13_col14\" class=\"data row13 col14\" >nan</td>\n",
       "                        <td id=\"T_163ae098_7cbd_11eb_8109_4ccc6addfe54row13_col15\" class=\"data row13 col15\" >1.000000</td>\n",
       "                        <td id=\"T_163ae098_7cbd_11eb_8109_4ccc6addfe54row13_col16\" class=\"data row13 col16\" >nan</td>\n",
       "                        <td id=\"T_163ae098_7cbd_11eb_8109_4ccc6addfe54row13_col17\" class=\"data row13 col17\" >nan</td>\n",
       "            </tr>\n",
       "            <tr>\n",
       "                        <th id=\"T_163ae098_7cbd_11eb_8109_4ccc6addfe54level0_row14\" class=\"row_heading level0 row14\" >Medical College of Wisconsin</th>\n",
       "                        <td id=\"T_163ae098_7cbd_11eb_8109_4ccc6addfe54row14_col0\" class=\"data row14 col0\" >nan</td>\n",
       "                        <td id=\"T_163ae098_7cbd_11eb_8109_4ccc6addfe54row14_col1\" class=\"data row14 col1\" >nan</td>\n",
       "                        <td id=\"T_163ae098_7cbd_11eb_8109_4ccc6addfe54row14_col2\" class=\"data row14 col2\" >nan</td>\n",
       "                        <td id=\"T_163ae098_7cbd_11eb_8109_4ccc6addfe54row14_col3\" class=\"data row14 col3\" >nan</td>\n",
       "                        <td id=\"T_163ae098_7cbd_11eb_8109_4ccc6addfe54row14_col4\" class=\"data row14 col4\" >nan</td>\n",
       "                        <td id=\"T_163ae098_7cbd_11eb_8109_4ccc6addfe54row14_col5\" class=\"data row14 col5\" >nan</td>\n",
       "                        <td id=\"T_163ae098_7cbd_11eb_8109_4ccc6addfe54row14_col6\" class=\"data row14 col6\" >nan</td>\n",
       "                        <td id=\"T_163ae098_7cbd_11eb_8109_4ccc6addfe54row14_col7\" class=\"data row14 col7\" >nan</td>\n",
       "                        <td id=\"T_163ae098_7cbd_11eb_8109_4ccc6addfe54row14_col8\" class=\"data row14 col8\" >nan</td>\n",
       "                        <td id=\"T_163ae098_7cbd_11eb_8109_4ccc6addfe54row14_col9\" class=\"data row14 col9\" >nan</td>\n",
       "                        <td id=\"T_163ae098_7cbd_11eb_8109_4ccc6addfe54row14_col10\" class=\"data row14 col10\" >nan</td>\n",
       "                        <td id=\"T_163ae098_7cbd_11eb_8109_4ccc6addfe54row14_col11\" class=\"data row14 col11\" >nan</td>\n",
       "                        <td id=\"T_163ae098_7cbd_11eb_8109_4ccc6addfe54row14_col12\" class=\"data row14 col12\" >nan</td>\n",
       "                        <td id=\"T_163ae098_7cbd_11eb_8109_4ccc6addfe54row14_col13\" class=\"data row14 col13\" >nan</td>\n",
       "                        <td id=\"T_163ae098_7cbd_11eb_8109_4ccc6addfe54row14_col14\" class=\"data row14 col14\" >nan</td>\n",
       "                        <td id=\"T_163ae098_7cbd_11eb_8109_4ccc6addfe54row14_col15\" class=\"data row14 col15\" >nan</td>\n",
       "                        <td id=\"T_163ae098_7cbd_11eb_8109_4ccc6addfe54row14_col16\" class=\"data row14 col16\" >233100.000000</td>\n",
       "                        <td id=\"T_163ae098_7cbd_11eb_8109_4ccc6addfe54row14_col17\" class=\"data row14 col17\" >nan</td>\n",
       "            </tr>\n",
       "            <tr>\n",
       "                        <th id=\"T_163ae098_7cbd_11eb_8109_4ccc6addfe54level0_row15\" class=\"row_heading level0 row15\" >Southwest University of Visual Arts-Tucson</th>\n",
       "                        <td id=\"T_163ae098_7cbd_11eb_8109_4ccc6addfe54row15_col0\" class=\"data row15 col0\" >nan</td>\n",
       "                        <td id=\"T_163ae098_7cbd_11eb_8109_4ccc6addfe54row15_col1\" class=\"data row15 col1\" >nan</td>\n",
       "                        <td id=\"T_163ae098_7cbd_11eb_8109_4ccc6addfe54row15_col2\" class=\"data row15 col2\" >161.000000</td>\n",
       "                        <td id=\"T_163ae098_7cbd_11eb_8109_4ccc6addfe54row15_col3\" class=\"data row15 col3\" >0.453400</td>\n",
       "                        <td id=\"T_163ae098_7cbd_11eb_8109_4ccc6addfe54row15_col4\" class=\"data row15 col4\" >0.043500</td>\n",
       "                        <td id=\"T_163ae098_7cbd_11eb_8109_4ccc6addfe54row15_col5\" class=\"data row15 col5\" >0.316800</td>\n",
       "                        <td id=\"T_163ae098_7cbd_11eb_8109_4ccc6addfe54row15_col6\" class=\"data row15 col6\" >0.006200</td>\n",
       "                        <td id=\"T_163ae098_7cbd_11eb_8109_4ccc6addfe54row15_col7\" class=\"data row15 col7\" >0.031100</td>\n",
       "                        <td id=\"T_163ae098_7cbd_11eb_8109_4ccc6addfe54row15_col8\" class=\"data row15 col8\" >0.000000</td>\n",
       "                        <td id=\"T_163ae098_7cbd_11eb_8109_4ccc6addfe54row15_col9\" class=\"data row15 col9\" >0.000000</td>\n",
       "                        <td id=\"T_163ae098_7cbd_11eb_8109_4ccc6addfe54row15_col10\" class=\"data row15 col10\" >0.000000</td>\n",
       "                        <td id=\"T_163ae098_7cbd_11eb_8109_4ccc6addfe54row15_col11\" class=\"data row15 col11\" >0.149100</td>\n",
       "                        <td id=\"T_163ae098_7cbd_11eb_8109_4ccc6addfe54row15_col12\" class=\"data row15 col12\" >0.279500</td>\n",
       "                        <td id=\"T_163ae098_7cbd_11eb_8109_4ccc6addfe54row15_col13\" class=\"data row15 col13\" >0.446900</td>\n",
       "                        <td id=\"T_163ae098_7cbd_11eb_8109_4ccc6addfe54row15_col14\" class=\"data row15 col14\" >0.429200</td>\n",
       "                        <td id=\"T_163ae098_7cbd_11eb_8109_4ccc6addfe54row15_col15\" class=\"data row15 col15\" >0.865700</td>\n",
       "                        <td id=\"T_163ae098_7cbd_11eb_8109_4ccc6addfe54row15_col16\" class=\"data row15 col16\" >27200.000000</td>\n",
       "                        <td id=\"T_163ae098_7cbd_11eb_8109_4ccc6addfe54row15_col17\" class=\"data row15 col17\" >49750.000000</td>\n",
       "            </tr>\n",
       "    </tbody></table>"
      ],
      "text/plain": [
       "<pandas.io.formats.style.Styler at 0x29dac8a4848>"
      ]
     },
     "execution_count": 99,
     "metadata": {},
     "output_type": "execute_result"
    }
   ],
   "source": [
    "college_n2.loc[unique_max_cols].style.highlight_max()"
   ]
  },
  {
   "cell_type": "code",
   "execution_count": null,
   "id": "skilled-world",
   "metadata": {},
   "outputs": [],
   "source": []
  },
  {
   "cell_type": "code",
   "execution_count": null,
   "id": "composed-notice",
   "metadata": {},
   "outputs": [],
   "source": []
  }
 ],
 "metadata": {
  "kernelspec": {
   "display_name": "Python 3",
   "language": "python",
   "name": "python3"
  },
  "language_info": {
   "codemirror_mode": {
    "name": "ipython",
    "version": 3
   },
   "file_extension": ".py",
   "mimetype": "text/x-python",
   "name": "python",
   "nbconvert_exporter": "python",
   "pygments_lexer": "ipython3",
   "version": "3.8.6"
  },
  "toc": {
   "base_numbering": 1,
   "nav_menu": {},
   "number_sections": true,
   "sideBar": true,
   "skip_h1_title": false,
   "title_cell": "Table of Contents",
   "title_sidebar": "Contents",
   "toc_cell": false,
   "toc_position": {},
   "toc_section_display": true,
   "toc_window_display": false
  },
  "varInspector": {
   "cols": {
    "lenName": 16,
    "lenType": 16,
    "lenVar": 40
   },
   "kernels_config": {
    "python": {
     "delete_cmd_postfix": "",
     "delete_cmd_prefix": "del ",
     "library": "var_list.py",
     "varRefreshCmd": "print(var_dic_list())"
    },
    "r": {
     "delete_cmd_postfix": ") ",
     "delete_cmd_prefix": "rm(",
     "library": "var_list.r",
     "varRefreshCmd": "cat(var_dic_list()) "
    }
   },
   "types_to_exclude": [
    "module",
    "function",
    "builtin_function_or_method",
    "instance",
    "_Feature"
   ],
   "window_display": false
  }
 },
 "nbformat": 4,
 "nbformat_minor": 5
}
